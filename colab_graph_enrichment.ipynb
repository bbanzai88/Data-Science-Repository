{
 "cells": [
  {
   "cell_type": "markdown",
   "id": "24499106",
   "metadata": {},
   "source": [
    "# Gene–Disease Network Enrichment with UniProt & BioPortal\n"
   ]
  },
  {
   "cell_type": "markdown",
   "id": "5edaff70",
   "metadata": {},
   "source": [
    "## Table of Contents\n",
    "1. [Environment Setup](#setup)\n",
    "2. [Imports](#imports)\n",
    "3. [Configuration & Parameters](#config)\n",
    "4. [Load Graph](#load-graph)\n",
    "5. [Enrich Genes with UniProt](#enrich-genes)\n",
    "6. [Enrich Diseases with MeSH/OMIM](#enrich-diseases)\n",
    "7. [Visualization](#visualization)\n",
    "8. [Save & Export](#save-export)\n",
    "9. [Next Steps](#next-steps)\n"
   ]
  },
  {
   "cell_type": "markdown",
   "id": "2d4bfa49",
   "metadata": {},
   "source": [
    "## 1. Environment Setup <a id='setup'></a>\n",
    "Install required libraries"
   ]
  },
  {
   "cell_type": "code",
   "execution_count": 20,
   "id": "edaba294",
   "metadata": {
    "colab": {
     "base_uri": "https://localhost:8080/"
    },
    "id": "wUCF9_RFL6jd",
    "outputId": "a2013d46-bc01-41b0-9a14-8f53e0cf8e7b"
   },
   "outputs": [
    {
     "name": "stdout",
     "output_type": "stream",
     "text": [
      "Collecting psycopg2-binary\n",
      "  Downloading psycopg2_binary-2.9.10-cp311-cp311-manylinux_2_17_x86_64.manylinux2014_x86_64.whl.metadata (4.9 kB)\n",
      "Requirement already satisfied: pandas in /usr/local/lib/python3.11/dist-packages (2.2.2)\n",
      "Requirement already satisfied: numpy>=1.23.2 in /usr/local/lib/python3.11/dist-packages (from pandas) (2.0.2)\n",
      "Requirement already satisfied: python-dateutil>=2.8.2 in /usr/local/lib/python3.11/dist-packages (from pandas) (2.9.0.post0)\n",
      "Requirement already satisfied: pytz>=2020.1 in /usr/local/lib/python3.11/dist-packages (from pandas) (2025.2)\n",
      "Requirement already satisfied: tzdata>=2022.7 in /usr/local/lib/python3.11/dist-packages (from pandas) (2025.2)\n",
      "Requirement already satisfied: six>=1.5 in /usr/local/lib/python3.11/dist-packages (from python-dateutil>=2.8.2->pandas) (1.17.0)\n",
      "Downloading psycopg2_binary-2.9.10-cp311-cp311-manylinux_2_17_x86_64.manylinux2014_x86_64.whl (3.0 MB)\n",
      "\u001b[?25l   \u001b[90m━━━━━━━━━━━━━━━━━━━━━━━━━━━━━━━━━━━━━━━━\u001b[0m \u001b[32m0.0/3.0 MB\u001b[0m \u001b[31m?\u001b[0m eta \u001b[36m-:--:--\u001b[0m\r",
      "\u001b[2K   \u001b[91m━━━━\u001b[0m\u001b[91m╸\u001b[0m\u001b[90m━━━━━━━━━━━━━━━━━━━━━━━━━━━━━━━━━━━\u001b[0m \u001b[32m0.4/3.0 MB\u001b[0m \u001b[31m10.5 MB/s\u001b[0m eta \u001b[36m0:00:01\u001b[0m\r",
      "\u001b[2K   \u001b[91m━━━━━━━━━━━━━━━━━━━━━━━━━━━━━━━━━━━━━━━\u001b[0m\u001b[91m╸\u001b[0m \u001b[32m3.0/3.0 MB\u001b[0m \u001b[31m51.2 MB/s\u001b[0m eta \u001b[36m0:00:01\u001b[0m\r",
      "\u001b[2K   \u001b[90m━━━━━━━━━━━━━━━━━━━━━━━━━━━━━━━━━━━━━━━━\u001b[0m \u001b[32m3.0/3.0 MB\u001b[0m \u001b[31m39.2 MB/s\u001b[0m eta \u001b[36m0:00:00\u001b[0m\n",
      "\u001b[?25hInstalling collected packages: psycopg2-binary\n",
      "Successfully installed psycopg2-binary-2.9.10\n"
     ]
    }
   ],
   "source": [
    "!pip install psycopg2-binary pandas\n"
   ]
  },
  {
   "cell_type": "code",
   "execution_count": 28,
   "id": "ec07162f",
   "metadata": {
    "colab": {
     "base_uri": "https://localhost:8080/"
    },
    "id": "l5fAcfj_M0ZQ",
    "outputId": "40282c58-729e-444e-d1a3-3567b12a2770"
   },
   "outputs": [
    {
     "name": "stdout",
     "output_type": "stream",
     "text": [
      "Collecting gql[requests]\n",
      "  Downloading gql-3.5.3-py2.py3-none-any.whl.metadata (9.4 kB)\n",
      "Collecting graphql-core<3.2.7,>=3.2 (from gql[requests])\n",
      "  Downloading graphql_core-3.2.6-py3-none-any.whl.metadata (11 kB)\n",
      "Requirement already satisfied: yarl<2.0,>=1.6 in /usr/local/lib/python3.11/dist-packages (from gql[requests]) (1.20.1)\n",
      "Collecting backoff<3.0,>=1.11.1 (from gql[requests])\n",
      "  Downloading backoff-2.2.1-py3-none-any.whl.metadata (14 kB)\n",
      "Requirement already satisfied: anyio<5,>=3.0 in /usr/local/lib/python3.11/dist-packages (from gql[requests]) (4.9.0)\n",
      "Requirement already satisfied: requests<3,>=2.26 in /usr/local/lib/python3.11/dist-packages (from gql[requests]) (2.32.3)\n",
      "Requirement already satisfied: requests-toolbelt<2,>=1.0.0 in /usr/local/lib/python3.11/dist-packages (from gql[requests]) (1.0.0)\n",
      "Requirement already satisfied: idna>=2.8 in /usr/local/lib/python3.11/dist-packages (from anyio<5,>=3.0->gql[requests]) (3.10)\n",
      "Requirement already satisfied: sniffio>=1.1 in /usr/local/lib/python3.11/dist-packages (from anyio<5,>=3.0->gql[requests]) (1.3.1)\n",
      "Requirement already satisfied: typing_extensions>=4.5 in /usr/local/lib/python3.11/dist-packages (from anyio<5,>=3.0->gql[requests]) (4.14.1)\n",
      "Requirement already satisfied: charset-normalizer<4,>=2 in /usr/local/lib/python3.11/dist-packages (from requests<3,>=2.26->gql[requests]) (3.4.2)\n",
      "Requirement already satisfied: urllib3<3,>=1.21.1 in /usr/local/lib/python3.11/dist-packages (from requests<3,>=2.26->gql[requests]) (2.4.0)\n",
      "Requirement already satisfied: certifi>=2017.4.17 in /usr/local/lib/python3.11/dist-packages (from requests<3,>=2.26->gql[requests]) (2025.7.9)\n",
      "Requirement already satisfied: multidict>=4.0 in /usr/local/lib/python3.11/dist-packages (from yarl<2.0,>=1.6->gql[requests]) (6.6.3)\n",
      "Requirement already satisfied: propcache>=0.2.1 in /usr/local/lib/python3.11/dist-packages (from yarl<2.0,>=1.6->gql[requests]) (0.3.2)\n",
      "Downloading backoff-2.2.1-py3-none-any.whl (15 kB)\n",
      "Downloading graphql_core-3.2.6-py3-none-any.whl (203 kB)\n",
      "\u001b[2K   \u001b[90m━━━━━━━━━━━━━━━━━━━━━━━━━━━━━━━━━━━━━━━━\u001b[0m \u001b[32m203.4/203.4 kB\u001b[0m \u001b[31m9.9 MB/s\u001b[0m eta \u001b[36m0:00:00\u001b[0m\n",
      "\u001b[?25hDownloading gql-3.5.3-py2.py3-none-any.whl (74 kB)\n",
      "\u001b[2K   \u001b[90m━━━━━━━━━━━━━━━━━━━━━━━━━━━━━━━━━━━━━━━━\u001b[0m \u001b[32m74.3/74.3 kB\u001b[0m \u001b[31m6.8 MB/s\u001b[0m eta \u001b[36m0:00:00\u001b[0m\n",
      "\u001b[?25hInstalling collected packages: graphql-core, backoff, gql\n",
      "Successfully installed backoff-2.2.1 gql-3.5.3 graphql-core-3.2.6\n"
     ]
    }
   ],
   "source": [
    "!pip install gql[requests]\n"
   ]
  },
  {
   "cell_type": "code",
   "execution_count": 32,
   "id": "20636f60",
   "metadata": {
    "colab": {
     "base_uri": "https://localhost:8080/"
    },
    "id": "izvTkjDEN6Fv",
    "outputId": "fc77a927-4928-4a38-9b1e-b492ebfb420e"
   },
   "outputs": [
    {
     "name": "stdout",
     "output_type": "stream",
     "text": [
      "Collecting mygene\n",
      "  Downloading mygene-3.2.2-py2.py3-none-any.whl.metadata (10 kB)\n",
      "Collecting biothings-client>=0.2.6 (from mygene)\n",
      "  Downloading biothings_client-0.4.1-py3-none-any.whl.metadata (10 kB)\n",
      "Requirement already satisfied: httpx>=0.22.0 in /usr/local/lib/python3.11/dist-packages (from biothings-client>=0.2.6->mygene) (0.28.1)\n",
      "Requirement already satisfied: anyio in /usr/local/lib/python3.11/dist-packages (from httpx>=0.22.0->biothings-client>=0.2.6->mygene) (4.9.0)\n",
      "Requirement already satisfied: certifi in /usr/local/lib/python3.11/dist-packages (from httpx>=0.22.0->biothings-client>=0.2.6->mygene) (2025.7.9)\n",
      "Requirement already satisfied: httpcore==1.* in /usr/local/lib/python3.11/dist-packages (from httpx>=0.22.0->biothings-client>=0.2.6->mygene) (1.0.9)\n",
      "Requirement already satisfied: idna in /usr/local/lib/python3.11/dist-packages (from httpx>=0.22.0->biothings-client>=0.2.6->mygene) (3.10)\n",
      "Requirement already satisfied: h11>=0.16 in /usr/local/lib/python3.11/dist-packages (from httpcore==1.*->httpx>=0.22.0->biothings-client>=0.2.6->mygene) (0.16.0)\n",
      "Requirement already satisfied: sniffio>=1.1 in /usr/local/lib/python3.11/dist-packages (from anyio->httpx>=0.22.0->biothings-client>=0.2.6->mygene) (1.3.1)\n",
      "Requirement already satisfied: typing_extensions>=4.5 in /usr/local/lib/python3.11/dist-packages (from anyio->httpx>=0.22.0->biothings-client>=0.2.6->mygene) (4.14.1)\n",
      "Downloading mygene-3.2.2-py2.py3-none-any.whl (5.4 kB)\n",
      "Downloading biothings_client-0.4.1-py3-none-any.whl (46 kB)\n",
      "\u001b[2K   \u001b[90m━━━━━━━━━━━━━━━━━━━━━━━━━━━━━━━━━━━━━━━━\u001b[0m \u001b[32m46.7/46.7 kB\u001b[0m \u001b[31m3.4 MB/s\u001b[0m eta \u001b[36m0:00:00\u001b[0m\n",
      "\u001b[?25hInstalling collected packages: biothings-client, mygene\n",
      "Successfully installed biothings-client-0.4.1 mygene-3.2.2\n"
     ]
    }
   ],
   "source": [
    "!pip install mygene\n"
   ]
  },
  {
   "cell_type": "code",
   "execution_count": 37,
   "id": "9959136c",
   "metadata": {
    "colab": {
     "base_uri": "https://localhost:8080/"
    },
    "id": "oeXNJhIHPFCt",
    "outputId": "e03aeec2-913e-4eff-b1d8-12ec514ebacd"
   },
   "outputs": [
    {
     "name": "stdout",
     "output_type": "stream",
     "text": [
      "🔎 Mapping Gene::#### nodes to Ensembl IDs...\n"
     ]
    },
    {
     "name": "stderr",
     "output_type": "stream",
     "text": [
      "\r",
      "  0%|          | 0/21 [00:00<?, ?it/s]WARNING:biothings.client:Input sequence provided is already in string format. No operation performed\n",
      "WARNING:biothings.client:Input sequence provided is already in string format. No operation performed\n",
      "INFO:biothings.client:querying 1-1000 ...\n",
      "INFO:biothings.client:Finished.\n",
      "WARNING:biothings.client:319 input query terms found no hit:\t['100127889', '100127971', '100127991', '100128001', '100128088', '100128107', '100128160', '1001281\n",
      "INFO:biothings.client:Pass \"returnall=True\" to return complete lists of duplicate or missing query terms.\n",
      "  5%|▍         | 1/21 [00:01<00:39,  1.98s/it]WARNING:biothings.client:Input sequence provided is already in string format. No operation performed\n",
      "WARNING:biothings.client:Input sequence provided is already in string format. No operation performed\n",
      "INFO:biothings.client:querying 1-1000 ...\n",
      "INFO:biothings.client:Finished.\n",
      "WARNING:biothings.client:420 input query terms found no hit:\t['102723383', '102723415', '102723418', '102723422', '102723456', '102723503', '102723613', '1027236\n",
      "INFO:biothings.client:Pass \"returnall=True\" to return complete lists of duplicate or missing query terms.\n",
      " 10%|▉         | 2/21 [00:03<00:35,  1.87s/it]WARNING:biothings.client:Input sequence provided is already in string format. No operation performed\n",
      "WARNING:biothings.client:Input sequence provided is already in string format. No operation performed\n",
      "INFO:biothings.client:querying 1-1000 ...\n",
      "INFO:biothings.client:Finished.\n",
      "WARNING:biothings.client:162 input query terms found no hit:\t['105377170', '105377189', '105377197', '105377200', '105377206', '105377207', '105377210', '1053773\n",
      "INFO:biothings.client:Pass \"returnall=True\" to return complete lists of duplicate or missing query terms.\n",
      " 14%|█▍        | 3/21 [00:05<00:33,  1.88s/it]WARNING:biothings.client:Input sequence provided is already in string format. No operation performed\n",
      "WARNING:biothings.client:Input sequence provided is already in string format. No operation performed\n",
      "INFO:biothings.client:querying 1-1000 ...\n",
      "INFO:biothings.client:Finished.\n",
      "WARNING:biothings.client:2 input query terms found no hit:\t['117153', '132250']\n",
      "INFO:biothings.client:Pass \"returnall=True\" to return complete lists of duplicate or missing query terms.\n",
      " 19%|█▉        | 4/21 [00:07<00:31,  1.86s/it]WARNING:biothings.client:Input sequence provided is already in string format. No operation performed\n",
      "WARNING:biothings.client:Input sequence provided is already in string format. No operation performed\n",
      "INFO:biothings.client:querying 1-1000 ...\n",
      "INFO:biothings.client:Finished.\n",
      "WARNING:biothings.client:11 input query terms found no hit:\t['143286', '149401', '150378', '152286', '152956', '153682', '157503', '157562', '157860', '157931',\n",
      "INFO:biothings.client:Pass \"returnall=True\" to return complete lists of duplicate or missing query terms.\n",
      " 24%|██▍       | 5/21 [00:09<00:30,  1.88s/it]WARNING:biothings.client:Input sequence provided is already in string format. No operation performed\n",
      "WARNING:biothings.client:Input sequence provided is already in string format. No operation performed\n",
      "INFO:biothings.client:querying 1-1000 ...\n",
      "INFO:biothings.client:Finished.\n",
      "WARNING:biothings.client:5 input query terms found no hit:\t['197387', '200609', '200830', '200860', '219688']\n",
      "INFO:biothings.client:Pass \"returnall=True\" to return complete lists of duplicate or missing query terms.\n",
      " 29%|██▊       | 6/21 [00:11<00:28,  1.88s/it]WARNING:biothings.client:Input sequence provided is already in string format. No operation performed\n",
      "WARNING:biothings.client:Input sequence provided is already in string format. No operation performed\n",
      "INFO:biothings.client:querying 1-1000 ...\n",
      "INFO:biothings.client:Finished.\n",
      "WARNING:biothings.client:12 input query terms found no hit:\t['221814', '222344', '23285', '23444', '23447', '23448', '23449', '23685', '246318', '246724', '2467\n",
      "INFO:biothings.client:Pass \"returnall=True\" to return complete lists of duplicate or missing query terms.\n",
      " 33%|███▎      | 7/21 [00:13<00:25,  1.85s/it]WARNING:biothings.client:Input sequence provided is already in string format. No operation performed\n",
      "WARNING:biothings.client:Input sequence provided is already in string format. No operation performed\n",
      "INFO:biothings.client:querying 1-1000 ...\n",
      "INFO:biothings.client:Finished.\n",
      "WARNING:biothings.client:13 input query terms found no hit:\t['255042', '256824', '257152', '2575', '260404', '26069', '26101', '26105', '26106', '26107', '26120\n",
      "INFO:biothings.client:Pass \"returnall=True\" to return complete lists of duplicate or missing query terms.\n",
      " 38%|███▊      | 8/21 [00:15<00:24,  1.89s/it]WARNING:biothings.client:Input sequence provided is already in string format. No operation performed\n",
      "WARNING:biothings.client:Input sequence provided is already in string format. No operation performed\n",
      "INFO:biothings.client:querying 1-1000 ...\n",
      "INFO:biothings.client:Finished.\n",
      "WARNING:biothings.client:53 input query terms found no hit:\t['2763', '283075', '283112', '283270', '283278', '283357', '283372', '283454', '283475', '283484', '\n",
      "INFO:biothings.client:Pass \"returnall=True\" to return complete lists of duplicate or missing query terms.\n",
      " 43%|████▎     | 9/21 [00:16<00:22,  1.87s/it]WARNING:biothings.client:Input sequence provided is already in string format. No operation performed\n",
      "WARNING:biothings.client:Input sequence provided is already in string format. No operation performed\n",
      "INFO:biothings.client:querying 1-1000 ...\n",
      "INFO:biothings.client:Finished.\n",
      "WARNING:biothings.client:11 input query terms found no hit:\t['317647', '338620', '338809', '340085', '340178', '340335', '347715', '348040', '348162', '348738',\n",
      "INFO:biothings.client:Pass \"returnall=True\" to return complete lists of duplicate or missing query terms.\n",
      " 48%|████▊     | 10/21 [00:18<00:20,  1.87s/it]WARNING:biothings.client:Input sequence provided is already in string format. No operation performed\n",
      "WARNING:biothings.client:Input sequence provided is already in string format. No operation performed\n",
      "INFO:biothings.client:querying 1-1000 ...\n",
      "INFO:biothings.client:Finished.\n",
      "WARNING:biothings.client:23 input query terms found no hit:\t['387638', '388289', '388439', '388813', '389036', '389405', '389422', '389908', '390760', '391230',\n",
      "INFO:biothings.client:Pass \"returnall=True\" to return complete lists of duplicate or missing query terms.\n",
      " 52%|█████▏    | 11/21 [00:20<00:18,  1.84s/it]WARNING:biothings.client:Input sequence provided is already in string format. No operation performed\n",
      "WARNING:biothings.client:Input sequence provided is already in string format. No operation performed\n",
      "INFO:biothings.client:querying 1-1000 ...\n",
      "INFO:biothings.client:Finished.\n",
      "WARNING:biothings.client:19 input query terms found no hit:\t['440047', '440330', '440414', '440981', '441098', '441347', '441520', '442695', '4447', '4448', '44\n",
      "INFO:biothings.client:Pass \"returnall=True\" to return complete lists of duplicate or missing query terms.\n",
      " 57%|█████▋    | 12/21 [00:22<00:16,  1.84s/it]WARNING:biothings.client:Input sequence provided is already in string format. No operation performed\n",
      "WARNING:biothings.client:Input sequence provided is already in string format. No operation performed\n",
      "INFO:biothings.client:querying 1-1000 ...\n",
      "INFO:biothings.client:Finished.\n",
      " 62%|██████▏   | 13/21 [00:24<00:14,  1.83s/it]WARNING:biothings.client:Input sequence provided is already in string format. No operation performed\n",
      "WARNING:biothings.client:Input sequence provided is already in string format. No operation performed\n",
      "INFO:biothings.client:querying 1-1000 ...\n",
      "INFO:biothings.client:Finished.\n",
      "WARNING:biothings.client:2 input query terms found no hit:\t['554223', '55547']\n",
      "INFO:biothings.client:Pass \"returnall=True\" to return complete lists of duplicate or missing query terms.\n",
      " 67%|██████▋   | 14/21 [00:25<00:12,  1.83s/it]WARNING:biothings.client:Input sequence provided is already in string format. No operation performed\n",
      "WARNING:biothings.client:Input sequence provided is already in string format. No operation performed\n",
      "INFO:biothings.client:querying 1-1000 ...\n",
      "INFO:biothings.client:Finished.\n",
      "WARNING:biothings.client:4 input query terms found no hit:\t['5643', '5661', '574037', '57796']\n",
      "INFO:biothings.client:Pass \"returnall=True\" to return complete lists of duplicate or missing query terms.\n",
      " 71%|███████▏  | 15/21 [00:27<00:10,  1.81s/it]WARNING:biothings.client:Input sequence provided is already in string format. No operation performed\n",
      "WARNING:biothings.client:Input sequence provided is already in string format. No operation performed\n",
      "INFO:biothings.client:querying 1-1000 ...\n",
      "INFO:biothings.client:Finished.\n",
      "WARNING:biothings.client:37 input query terms found no hit:\t['619431', '6200', '6264', '6267', '6268', '641314', '641589', '642326', '642441', '642620', '642730\n",
      "INFO:biothings.client:Pass \"returnall=True\" to return complete lists of duplicate or missing query terms.\n",
      " 76%|███████▌  | 16/21 [00:29<00:09,  1.82s/it]WARNING:biothings.client:Input sequence provided is already in string format. No operation performed\n",
      "WARNING:biothings.client:Input sequence provided is already in string format. No operation performed\n",
      "INFO:biothings.client:querying 1-1000 ...\n",
      "INFO:biothings.client:Finished.\n",
      "WARNING:biothings.client:23 input query terms found no hit:\t['653380', '653541', '653602', '654348', '654377', '7254', '7255', '7256', '727961', '728013', '7281\n",
      "INFO:biothings.client:Pass \"returnall=True\" to return complete lists of duplicate or missing query terms.\n",
      " 81%|████████  | 17/21 [00:31<00:07,  1.83s/it]WARNING:biothings.client:Input sequence provided is already in string format. No operation performed\n",
      "WARNING:biothings.client:Input sequence provided is already in string format. No operation performed\n",
      "INFO:biothings.client:querying 1-1000 ...\n",
      "INFO:biothings.client:Finished.\n",
      "WARNING:biothings.client:5 input query terms found no hit:\t['7521', '7524', '7624', '780789', '790969']\n",
      "INFO:biothings.client:Pass \"returnall=True\" to return complete lists of duplicate or missing query terms.\n",
      " 86%|████████▌ | 18/21 [00:33<00:05,  1.82s/it]WARNING:biothings.client:Input sequence provided is already in string format. No operation performed\n",
      "WARNING:biothings.client:Input sequence provided is already in string format. No operation performed\n",
      "INFO:biothings.client:querying 1-1000 ...\n",
      "INFO:biothings.client:Finished.\n",
      "WARNING:biothings.client:2 input query terms found no hit:\t['80761', '83935']\n",
      "INFO:biothings.client:Pass \"returnall=True\" to return complete lists of duplicate or missing query terms.\n",
      " 90%|█████████ | 19/21 [00:35<00:03,  1.81s/it]WARNING:biothings.client:Input sequence provided is already in string format. No operation performed\n",
      "WARNING:biothings.client:Input sequence provided is already in string format. No operation performed\n",
      "INFO:biothings.client:querying 1-1000 ...\n",
      "INFO:biothings.client:Finished.\n",
      "WARNING:biothings.client:2 input query terms found no hit:\t['84953', '9142']\n",
      "INFO:biothings.client:Pass \"returnall=True\" to return complete lists of duplicate or missing query terms.\n",
      " 95%|█████████▌| 20/21 [00:37<00:01,  1.89s/it]WARNING:biothings.client:Input sequence provided is already in string format. No operation performed\n",
      "WARNING:biothings.client:Input sequence provided is already in string format. No operation performed\n",
      "INFO:biothings.client:querying 1-945 ...\n",
      "INFO:biothings.client:Finished.\n",
      "WARNING:biothings.client:3 input query terms found no hit:\t['9220', '93980', '93981']\n",
      "INFO:biothings.client:Pass \"returnall=True\" to return complete lists of duplicate or missing query terms.\n",
      "100%|██████████| 21/21 [00:38<00:00,  1.86s/it]\n"
     ]
    },
    {
     "name": "stdout",
     "output_type": "stream",
     "text": [
      "✅ Mapped 17910 genes with Ensembl IDs.\n",
      "🔗 Enriching gene–disease links from Open Targets...\n"
     ]
    },
    {
     "name": "stderr",
     "output_type": "stream",
     "text": [
      "100%|██████████| 500/500 [01:53<00:00,  4.41it/s]"
     ]
    },
    {
     "name": "stdout",
     "output_type": "stream",
     "text": [
      "\n",
      "✅ Enrichment complete.\n",
      "📦 Added 1197 disease nodes and 🔗 3807 edges.\n",
      "⏭️ Skipped 3 queries.\n"
     ]
    },
    {
     "name": "stderr",
     "output_type": "stream",
     "text": [
      "\n"
     ]
    }
   ],
   "source": [
    "# --- Setup ---\n",
    "!pip install -q mygene gql[requests] tqdm\n",
    "\n",
    "import mygene\n",
    "from tqdm import tqdm\n",
    "from gql import gql, Client\n",
    "from gql.transport.requests import RequestsHTTPTransport\n",
    "\n",
    "# --- Connect to Open Targets GraphQL ---\n",
    "transport = RequestsHTTPTransport(\n",
    "    url=\"https://api.platform.opentargets.org/api/v4/graphql\",\n",
    "    verify=True,\n",
    "    retries=3,\n",
    ")\n",
    "client = Client(transport=transport, fetch_schema_from_transport=True)\n",
    "\n",
    "# --- Step 1: Map Entrez Gene IDs to Ensembl IDs and HGNC Symbols ---\n",
    "print(\"🔎 Mapping Gene::#### nodes to Ensembl IDs...\")\n",
    "\n",
    "mg = mygene.MyGeneInfo()\n",
    "gene_ids = [n.split(\"::\")[1] for n, d in G.nodes(data=True)\n",
    "            if d.get(\"label\") == \"Gene\" and \"::\" in n]\n",
    "\n",
    "entrez_to_ensembl = {}\n",
    "for i in tqdm(range(0, len(gene_ids), 1000)):\n",
    "    chunk = gene_ids[i:i+1000]\n",
    "    results = mg.querymany(chunk, scopes='entrezgene', fields='symbol,ensembl.gene', species='human')\n",
    "    for r in results:\n",
    "        if \"ensembl\" in r and \"symbol\" in r:\n",
    "            ens = r[\"ensembl\"]\n",
    "            if isinstance(ens, dict):\n",
    "                entrez_to_ensembl[r[\"query\"]] = {\n",
    "                    \"symbol\": r[\"symbol\"],\n",
    "                    \"ensembl_id\": ens[\"gene\"]\n",
    "                }\n",
    "\n",
    "# Apply mappings to your graph\n",
    "for node in G.nodes:\n",
    "    if node.startswith(\"Gene::\"):\n",
    "        entrez = node.split(\"::\")[1]\n",
    "        info = entrez_to_ensembl.get(entrez)\n",
    "        if info:\n",
    "            G.nodes[node][\"symbol\"] = info[\"symbol\"]\n",
    "            G.nodes[node][\"ensembl_id\"] = info[\"ensembl_id\"]\n",
    "\n",
    "print(f\"✅ Mapped {len(entrez_to_ensembl)} genes with Ensembl IDs.\")\n",
    "\n",
    "# --- Step 2: Enrich with Open Targets Associations ---\n",
    "print(\"🔗 Enriching gene–disease links from Open Targets...\")\n",
    "\n",
    "added_diseases = 0\n",
    "added_edges = 0\n",
    "skipped = 0\n",
    "\n",
    "# Snapshot to avoid iteration issues\n",
    "gene_nodes = [(n, d.get(\"ensembl_id\")) for n, d in G.nodes(data=True)\n",
    "              if d.get(\"label\") == \"Gene\" and d.get(\"ensembl_id\")]\n",
    "\n",
    "for node, ensembl_id in tqdm(gene_nodes[:500]):  # You can raise the limit as needed\n",
    "    query = gql(f\"\"\"\n",
    "    query {{\n",
    "      target(ensemblId: \"{ensembl_id}\") {{\n",
    "        associatedDiseases(page: {{ index: 0, size: 10 }}) {{\n",
    "          rows {{\n",
    "            disease {{ id name }}\n",
    "            score\n",
    "          }}\n",
    "        }}\n",
    "      }}\n",
    "    }}\n",
    "    \"\"\")\n",
    "\n",
    "    try:\n",
    "        result = client.execute(query)\n",
    "        target_block = result.get(\"target\")\n",
    "        if not target_block:\n",
    "            skipped += 1\n",
    "            continue\n",
    "\n",
    "        rows = target_block.get(\"associatedDiseases\", {}).get(\"rows\", [])\n",
    "        for row in rows:\n",
    "            raw_id = row[\"disease\"][\"id\"]\n",
    "            disease_id = f\"Disease::{raw_id}\"\n",
    "            disease_name = row[\"disease\"][\"name\"]\n",
    "            score = row.get(\"score\", 0)\n",
    "\n",
    "            # Always assign disease label and name\n",
    "            if not G.has_node(disease_id):\n",
    "                G.add_node(disease_id, label=\"Disease\", name=disease_name)\n",
    "                added_diseases += 1\n",
    "            else:\n",
    "                G.nodes[disease_id][\"label\"] = \"Disease\"\n",
    "                G.nodes[disease_id][\"name\"] = disease_name\n",
    "\n",
    "            if not G.has_edge(node, disease_id):\n",
    "                G.add_edge(node, disease_id, relation=\"associated_with\", score=score)\n",
    "                added_edges += 1\n",
    "\n",
    "    except Exception as e:\n",
    "        print(f\"⚠️ Error for {ensembl_id}: {e}\")\n",
    "        skipped += 1\n",
    "\n",
    "print(f\"\\n✅ Enrichment complete.\")\n",
    "print(f\"📦 Added {added_diseases} disease nodes and 🔗 {added_edges} edges.\")\n",
    "print(f\"⏭️ Skipped {skipped} queries.\")\n"
   ]
  },
  {
   "cell_type": "code",
   "execution_count": 38,
   "id": "2c3a78ce",
   "metadata": {
    "colab": {
     "base_uri": "https://localhost:8080/"
    },
    "id": "uOlw0txERZtn",
    "outputId": "40a55b0c-ba62-42b9-fdc8-1975d9f81edf"
   },
   "outputs": [
    {
     "name": "stdout",
     "output_type": "stream",
     "text": [
      "\u001b[?25l   \u001b[90m━━━━━━━━━━━━━━━━━━━━━━━━━━━━━━━━━━━━━━━━\u001b[0m \u001b[32m0.0/161.7 kB\u001b[0m \u001b[31m?\u001b[0m eta \u001b[36m-:--:--\u001b[0m\r",
      "\u001b[2K   \u001b[90m━━━━━━━━━━━━━━━━━━━━━━━━━━━━━━━━━━━━━━━━\u001b[0m \u001b[32m161.7/161.7 kB\u001b[0m \u001b[31m8.3 MB/s\u001b[0m eta \u001b[36m0:00:00\u001b[0m\n",
      "\u001b[?25h\u001b[?25l   \u001b[90m━━━━━━━━━━━━━━━━━━━━━━━━━━━━━━━━━━━━━━━━\u001b[0m \u001b[32m0.0/3.1 MB\u001b[0m \u001b[31m?\u001b[0m eta \u001b[36m-:--:--\u001b[0m\r",
      "\u001b[2K   \u001b[91m━━━━━━━━━━━━━━━━━━━━━━━━━━━━━━\u001b[0m\u001b[91m╸\u001b[0m\u001b[90m━━━━━━━━━\u001b[0m \u001b[32m2.4/3.1 MB\u001b[0m \u001b[31m62.3 MB/s\u001b[0m eta \u001b[36m0:00:01\u001b[0m\r",
      "\u001b[2K   \u001b[90m━━━━━━━━━━━━━━━━━━━━━━━━━━━━━━━━━━━━━━━━\u001b[0m \u001b[32m3.1/3.1 MB\u001b[0m \u001b[31m40.4 MB/s\u001b[0m eta \u001b[36m0:00:00\u001b[0m\n",
      "\u001b[?25h"
     ]
    }
   ],
   "source": [
    "!pip install -q fuzzywuzzy python-Levenshtein\n"
   ]
  },
  {
   "cell_type": "markdown",
   "id": "e3232081",
   "metadata": {},
   "source": [
    "## 2. Imports <a id='imports'></a>"
   ]
  },
  {
   "cell_type": "code",
   "execution_count": 3,
   "id": "771e40ce",
   "metadata": {
    "colab": {
     "base_uri": "https://localhost:8080/"
    },
    "id": "caX-mGleTrtt",
    "outputId": "4ee6429b-ce5d-43e3-f15a-7b6d6799f273"
   },
   "outputs": [
    {
     "name": "stdout",
     "output_type": "stream",
     "text": [
      "✅ Nodes loaded: 47031\n",
      "✅ Edges loaded: 2250197\n",
      "✅ Final graph: 47031 nodes, 2250197 edges\n"
     ]
    }
   ],
   "source": [
    "import pandas as pd\n",
    "import networkx as nx\n",
    "\n",
    "# Load your downloaded files\n",
    "nodes_df = pd.read_csv(\"hetionet-nodes.tsv\", sep='\\t')\n",
    "edges_df = pd.read_csv(\"hetionet-edges.sif.gz\", sep='\\t')\n",
    "\n",
    "print(f\"✅ Nodes loaded: {len(nodes_df)}\")\n",
    "print(f\"✅ Edges loaded: {len(edges_df)}\")\n",
    "\n",
    "# Build the graph\n",
    "G = nx.MultiDiGraph()\n",
    "\n",
    "# Add nodes\n",
    "for _, row in nodes_df.iterrows():\n",
    "    G.add_node(row[\"id\"], label=row[\"kind\"], name=row[\"name\"])\n",
    "\n",
    "# Add edges\n",
    "for _, row in edges_df.iterrows():\n",
    "    G.add_edge(row[\"source\"], row[\"target\"], relation=row[\"metaedge\"])\n",
    "\n",
    "print(f\"✅ Final graph: {G.number_of_nodes()} nodes, {G.number_of_edges()} edges\")\n"
   ]
  },
  {
   "cell_type": "code",
   "execution_count": 4,
   "id": "2b3a4e72",
   "metadata": {
    "id": "y7-joLq-T_se"
   },
   "outputs": [],
   "source": [
    "import requests\n",
    "import time\n",
    "\n",
    "def enrich_genes_with_uniprot(G, max_genes=200):\n",
    "    print(\"🧬 Enriching genes from UniProt...\")\n",
    "\n",
    "    # Filter gene nodes\n",
    "    gene_nodes = [n for n, d in G.nodes(data=True) if d.get(\"label\") == \"Gene\"]\n",
    "    gene_nodes = gene_nodes[:max_genes]  # limit for speed\n",
    "\n",
    "    for node_id in gene_nodes:\n",
    "        gene_name = G.nodes[node_id].get(\"name\")\n",
    "        if not gene_name:\n",
    "            continue\n",
    "\n",
    "        url = f\"https://rest.uniprot.org/uniprotkb/search?query=gene_exact:{gene_name}&format=json&size=1\"\n",
    "        try:\n",
    "            response = requests.get(url)\n",
    "            data = response.json()\n",
    "\n",
    "            if data.get(\"results\"):\n",
    "                record = data[\"results\"][0]\n",
    "                G.nodes[node_id][\"uniprot_id\"] = record.get(\"primaryAccession\", \"\")\n",
    "                G.nodes[node_id][\"uniprot_description\"] = record.get(\"proteinDescription\", {}).get(\"recommendedName\", {}).get(\"fullName\", {}).get(\"value\", \"\")\n",
    "                synonyms = record.get(\"gene\", [{}])[0].get(\"synonyms\", [])\n",
    "                G.nodes[node_id][\"gene_synonyms\"] = [s.get(\"value\") for s in synonyms]\n",
    "\n",
    "        except Exception as e:\n",
    "            print(f\"⚠️ {gene_name}: {e}\")\n",
    "\n",
    "        time.sleep(0.1)  # avoid rate limit\n",
    "\n",
    "    print(\"✅ Gene enrichment complete.\")\n"
   ]
  },
  {
   "cell_type": "code",
   "execution_count": 15,
   "id": "41ccc2bf",
   "metadata": {
    "colab": {
     "base_uri": "https://localhost:8080/"
    },
    "id": "sJrAeYVnJrYO",
    "outputId": "42a69b60-601a-4a3f-842b-7cd49004d4e2"
   },
   "outputs": [
    {
     "name": "stderr",
     "output_type": "stream",
     "text": [
      "\r",
      "🌐 MONDO Normalizer Matching:   0%|          | 0/137 [00:00<?, ?it/s]"
     ]
    },
    {
     "name": "stdout",
     "output_type": "stream",
     "text": [
      "⚠️ idiopathic pulmonary fibrosis: HTTPSConnectionPool(host='name-resolution-normalizer.prod.monarchinitiative.org', port=443): Max retries exceeded with url: /resolve (Caused by NameResolutionError(\"<urllib3.connection.HTTPSConnection object at 0x7dfdd669a950>: Failed to resolve 'name-resolution-normalizer.prod.monarchinitiative.org' ([Errno -2] Name or service not known)\"))\n"
     ]
    },
    {
     "name": "stderr",
     "output_type": "stream",
     "text": [
      "\r",
      "🌐 MONDO Normalizer Matching:   1%|          | 1/137 [00:00<00:40,  3.37it/s]"
     ]
    },
    {
     "name": "stdout",
     "output_type": "stream",
     "text": [
      "⚠️ restless legs syndrome: HTTPSConnectionPool(host='name-resolution-normalizer.prod.monarchinitiative.org', port=443): Max retries exceeded with url: /resolve (Caused by NameResolutionError(\"<urllib3.connection.HTTPSConnection object at 0x7dfdd66a8bd0>: Failed to resolve 'name-resolution-normalizer.prod.monarchinitiative.org' ([Errno -2] Name or service not known)\"))\n"
     ]
    },
    {
     "name": "stderr",
     "output_type": "stream",
     "text": [
      "\r",
      "🌐 MONDO Normalizer Matching:   1%|▏         | 2/137 [00:00<00:39,  3.43it/s]"
     ]
    },
    {
     "name": "stdout",
     "output_type": "stream",
     "text": [
      "⚠️ alcohol dependence: HTTPSConnectionPool(host='name-resolution-normalizer.prod.monarchinitiative.org', port=443): Max retries exceeded with url: /resolve (Caused by NameResolutionError(\"<urllib3.connection.HTTPSConnection object at 0x7dfdd66aaa50>: Failed to resolve 'name-resolution-normalizer.prod.monarchinitiative.org' ([Errno -2] Name or service not known)\"))\n"
     ]
    },
    {
     "name": "stderr",
     "output_type": "stream",
     "text": [
      "\r",
      "🌐 MONDO Normalizer Matching:   2%|▏         | 3/137 [00:00<00:37,  3.59it/s]"
     ]
    },
    {
     "name": "stdout",
     "output_type": "stream",
     "text": [
      "⚠️ nicotine dependence: HTTPSConnectionPool(host='name-resolution-normalizer.prod.monarchinitiative.org', port=443): Max retries exceeded with url: /resolve (Caused by NameResolutionError(\"<urllib3.connection.HTTPSConnection object at 0x7dfdd6698a90>: Failed to resolve 'name-resolution-normalizer.prod.monarchinitiative.org' ([Errno -2] Name or service not known)\"))\n"
     ]
    },
    {
     "name": "stderr",
     "output_type": "stream",
     "text": [
      "\r",
      "🌐 MONDO Normalizer Matching:   3%|▎         | 4/137 [00:01<00:36,  3.68it/s]"
     ]
    },
    {
     "name": "stdout",
     "output_type": "stream",
     "text": [
      "⚠️ lymphatic system cancer: HTTPSConnectionPool(host='name-resolution-normalizer.prod.monarchinitiative.org', port=443): Max retries exceeded with url: /resolve (Caused by NameResolutionError(\"<urllib3.connection.HTTPSConnection object at 0x7dfdd66abdd0>: Failed to resolve 'name-resolution-normalizer.prod.monarchinitiative.org' ([Errno -2] Name or service not known)\"))\n"
     ]
    },
    {
     "name": "stderr",
     "output_type": "stream",
     "text": [
      "\r",
      "🌐 MONDO Normalizer Matching:   4%|▎         | 5/137 [00:01<00:35,  3.73it/s]"
     ]
    },
    {
     "name": "stdout",
     "output_type": "stream",
     "text": [
      "⚠️ pharynx cancer: HTTPSConnectionPool(host='name-resolution-normalizer.prod.monarchinitiative.org', port=443): Max retries exceeded with url: /resolve (Caused by NameResolutionError(\"<urllib3.connection.HTTPSConnection object at 0x7dfdd66b1810>: Failed to resolve 'name-resolution-normalizer.prod.monarchinitiative.org' ([Errno -2] Name or service not known)\"))\n"
     ]
    },
    {
     "name": "stderr",
     "output_type": "stream",
     "text": [
      "\r",
      "🌐 MONDO Normalizer Matching:   4%|▍         | 6/137 [00:01<00:34,  3.76it/s]"
     ]
    },
    {
     "name": "stdout",
     "output_type": "stream",
     "text": [
      "⚠️ duodenum cancer: HTTPSConnectionPool(host='name-resolution-normalizer.prod.monarchinitiative.org', port=443): Max retries exceeded with url: /resolve (Caused by NameResolutionError(\"<urllib3.connection.HTTPSConnection object at 0x7dfdd66b3810>: Failed to resolve 'name-resolution-normalizer.prod.monarchinitiative.org' ([Errno -2] Name or service not known)\"))\n"
     ]
    },
    {
     "name": "stderr",
     "output_type": "stream",
     "text": [
      "\r",
      "🌐 MONDO Normalizer Matching:   5%|▌         | 7/137 [00:01<00:34,  3.79it/s]"
     ]
    },
    {
     "name": "stdout",
     "output_type": "stream",
     "text": [
      "⚠️ ileum cancer: HTTPSConnectionPool(host='name-resolution-normalizer.prod.monarchinitiative.org', port=443): Max retries exceeded with url: /resolve (Caused by NameResolutionError(\"<urllib3.connection.HTTPSConnection object at 0x7dfdd66b9610>: Failed to resolve 'name-resolution-normalizer.prod.monarchinitiative.org' ([Errno -2] Name or service not known)\"))\n"
     ]
    },
    {
     "name": "stderr",
     "output_type": "stream",
     "text": [
      "\r",
      "🌐 MONDO Normalizer Matching:   6%|▌         | 8/137 [00:02<00:33,  3.80it/s]"
     ]
    },
    {
     "name": "stdout",
     "output_type": "stream",
     "text": [
      "⚠️ leprosy: HTTPSConnectionPool(host='name-resolution-normalizer.prod.monarchinitiative.org', port=443): Max retries exceeded with url: /resolve (Caused by NameResolutionError(\"<urllib3.connection.HTTPSConnection object at 0x7dfdd66bb3d0>: Failed to resolve 'name-resolution-normalizer.prod.monarchinitiative.org' ([Errno -2] Name or service not known)\"))\n"
     ]
    },
    {
     "name": "stderr",
     "output_type": "stream",
     "text": [
      "\r",
      "🌐 MONDO Normalizer Matching:   7%|▋         | 9/137 [00:02<00:33,  3.81it/s]"
     ]
    },
    {
     "name": "stdout",
     "output_type": "stream",
     "text": [
      "⚠️ prostate cancer: HTTPSConnectionPool(host='name-resolution-normalizer.prod.monarchinitiative.org', port=443): Max retries exceeded with url: /resolve (Caused by NameResolutionError(\"<urllib3.connection.HTTPSConnection object at 0x7dfdd66b3550>: Failed to resolve 'name-resolution-normalizer.prod.monarchinitiative.org' ([Errno -2] Name or service not known)\"))\n"
     ]
    },
    {
     "name": "stderr",
     "output_type": "stream",
     "text": [
      "\r",
      "🌐 MONDO Normalizer Matching:   7%|▋         | 10/137 [00:02<00:33,  3.81it/s]"
     ]
    },
    {
     "name": "stdout",
     "output_type": "stream",
     "text": [
      "⚠️ stomach cancer: HTTPSConnectionPool(host='name-resolution-normalizer.prod.monarchinitiative.org', port=443): Max retries exceeded with url: /resolve (Caused by NameResolutionError(\"<urllib3.connection.HTTPSConnection object at 0x7dfdd66b1150>: Failed to resolve 'name-resolution-normalizer.prod.monarchinitiative.org' ([Errno -2] Name or service not known)\"))\n"
     ]
    },
    {
     "name": "stderr",
     "output_type": "stream",
     "text": [
      "\r",
      "🌐 MONDO Normalizer Matching:   8%|▊         | 11/137 [00:02<00:32,  3.82it/s]"
     ]
    },
    {
     "name": "stdout",
     "output_type": "stream",
     "text": [
      "⚠️ celiac disease: HTTPSConnectionPool(host='name-resolution-normalizer.prod.monarchinitiative.org', port=443): Max retries exceeded with url: /resolve (Caused by NameResolutionError(\"<urllib3.connection.HTTPSConnection object at 0x7dfdd66ab950>: Failed to resolve 'name-resolution-normalizer.prod.monarchinitiative.org' ([Errno -2] Name or service not known)\"))\n"
     ]
    },
    {
     "name": "stderr",
     "output_type": "stream",
     "text": [
      "\r",
      "🌐 MONDO Normalizer Matching:   9%|▉         | 12/137 [00:03<00:32,  3.82it/s]"
     ]
    },
    {
     "name": "stdout",
     "output_type": "stream",
     "text": [
      "⚠️ Alzheimer's disease: HTTPSConnectionPool(host='name-resolution-normalizer.prod.monarchinitiative.org', port=443): Max retries exceeded with url: /resolve (Caused by NameResolutionError(\"<urllib3.connection.HTTPSConnection object at 0x7dfdd66aa990>: Failed to resolve 'name-resolution-normalizer.prod.monarchinitiative.org' ([Errno -2] Name or service not known)\"))\n"
     ]
    },
    {
     "name": "stderr",
     "output_type": "stream",
     "text": [
      "\r",
      "🌐 MONDO Normalizer Matching:   9%|▉         | 13/137 [00:03<00:32,  3.82it/s]"
     ]
    },
    {
     "name": "stdout",
     "output_type": "stream",
     "text": [
      "⚠️ hypertension: HTTPSConnectionPool(host='name-resolution-normalizer.prod.monarchinitiative.org', port=443): Max retries exceeded with url: /resolve (Caused by NameResolutionError(\"<urllib3.connection.HTTPSConnection object at 0x7dfdd669b210>: Failed to resolve 'name-resolution-normalizer.prod.monarchinitiative.org' ([Errno -2] Name or service not known)\"))\n"
     ]
    },
    {
     "name": "stderr",
     "output_type": "stream",
     "text": [
      "\r",
      "🌐 MONDO Normalizer Matching:  10%|█         | 14/137 [00:03<00:32,  3.82it/s]"
     ]
    },
    {
     "name": "stdout",
     "output_type": "stream",
     "text": [
      "⚠️ nasal cavity cancer: HTTPSConnectionPool(host='name-resolution-normalizer.prod.monarchinitiative.org', port=443): Max retries exceeded with url: /resolve (Caused by NameResolutionError(\"<urllib3.connection.HTTPSConnection object at 0x7dfdd66c0310>: Failed to resolve 'name-resolution-normalizer.prod.monarchinitiative.org' ([Errno -2] Name or service not known)\"))\n"
     ]
    },
    {
     "name": "stderr",
     "output_type": "stream",
     "text": [
      "\r",
      "🌐 MONDO Normalizer Matching:  11%|█         | 15/137 [00:03<00:31,  3.82it/s]"
     ]
    },
    {
     "name": "stdout",
     "output_type": "stream",
     "text": [
      "⚠️ age related macular degeneration: HTTPSConnectionPool(host='name-resolution-normalizer.prod.monarchinitiative.org', port=443): Max retries exceeded with url: /resolve (Caused by NameResolutionError(\"<urllib3.connection.HTTPSConnection object at 0x7dfdd669a290>: Failed to resolve 'name-resolution-normalizer.prod.monarchinitiative.org' ([Errno -2] Name or service not known)\"))\n"
     ]
    },
    {
     "name": "stderr",
     "output_type": "stream",
     "text": [
      "\r",
      "🌐 MONDO Normalizer Matching:  12%|█▏        | 16/137 [00:04<00:31,  3.83it/s]"
     ]
    },
    {
     "name": "stdout",
     "output_type": "stream",
     "text": [
      "⚠️ attention deficit hyperactivity disorder: HTTPSConnectionPool(host='name-resolution-normalizer.prod.monarchinitiative.org', port=443): Max retries exceeded with url: /resolve (Caused by NameResolutionError(\"<urllib3.connection.HTTPSConnection object at 0x7dfdd66a9210>: Failed to resolve 'name-resolution-normalizer.prod.monarchinitiative.org' ([Errno -2] Name or service not known)\"))\n"
     ]
    },
    {
     "name": "stderr",
     "output_type": "stream",
     "text": [
      "\r",
      "🌐 MONDO Normalizer Matching:  12%|█▏        | 17/137 [00:04<00:31,  3.83it/s]"
     ]
    },
    {
     "name": "stdout",
     "output_type": "stream",
     "text": [
      "⚠️ intracranial aneurysm: HTTPSConnectionPool(host='name-resolution-normalizer.prod.monarchinitiative.org', port=443): Max retries exceeded with url: /resolve (Caused by NameResolutionError(\"<urllib3.connection.HTTPSConnection object at 0x7dfdd66a8610>: Failed to resolve 'name-resolution-normalizer.prod.monarchinitiative.org' ([Errno -2] Name or service not known)\"))\n"
     ]
    },
    {
     "name": "stderr",
     "output_type": "stream",
     "text": [
      "\r",
      "🌐 MONDO Normalizer Matching:  13%|█▎        | 18/137 [00:04<00:31,  3.83it/s]"
     ]
    },
    {
     "name": "stdout",
     "output_type": "stream",
     "text": [
      "⚠️ membranous glomerulonephritis: HTTPSConnectionPool(host='name-resolution-normalizer.prod.monarchinitiative.org', port=443): Max retries exceeded with url: /resolve (Caused by NameResolutionError(\"<urllib3.connection.HTTPSConnection object at 0x7dfdd66b2090>: Failed to resolve 'name-resolution-normalizer.prod.monarchinitiative.org' ([Errno -2] Name or service not known)\"))\n"
     ]
    },
    {
     "name": "stderr",
     "output_type": "stream",
     "text": [
      "\r",
      "🌐 MONDO Normalizer Matching:  14%|█▍        | 19/137 [00:05<00:30,  3.83it/s]"
     ]
    },
    {
     "name": "stdout",
     "output_type": "stream",
     "text": [
      "⚠️ urinary bladder cancer: HTTPSConnectionPool(host='name-resolution-normalizer.prod.monarchinitiative.org', port=443): Max retries exceeded with url: /resolve (Caused by NameResolutionError(\"<urllib3.connection.HTTPSConnection object at 0x7dfdd66b3590>: Failed to resolve 'name-resolution-normalizer.prod.monarchinitiative.org' ([Errno -2] Name or service not known)\"))\n"
     ]
    },
    {
     "name": "stderr",
     "output_type": "stream",
     "text": [
      "\r",
      "🌐 MONDO Normalizer Matching:  15%|█▍        | 20/137 [00:05<00:30,  3.81it/s]"
     ]
    },
    {
     "name": "stdout",
     "output_type": "stream",
     "text": [
      "⚠️ Gilles de la Tourette syndrome: HTTPSConnectionPool(host='name-resolution-normalizer.prod.monarchinitiative.org', port=443): Max retries exceeded with url: /resolve (Caused by NameResolutionError(\"<urllib3.connection.HTTPSConnection object at 0x7dfdd66c1c10>: Failed to resolve 'name-resolution-normalizer.prod.monarchinitiative.org' ([Errno -2] Name or service not known)\"))\n"
     ]
    },
    {
     "name": "stderr",
     "output_type": "stream",
     "text": [
      "\r",
      "🌐 MONDO Normalizer Matching:  15%|█▌        | 21/137 [00:05<00:30,  3.82it/s]"
     ]
    },
    {
     "name": "stdout",
     "output_type": "stream",
     "text": [
      "⚠️ sarcoma: HTTPSConnectionPool(host='name-resolution-normalizer.prod.monarchinitiative.org', port=443): Max retries exceeded with url: /resolve (Caused by NameResolutionError(\"<urllib3.connection.HTTPSConnection object at 0x7dfdd66b2e10>: Failed to resolve 'name-resolution-normalizer.prod.monarchinitiative.org' ([Errno -2] Name or service not known)\"))\n"
     ]
    },
    {
     "name": "stderr",
     "output_type": "stream",
     "text": [
      "\r",
      "🌐 MONDO Normalizer Matching:  16%|█▌        | 22/137 [00:05<00:30,  3.80it/s]"
     ]
    },
    {
     "name": "stdout",
     "output_type": "stream",
     "text": [
      "⚠️ appendix cancer: HTTPSConnectionPool(host='name-resolution-normalizer.prod.monarchinitiative.org', port=443): Max retries exceeded with url: /resolve (Caused by NameResolutionError(\"<urllib3.connection.HTTPSConnection object at 0x7dfdd66b12d0>: Failed to resolve 'name-resolution-normalizer.prod.monarchinitiative.org' ([Errno -2] Name or service not known)\"))\n"
     ]
    },
    {
     "name": "stderr",
     "output_type": "stream",
     "text": [
      "\r",
      "🌐 MONDO Normalizer Matching:  17%|█▋        | 23/137 [00:06<00:29,  3.81it/s]"
     ]
    },
    {
     "name": "stdout",
     "output_type": "stream",
     "text": [
      "⚠️ osteoporosis: HTTPSConnectionPool(host='name-resolution-normalizer.prod.monarchinitiative.org', port=443): Max retries exceeded with url: /resolve (Caused by NameResolutionError(\"<urllib3.connection.HTTPSConnection object at 0x7dfdd66aac90>: Failed to resolve 'name-resolution-normalizer.prod.monarchinitiative.org' ([Errno -2] Name or service not known)\"))\n"
     ]
    },
    {
     "name": "stderr",
     "output_type": "stream",
     "text": [
      "\r",
      "🌐 MONDO Normalizer Matching:  18%|█▊        | 24/137 [00:06<00:29,  3.82it/s]"
     ]
    },
    {
     "name": "stdout",
     "output_type": "stream",
     "text": [
      "⚠️ Fuchs' endothelial dystrophy: HTTPSConnectionPool(host='name-resolution-normalizer.prod.monarchinitiative.org', port=443): Max retries exceeded with url: /resolve (Caused by NameResolutionError(\"<urllib3.connection.HTTPSConnection object at 0x7dfdd66a9190>: Failed to resolve 'name-resolution-normalizer.prod.monarchinitiative.org' ([Errno -2] Name or service not known)\"))\n"
     ]
    },
    {
     "name": "stderr",
     "output_type": "stream",
     "text": [
      "\r",
      "🌐 MONDO Normalizer Matching:  18%|█▊        | 25/137 [00:06<00:29,  3.83it/s]"
     ]
    },
    {
     "name": "stdout",
     "output_type": "stream",
     "text": [
      "⚠️ polycystic ovary syndrome: HTTPSConnectionPool(host='name-resolution-normalizer.prod.monarchinitiative.org', port=443): Max retries exceeded with url: /resolve (Caused by NameResolutionError(\"<urllib3.connection.HTTPSConnection object at 0x7dfdd66999d0>: Failed to resolve 'name-resolution-normalizer.prod.monarchinitiative.org' ([Errno -2] Name or service not known)\"))\n"
     ]
    },
    {
     "name": "stderr",
     "output_type": "stream",
     "text": [
      "\r",
      "🌐 MONDO Normalizer Matching:  19%|█▉        | 26/137 [00:06<00:28,  3.83it/s]"
     ]
    },
    {
     "name": "stdout",
     "output_type": "stream",
     "text": [
      "⚠️ penile cancer: HTTPSConnectionPool(host='name-resolution-normalizer.prod.monarchinitiative.org', port=443): Max retries exceeded with url: /resolve (Caused by NameResolutionError(\"<urllib3.connection.HTTPSConnection object at 0x7dfdd66c0850>: Failed to resolve 'name-resolution-normalizer.prod.monarchinitiative.org' ([Errno -2] Name or service not known)\"))\n"
     ]
    },
    {
     "name": "stderr",
     "output_type": "stream",
     "text": [
      "\r",
      "🌐 MONDO Normalizer Matching:  20%|█▉        | 27/137 [00:07<00:28,  3.84it/s]"
     ]
    },
    {
     "name": "stdout",
     "output_type": "stream",
     "text": [
      "⚠️ gestational diabetes: HTTPSConnectionPool(host='name-resolution-normalizer.prod.monarchinitiative.org', port=443): Max retries exceeded with url: /resolve (Caused by NameResolutionError(\"<urllib3.connection.HTTPSConnection object at 0x7dfdd66a8b50>: Failed to resolve 'name-resolution-normalizer.prod.monarchinitiative.org' ([Errno -2] Name or service not known)\"))\n"
     ]
    },
    {
     "name": "stderr",
     "output_type": "stream",
     "text": [
      "\r",
      "🌐 MONDO Normalizer Matching:  20%|██        | 28/137 [00:07<00:28,  3.83it/s]"
     ]
    },
    {
     "name": "stdout",
     "output_type": "stream",
     "text": [
      "⚠️ ureter cancer: HTTPSConnectionPool(host='name-resolution-normalizer.prod.monarchinitiative.org', port=443): Max retries exceeded with url: /resolve (Caused by NameResolutionError(\"<urllib3.connection.HTTPSConnection object at 0x7dfdd66a8550>: Failed to resolve 'name-resolution-normalizer.prod.monarchinitiative.org' ([Errno -2] Name or service not known)\"))\n"
     ]
    },
    {
     "name": "stderr",
     "output_type": "stream",
     "text": [
      "\r",
      "🌐 MONDO Normalizer Matching:  21%|██        | 29/137 [00:07<00:28,  3.81it/s]"
     ]
    },
    {
     "name": "stdout",
     "output_type": "stream",
     "text": [
      "⚠️ vaginal cancer: HTTPSConnectionPool(host='name-resolution-normalizer.prod.monarchinitiative.org', port=443): Max retries exceeded with url: /resolve (Caused by NameResolutionError(\"<urllib3.connection.HTTPSConnection object at 0x7dfdd669a990>: Failed to resolve 'name-resolution-normalizer.prod.monarchinitiative.org' ([Errno -2] Name or service not known)\"))\n"
     ]
    },
    {
     "name": "stderr",
     "output_type": "stream",
     "text": [
      "\r",
      "🌐 MONDO Normalizer Matching:  22%|██▏       | 30/137 [00:07<00:28,  3.82it/s]"
     ]
    },
    {
     "name": "stdout",
     "output_type": "stream",
     "text": [
      "⚠️ peripheral nervous system neoplasm: HTTPSConnectionPool(host='name-resolution-normalizer.prod.monarchinitiative.org', port=443): Max retries exceeded with url: /resolve (Caused by NameResolutionError(\"<urllib3.connection.HTTPSConnection object at 0x7dfdd66b2d10>: Failed to resolve 'name-resolution-normalizer.prod.monarchinitiative.org' ([Errno -2] Name or service not known)\"))\n"
     ]
    },
    {
     "name": "stderr",
     "output_type": "stream",
     "text": [
      "\r",
      "🌐 MONDO Normalizer Matching:  23%|██▎       | 31/137 [00:08<00:27,  3.82it/s]"
     ]
    },
    {
     "name": "stdout",
     "output_type": "stream",
     "text": [
      "⚠️ tracheal cancer: HTTPSConnectionPool(host='name-resolution-normalizer.prod.monarchinitiative.org', port=443): Max retries exceeded with url: /resolve (Caused by NameResolutionError(\"<urllib3.connection.HTTPSConnection object at 0x7dfdd66b3150>: Failed to resolve 'name-resolution-normalizer.prod.monarchinitiative.org' ([Errno -2] Name or service not known)\"))\n"
     ]
    },
    {
     "name": "stderr",
     "output_type": "stream",
     "text": [
      "\r",
      "🌐 MONDO Normalizer Matching:  23%|██▎       | 32/137 [00:08<00:27,  3.83it/s]"
     ]
    },
    {
     "name": "stdout",
     "output_type": "stream",
     "text": [
      "⚠️ head and neck cancer: HTTPSConnectionPool(host='name-resolution-normalizer.prod.monarchinitiative.org', port=443): Max retries exceeded with url: /resolve (Caused by NameResolutionError(\"<urllib3.connection.HTTPSConnection object at 0x7dfdd66c2050>: Failed to resolve 'name-resolution-normalizer.prod.monarchinitiative.org' ([Errno -2] Name or service not known)\"))\n"
     ]
    },
    {
     "name": "stderr",
     "output_type": "stream",
     "text": [
      "\r",
      "🌐 MONDO Normalizer Matching:  24%|██▍       | 33/137 [00:08<00:27,  3.84it/s]"
     ]
    },
    {
     "name": "stdout",
     "output_type": "stream",
     "text": [
      "⚠️ Creutzfeldt-Jakob disease: HTTPSConnectionPool(host='name-resolution-normalizer.prod.monarchinitiative.org', port=443): Max retries exceeded with url: /resolve (Caused by NameResolutionError(\"<urllib3.connection.HTTPSConnection object at 0x7dfdd69f0290>: Failed to resolve 'name-resolution-normalizer.prod.monarchinitiative.org' ([Errno -2] Name or service not known)\"))\n"
     ]
    },
    {
     "name": "stderr",
     "output_type": "stream",
     "text": [
      "\r",
      "🌐 MONDO Normalizer Matching:  25%|██▍       | 34/137 [00:08<00:26,  3.84it/s]"
     ]
    },
    {
     "name": "stdout",
     "output_type": "stream",
     "text": [
      "⚠️ otosclerosis: HTTPSConnectionPool(host='name-resolution-normalizer.prod.monarchinitiative.org', port=443): Max retries exceeded with url: /resolve (Caused by NameResolutionError(\"<urllib3.connection.HTTPSConnection object at 0x7dfdd669b490>: Failed to resolve 'name-resolution-normalizer.prod.monarchinitiative.org' ([Errno -2] Name or service not known)\"))\n"
     ]
    },
    {
     "name": "stderr",
     "output_type": "stream",
     "text": [
      "\r",
      "🌐 MONDO Normalizer Matching:  26%|██▌       | 35/137 [00:09<00:26,  3.84it/s]"
     ]
    },
    {
     "name": "stdout",
     "output_type": "stream",
     "text": [
      "⚠️ primary biliary cirrhosis: HTTPSConnectionPool(host='name-resolution-normalizer.prod.monarchinitiative.org', port=443): Max retries exceeded with url: /resolve (Caused by NameResolutionError(\"<urllib3.connection.HTTPSConnection object at 0x7dfdd66b3790>: Failed to resolve 'name-resolution-normalizer.prod.monarchinitiative.org' ([Errno -2] Name or service not known)\"))\n"
     ]
    },
    {
     "name": "stderr",
     "output_type": "stream",
     "text": [
      "\r",
      "🌐 MONDO Normalizer Matching:  26%|██▋       | 36/137 [00:09<00:26,  3.84it/s]"
     ]
    },
    {
     "name": "stdout",
     "output_type": "stream",
     "text": [
      "⚠️ vitiligo: HTTPSConnectionPool(host='name-resolution-normalizer.prod.monarchinitiative.org', port=443): Max retries exceeded with url: /resolve (Caused by NameResolutionError(\"<urllib3.connection.HTTPSConnection object at 0x7dfe1ef61f50>: Failed to resolve 'name-resolution-normalizer.prod.monarchinitiative.org' ([Errno -2] Name or service not known)\"))\n"
     ]
    },
    {
     "name": "stderr",
     "output_type": "stream",
     "text": [
      "\r",
      "🌐 MONDO Normalizer Matching:  27%|██▋       | 37/137 [00:09<00:26,  3.85it/s]"
     ]
    },
    {
     "name": "stdout",
     "output_type": "stream",
     "text": [
      "⚠️ Graves' disease: HTTPSConnectionPool(host='name-resolution-normalizer.prod.monarchinitiative.org', port=443): Max retries exceeded with url: /resolve (Caused by NameResolutionError(\"<urllib3.connection.HTTPSConnection object at 0x7dfdd66aa5d0>: Failed to resolve 'name-resolution-normalizer.prod.monarchinitiative.org' ([Errno -2] Name or service not known)\"))\n"
     ]
    },
    {
     "name": "stderr",
     "output_type": "stream",
     "text": [
      "\r",
      "🌐 MONDO Normalizer Matching:  28%|██▊       | 38/137 [00:09<00:25,  3.84it/s]"
     ]
    },
    {
     "name": "stdout",
     "output_type": "stream",
     "text": [
      "⚠️ malaria: HTTPSConnectionPool(host='name-resolution-normalizer.prod.monarchinitiative.org', port=443): Max retries exceeded with url: /resolve (Caused by NameResolutionError(\"<urllib3.connection.HTTPSConnection object at 0x7dfdd66c1190>: Failed to resolve 'name-resolution-normalizer.prod.monarchinitiative.org' ([Errno -2] Name or service not known)\"))\n"
     ]
    },
    {
     "name": "stderr",
     "output_type": "stream",
     "text": [
      "\r",
      "🌐 MONDO Normalizer Matching:  28%|██▊       | 39/137 [00:10<00:25,  3.84it/s]"
     ]
    },
    {
     "name": "stdout",
     "output_type": "stream",
     "text": [
      "⚠️ vulva cancer: HTTPSConnectionPool(host='name-resolution-normalizer.prod.monarchinitiative.org', port=443): Max retries exceeded with url: /resolve (Caused by NameResolutionError(\"<urllib3.connection.HTTPSConnection object at 0x7dfdd66b9310>: Failed to resolve 'name-resolution-normalizer.prod.monarchinitiative.org' ([Errno -2] Name or service not known)\"))\n"
     ]
    },
    {
     "name": "stderr",
     "output_type": "stream",
     "text": [
      "\r",
      "🌐 MONDO Normalizer Matching:  29%|██▉       | 40/137 [00:10<00:25,  3.82it/s]"
     ]
    },
    {
     "name": "stdout",
     "output_type": "stream",
     "text": [
      "⚠️ autistic disorder: HTTPSConnectionPool(host='name-resolution-normalizer.prod.monarchinitiative.org', port=443): Max retries exceeded with url: /resolve (Caused by NameResolutionError(\"<urllib3.connection.HTTPSConnection object at 0x7dfdd66a99d0>: Failed to resolve 'name-resolution-normalizer.prod.monarchinitiative.org' ([Errno -2] Name or service not known)\"))\n"
     ]
    },
    {
     "name": "stderr",
     "output_type": "stream",
     "text": [
      "\r",
      "🌐 MONDO Normalizer Matching:  30%|██▉       | 41/137 [00:10<00:25,  3.82it/s]"
     ]
    },
    {
     "name": "stdout",
     "output_type": "stream",
     "text": [
      "⚠️ dilated cardiomyopathy: HTTPSConnectionPool(host='name-resolution-normalizer.prod.monarchinitiative.org', port=443): Max retries exceeded with url: /resolve (Caused by NameResolutionError(\"<urllib3.connection.HTTPSConnection object at 0x7dfe12c4a8d0>: Failed to resolve 'name-resolution-normalizer.prod.monarchinitiative.org' ([Errno -2] Name or service not known)\"))\n"
     ]
    },
    {
     "name": "stderr",
     "output_type": "stream",
     "text": [
      "\r",
      "🌐 MONDO Normalizer Matching:  31%|███       | 42/137 [00:11<00:24,  3.82it/s]"
     ]
    },
    {
     "name": "stdout",
     "output_type": "stream",
     "text": [
      "⚠️ conduct disorder: HTTPSConnectionPool(host='name-resolution-normalizer.prod.monarchinitiative.org', port=443): Max retries exceeded with url: /resolve (Caused by NameResolutionError(\"<urllib3.connection.HTTPSConnection object at 0x7dfdd66b1410>: Failed to resolve 'name-resolution-normalizer.prod.monarchinitiative.org' ([Errno -2] Name or service not known)\"))\n"
     ]
    },
    {
     "name": "stderr",
     "output_type": "stream",
     "text": [
      "\r",
      "🌐 MONDO Normalizer Matching:  31%|███▏      | 43/137 [00:11<00:24,  3.82it/s]"
     ]
    },
    {
     "name": "stdout",
     "output_type": "stream",
     "text": [
      "⚠️ focal segmental glomerulosclerosis: HTTPSConnectionPool(host='name-resolution-normalizer.prod.monarchinitiative.org', port=443): Max retries exceeded with url: /resolve (Caused by NameResolutionError(\"<urllib3.connection.HTTPSConnection object at 0x7dfdd6699750>: Failed to resolve 'name-resolution-normalizer.prod.monarchinitiative.org' ([Errno -2] Name or service not known)\"))\n"
     ]
    },
    {
     "name": "stderr",
     "output_type": "stream",
     "text": [
      "\r",
      "🌐 MONDO Normalizer Matching:  32%|███▏      | 44/137 [00:11<00:24,  3.80it/s]"
     ]
    },
    {
     "name": "stdout",
     "output_type": "stream",
     "text": [
      "⚠️ gout: HTTPSConnectionPool(host='name-resolution-normalizer.prod.monarchinitiative.org', port=443): Max retries exceeded with url: /resolve (Caused by NameResolutionError(\"<urllib3.connection.HTTPSConnection object at 0x7dfdd66c0950>: Failed to resolve 'name-resolution-normalizer.prod.monarchinitiative.org' ([Errno -2] Name or service not known)\"))\n"
     ]
    },
    {
     "name": "stderr",
     "output_type": "stream",
     "text": [
      "\r",
      "🌐 MONDO Normalizer Matching:  33%|███▎      | 45/137 [00:11<00:24,  3.81it/s]"
     ]
    },
    {
     "name": "stdout",
     "output_type": "stream",
     "text": [
      "⚠️ brain cancer: HTTPSConnectionPool(host='name-resolution-normalizer.prod.monarchinitiative.org', port=443): Max retries exceeded with url: /resolve (Caused by NameResolutionError(\"<urllib3.connection.HTTPSConnection object at 0x7dfdd669a990>: Failed to resolve 'name-resolution-normalizer.prod.monarchinitiative.org' ([Errno -2] Name or service not known)\"))\n"
     ]
    },
    {
     "name": "stderr",
     "output_type": "stream",
     "text": [
      "\r",
      "🌐 MONDO Normalizer Matching:  34%|███▎      | 46/137 [00:12<00:23,  3.81it/s]"
     ]
    },
    {
     "name": "stdout",
     "output_type": "stream",
     "text": [
      "⚠️ uterine fibroid: HTTPSConnectionPool(host='name-resolution-normalizer.prod.monarchinitiative.org', port=443): Max retries exceeded with url: /resolve (Caused by NameResolutionError(\"<urllib3.connection.HTTPSConnection object at 0x7dfdd66abc10>: Failed to resolve 'name-resolution-normalizer.prod.monarchinitiative.org' ([Errno -2] Name or service not known)\"))\n"
     ]
    },
    {
     "name": "stderr",
     "output_type": "stream",
     "text": [
      "\r",
      "🌐 MONDO Normalizer Matching:  34%|███▍      | 47/137 [00:12<00:23,  3.81it/s]"
     ]
    },
    {
     "name": "stdout",
     "output_type": "stream",
     "text": [
      "⚠️ lung cancer: HTTPSConnectionPool(host='name-resolution-normalizer.prod.monarchinitiative.org', port=443): Max retries exceeded with url: /resolve (Caused by NameResolutionError(\"<urllib3.connection.HTTPSConnection object at 0x7dfdd66a8050>: Failed to resolve 'name-resolution-normalizer.prod.monarchinitiative.org' ([Errno -2] Name or service not known)\"))\n"
     ]
    },
    {
     "name": "stderr",
     "output_type": "stream",
     "text": [
      "\r",
      "🌐 MONDO Normalizer Matching:  35%|███▌      | 48/137 [00:12<00:23,  3.81it/s]"
     ]
    },
    {
     "name": "stdout",
     "output_type": "stream",
     "text": [
      "⚠️ Behcet's disease: HTTPSConnectionPool(host='name-resolution-normalizer.prod.monarchinitiative.org', port=443): Max retries exceeded with url: /resolve (Caused by NameResolutionError(\"<urllib3.connection.HTTPSConnection object at 0x7dfdd66c3450>: Failed to resolve 'name-resolution-normalizer.prod.monarchinitiative.org' ([Errno -2] Name or service not known)\"))\n"
     ]
    },
    {
     "name": "stderr",
     "output_type": "stream",
     "text": [
      "\r",
      "🌐 MONDO Normalizer Matching:  36%|███▌      | 49/137 [00:12<00:23,  3.81it/s]"
     ]
    },
    {
     "name": "stdout",
     "output_type": "stream",
     "text": [
      "⚠️ Kawasaki disease: HTTPSConnectionPool(host='name-resolution-normalizer.prod.monarchinitiative.org', port=443): Max retries exceeded with url: /resolve (Caused by NameResolutionError(\"<urllib3.connection.HTTPSConnection object at 0x7dfdd66b3750>: Failed to resolve 'name-resolution-normalizer.prod.monarchinitiative.org' ([Errno -2] Name or service not known)\"))\n"
     ]
    },
    {
     "name": "stderr",
     "output_type": "stream",
     "text": [
      "\r",
      "🌐 MONDO Normalizer Matching:  36%|███▋      | 50/137 [00:13<00:22,  3.81it/s]"
     ]
    },
    {
     "name": "stdout",
     "output_type": "stream",
     "text": [
      "⚠️ jejunal cancer: HTTPSConnectionPool(host='name-resolution-normalizer.prod.monarchinitiative.org', port=443): Max retries exceeded with url: /resolve (Caused by NameResolutionError(\"<urllib3.connection.HTTPSConnection object at 0x7dfdd66b2410>: Failed to resolve 'name-resolution-normalizer.prod.monarchinitiative.org' ([Errno -2] Name or service not known)\"))\n"
     ]
    },
    {
     "name": "stderr",
     "output_type": "stream",
     "text": [
      "\r",
      "🌐 MONDO Normalizer Matching:  37%|███▋      | 51/137 [00:13<00:22,  3.82it/s]"
     ]
    },
    {
     "name": "stdout",
     "output_type": "stream",
     "text": [
      "⚠️ thoracic aortic aneurysm: HTTPSConnectionPool(host='name-resolution-normalizer.prod.monarchinitiative.org', port=443): Max retries exceeded with url: /resolve (Caused by NameResolutionError(\"<urllib3.connection.HTTPSConnection object at 0x7dfdd6698f50>: Failed to resolve 'name-resolution-normalizer.prod.monarchinitiative.org' ([Errno -2] Name or service not known)\"))\n"
     ]
    },
    {
     "name": "stderr",
     "output_type": "stream",
     "text": [
      "\r",
      "🌐 MONDO Normalizer Matching:  38%|███▊      | 52/137 [00:13<00:22,  3.82it/s]"
     ]
    },
    {
     "name": "stdout",
     "output_type": "stream",
     "text": [
      "⚠️ metabolic syndrome X: HTTPSConnectionPool(host='name-resolution-normalizer.prod.monarchinitiative.org', port=443): Max retries exceeded with url: /resolve (Caused by NameResolutionError(\"<urllib3.connection.HTTPSConnection object at 0x7dfdd66b3c10>: Failed to resolve 'name-resolution-normalizer.prod.monarchinitiative.org' ([Errno -2] Name or service not known)\"))\n"
     ]
    },
    {
     "name": "stderr",
     "output_type": "stream",
     "text": [
      "\r",
      "🌐 MONDO Normalizer Matching:  39%|███▊      | 53/137 [00:13<00:21,  3.82it/s]"
     ]
    },
    {
     "name": "stdout",
     "output_type": "stream",
     "text": [
      "⚠️ azoospermia: HTTPSConnectionPool(host='name-resolution-normalizer.prod.monarchinitiative.org', port=443): Max retries exceeded with url: /resolve (Caused by NameResolutionError(\"<urllib3.connection.HTTPSConnection object at 0x7dfdd66b3c90>: Failed to resolve 'name-resolution-normalizer.prod.monarchinitiative.org' ([Errno -2] Name or service not known)\"))\n"
     ]
    },
    {
     "name": "stderr",
     "output_type": "stream",
     "text": [
      "\r",
      "🌐 MONDO Normalizer Matching:  39%|███▉      | 54/137 [00:14<00:21,  3.82it/s]"
     ]
    },
    {
     "name": "stdout",
     "output_type": "stream",
     "text": [
      "⚠️ sclerosing cholangitis: HTTPSConnectionPool(host='name-resolution-normalizer.prod.monarchinitiative.org', port=443): Max retries exceeded with url: /resolve (Caused by NameResolutionError(\"<urllib3.connection.HTTPSConnection object at 0x7dfdd66c3510>: Failed to resolve 'name-resolution-normalizer.prod.monarchinitiative.org' ([Errno -2] Name or service not known)\"))\n"
     ]
    },
    {
     "name": "stderr",
     "output_type": "stream",
     "text": [
      "\r",
      "🌐 MONDO Normalizer Matching:  40%|████      | 55/137 [00:14<00:21,  3.80it/s]"
     ]
    },
    {
     "name": "stdout",
     "output_type": "stream",
     "text": [
      "⚠️ Parkinson's disease: HTTPSConnectionPool(host='name-resolution-normalizer.prod.monarchinitiative.org', port=443): Max retries exceeded with url: /resolve (Caused by NameResolutionError(\"<urllib3.connection.HTTPSConnection object at 0x7dfdd66c2e50>: Failed to resolve 'name-resolution-normalizer.prod.monarchinitiative.org' ([Errno -2] Name or service not known)\"))\n"
     ]
    },
    {
     "name": "stderr",
     "output_type": "stream",
     "text": [
      "\r",
      "🌐 MONDO Normalizer Matching:  41%|████      | 56/137 [00:14<00:21,  3.81it/s]"
     ]
    },
    {
     "name": "stdout",
     "output_type": "stream",
     "text": [
      "⚠️ hypothyroidism: HTTPSConnectionPool(host='name-resolution-normalizer.prod.monarchinitiative.org', port=443): Max retries exceeded with url: /resolve (Caused by NameResolutionError(\"<urllib3.connection.HTTPSConnection object at 0x7dfdd66a8b90>: Failed to resolve 'name-resolution-normalizer.prod.monarchinitiative.org' ([Errno -2] Name or service not known)\"))\n"
     ]
    },
    {
     "name": "stderr",
     "output_type": "stream",
     "text": [
      "\r",
      "🌐 MONDO Normalizer Matching:  42%|████▏     | 57/137 [00:14<00:20,  3.82it/s]"
     ]
    },
    {
     "name": "stdout",
     "output_type": "stream",
     "text": [
      "⚠️ endogenous depression: HTTPSConnectionPool(host='name-resolution-normalizer.prod.monarchinitiative.org', port=443): Max retries exceeded with url: /resolve (Caused by NameResolutionError(\"<urllib3.connection.HTTPSConnection object at 0x7dfdd66bb5d0>: Failed to resolve 'name-resolution-normalizer.prod.monarchinitiative.org' ([Errno -2] Name or service not known)\"))\n"
     ]
    },
    {
     "name": "stderr",
     "output_type": "stream",
     "text": [
      "\r",
      "🌐 MONDO Normalizer Matching:  42%|████▏     | 58/137 [00:15<00:20,  3.83it/s]"
     ]
    },
    {
     "name": "stdout",
     "output_type": "stream",
     "text": [
      "⚠️ breast cancer: HTTPSConnectionPool(host='name-resolution-normalizer.prod.monarchinitiative.org', port=443): Max retries exceeded with url: /resolve (Caused by NameResolutionError(\"<urllib3.connection.HTTPSConnection object at 0x7dfdd66b8210>: Failed to resolve 'name-resolution-normalizer.prod.monarchinitiative.org' ([Errno -2] Name or service not known)\"))\n"
     ]
    },
    {
     "name": "stderr",
     "output_type": "stream",
     "text": [
      "\r",
      "🌐 MONDO Normalizer Matching:  43%|████▎     | 59/137 [00:15<00:20,  3.83it/s]"
     ]
    },
    {
     "name": "stdout",
     "output_type": "stream",
     "text": [
      "⚠️ glaucoma: HTTPSConnectionPool(host='name-resolution-normalizer.prod.monarchinitiative.org', port=443): Max retries exceeded with url: /resolve (Caused by NameResolutionError(\"<urllib3.connection.HTTPSConnection object at 0x7dfdd66a9750>: Failed to resolve 'name-resolution-normalizer.prod.monarchinitiative.org' ([Errno -2] Name or service not known)\"))\n"
     ]
    },
    {
     "name": "stderr",
     "output_type": "stream",
     "text": [
      "\r",
      "🌐 MONDO Normalizer Matching:  44%|████▍     | 60/137 [00:15<00:20,  3.83it/s]"
     ]
    },
    {
     "name": "stdout",
     "output_type": "stream",
     "text": [
      "⚠️ peritoneum cancer: HTTPSConnectionPool(host='name-resolution-normalizer.prod.monarchinitiative.org', port=443): Max retries exceeded with url: /resolve (Caused by NameResolutionError(\"<urllib3.connection.HTTPSConnection object at 0x7dfdd66c2410>: Failed to resolve 'name-resolution-normalizer.prod.monarchinitiative.org' ([Errno -2] Name or service not known)\"))\n"
     ]
    },
    {
     "name": "stderr",
     "output_type": "stream",
     "text": [
      "\r",
      "🌐 MONDO Normalizer Matching:  45%|████▍     | 61/137 [00:16<00:19,  3.81it/s]"
     ]
    },
    {
     "name": "stdout",
     "output_type": "stream",
     "text": [
      "⚠️ vascular cancer: HTTPSConnectionPool(host='name-resolution-normalizer.prod.monarchinitiative.org', port=443): Max retries exceeded with url: /resolve (Caused by NameResolutionError(\"<urllib3.connection.HTTPSConnection object at 0x7dfdd66c2550>: Failed to resolve 'name-resolution-normalizer.prod.monarchinitiative.org' ([Errno -2] Name or service not known)\"))\n"
     ]
    },
    {
     "name": "stderr",
     "output_type": "stream",
     "text": [
      "\r",
      "🌐 MONDO Normalizer Matching:  45%|████▌     | 62/137 [00:16<00:19,  3.79it/s]"
     ]
    },
    {
     "name": "stdout",
     "output_type": "stream",
     "text": [
      "⚠️ thyroid cancer: HTTPSConnectionPool(host='name-resolution-normalizer.prod.monarchinitiative.org', port=443): Max retries exceeded with url: /resolve (Caused by NameResolutionError(\"<urllib3.connection.HTTPSConnection object at 0x7dfdd69c1d90>: Failed to resolve 'name-resolution-normalizer.prod.monarchinitiative.org' ([Errno -2] Name or service not known)\"))\n"
     ]
    },
    {
     "name": "stderr",
     "output_type": "stream",
     "text": [
      "\r",
      "🌐 MONDO Normalizer Matching:  46%|████▌     | 63/137 [00:16<00:19,  3.81it/s]"
     ]
    },
    {
     "name": "stdout",
     "output_type": "stream",
     "text": [
      "⚠️ malignant mesothelioma: HTTPSConnectionPool(host='name-resolution-normalizer.prod.monarchinitiative.org', port=443): Max retries exceeded with url: /resolve (Caused by NameResolutionError(\"<urllib3.connection.HTTPSConnection object at 0x7dfdd66b0590>: Failed to resolve 'name-resolution-normalizer.prod.monarchinitiative.org' ([Errno -2] Name or service not known)\"))\n"
     ]
    },
    {
     "name": "stderr",
     "output_type": "stream",
     "text": [
      "\r",
      "🌐 MONDO Normalizer Matching:  47%|████▋     | 64/137 [00:16<00:19,  3.80it/s]"
     ]
    },
    {
     "name": "stdout",
     "output_type": "stream",
     "text": [
      "⚠️ pancreatic cancer: HTTPSConnectionPool(host='name-resolution-normalizer.prod.monarchinitiative.org', port=443): Max retries exceeded with url: /resolve (Caused by NameResolutionError(\"<urllib3.connection.HTTPSConnection object at 0x7dfdd66b8bd0>: Failed to resolve 'name-resolution-normalizer.prod.monarchinitiative.org' ([Errno -2] Name or service not known)\"))\n"
     ]
    },
    {
     "name": "stderr",
     "output_type": "stream",
     "text": [
      "\r",
      "🌐 MONDO Normalizer Matching:  47%|████▋     | 65/137 [00:17<00:18,  3.81it/s]"
     ]
    },
    {
     "name": "stdout",
     "output_type": "stream",
     "text": [
      "⚠️ epilepsy syndrome: HTTPSConnectionPool(host='name-resolution-normalizer.prod.monarchinitiative.org', port=443): Max retries exceeded with url: /resolve (Caused by NameResolutionError(\"<urllib3.connection.HTTPSConnection object at 0x7dfdd69b3b50>: Failed to resolve 'name-resolution-normalizer.prod.monarchinitiative.org' ([Errno -2] Name or service not known)\"))\n"
     ]
    },
    {
     "name": "stderr",
     "output_type": "stream",
     "text": [
      "\r",
      "🌐 MONDO Normalizer Matching:  48%|████▊     | 66/137 [00:17<00:18,  3.82it/s]"
     ]
    },
    {
     "name": "stdout",
     "output_type": "stream",
     "text": [
      "⚠️ bone cancer: HTTPSConnectionPool(host='name-resolution-normalizer.prod.monarchinitiative.org', port=443): Max retries exceeded with url: /resolve (Caused by NameResolutionError(\"<urllib3.connection.HTTPSConnection object at 0x7dfdd66b34d0>: Failed to resolve 'name-resolution-normalizer.prod.monarchinitiative.org' ([Errno -2] Name or service not known)\"))\n"
     ]
    },
    {
     "name": "stderr",
     "output_type": "stream",
     "text": [
      "\r",
      "🌐 MONDO Normalizer Matching:  49%|████▉     | 67/137 [00:17<00:18,  3.83it/s]"
     ]
    },
    {
     "name": "stdout",
     "output_type": "stream",
     "text": [
      "⚠️ melanoma: HTTPSConnectionPool(host='name-resolution-normalizer.prod.monarchinitiative.org', port=443): Max retries exceeded with url: /resolve (Caused by NameResolutionError(\"<urllib3.connection.HTTPSConnection object at 0x7dfdd66a9b90>: Failed to resolve 'name-resolution-normalizer.prod.monarchinitiative.org' ([Errno -2] Name or service not known)\"))\n"
     ]
    },
    {
     "name": "stderr",
     "output_type": "stream",
     "text": [
      "\r",
      "🌐 MONDO Normalizer Matching:  50%|████▉     | 68/137 [00:17<00:18,  3.83it/s]"
     ]
    },
    {
     "name": "stdout",
     "output_type": "stream",
     "text": [
      "⚠️ atherosclerosis: HTTPSConnectionPool(host='name-resolution-normalizer.prod.monarchinitiative.org', port=443): Max retries exceeded with url: /resolve (Caused by NameResolutionError(\"<urllib3.connection.HTTPSConnection object at 0x7dfdd66c2f10>: Failed to resolve 'name-resolution-normalizer.prod.monarchinitiative.org' ([Errno -2] Name or service not known)\"))\n"
     ]
    },
    {
     "name": "stderr",
     "output_type": "stream",
     "text": [
      "\r",
      "🌐 MONDO Normalizer Matching:  50%|█████     | 69/137 [00:18<00:17,  3.82it/s]"
     ]
    },
    {
     "name": "stdout",
     "output_type": "stream",
     "text": [
      "⚠️ fallopian tube cancer: HTTPSConnectionPool(host='name-resolution-normalizer.prod.monarchinitiative.org', port=443): Max retries exceeded with url: /resolve (Caused by NameResolutionError(\"<urllib3.connection.HTTPSConnection object at 0x7dfdd66c1d50>: Failed to resolve 'name-resolution-normalizer.prod.monarchinitiative.org' ([Errno -2] Name or service not known)\"))\n"
     ]
    },
    {
     "name": "stderr",
     "output_type": "stream",
     "text": [
      "\r",
      "🌐 MONDO Normalizer Matching:  51%|█████     | 70/137 [00:18<00:17,  3.82it/s]"
     ]
    },
    {
     "name": "stdout",
     "output_type": "stream",
     "text": [
      "⚠️ rectum cancer: HTTPSConnectionPool(host='name-resolution-normalizer.prod.monarchinitiative.org', port=443): Max retries exceeded with url: /resolve (Caused by NameResolutionError(\"<urllib3.connection.HTTPSConnection object at 0x7dfdd66bae90>: Failed to resolve 'name-resolution-normalizer.prod.monarchinitiative.org' ([Errno -2] Name or service not known)\"))\n"
     ]
    },
    {
     "name": "stderr",
     "output_type": "stream",
     "text": [
      "\r",
      "🌐 MONDO Normalizer Matching:  52%|█████▏    | 71/137 [00:18<00:17,  3.82it/s]"
     ]
    },
    {
     "name": "stdout",
     "output_type": "stream",
     "text": [
      "⚠️ hepatitis B: HTTPSConnectionPool(host='name-resolution-normalizer.prod.monarchinitiative.org', port=443): Max retries exceeded with url: /resolve (Caused by NameResolutionError(\"<urllib3.connection.HTTPSConnection object at 0x7dfdd69eca10>: Failed to resolve 'name-resolution-normalizer.prod.monarchinitiative.org' ([Errno -2] Name or service not known)\"))\n"
     ]
    },
    {
     "name": "stderr",
     "output_type": "stream",
     "text": [
      "\r",
      "🌐 MONDO Normalizer Matching:  53%|█████▎    | 72/137 [00:18<00:16,  3.82it/s]"
     ]
    },
    {
     "name": "stdout",
     "output_type": "stream",
     "text": [
      "⚠️ dental caries: HTTPSConnectionPool(host='name-resolution-normalizer.prod.monarchinitiative.org', port=443): Max retries exceeded with url: /resolve (Caused by NameResolutionError(\"<urllib3.connection.HTTPSConnection object at 0x7dfdd69c6590>: Failed to resolve 'name-resolution-normalizer.prod.monarchinitiative.org' ([Errno -2] Name or service not known)\"))\n"
     ]
    },
    {
     "name": "stderr",
     "output_type": "stream",
     "text": [
      "\r",
      "🌐 MONDO Normalizer Matching:  53%|█████▎    | 73/137 [00:19<00:16,  3.82it/s]"
     ]
    },
    {
     "name": "stdout",
     "output_type": "stream",
     "text": [
      "⚠️ ocular cancer: HTTPSConnectionPool(host='name-resolution-normalizer.prod.monarchinitiative.org', port=443): Max retries exceeded with url: /resolve (Caused by NameResolutionError(\"<urllib3.connection.HTTPSConnection object at 0x7dfdd66c1850>: Failed to resolve 'name-resolution-normalizer.prod.monarchinitiative.org' ([Errno -2] Name or service not known)\"))\n"
     ]
    },
    {
     "name": "stderr",
     "output_type": "stream",
     "text": [
      "\r",
      "🌐 MONDO Normalizer Matching:  54%|█████▍    | 74/137 [00:19<00:16,  3.82it/s]"
     ]
    },
    {
     "name": "stdout",
     "output_type": "stream",
     "text": [
      "⚠️ colon cancer: HTTPSConnectionPool(host='name-resolution-normalizer.prod.monarchinitiative.org', port=443): Max retries exceeded with url: /resolve (Caused by NameResolutionError(\"<urllib3.connection.HTTPSConnection object at 0x7dfdd66c0ed0>: Failed to resolve 'name-resolution-normalizer.prod.monarchinitiative.org' ([Errno -2] Name or service not known)\"))\n"
     ]
    },
    {
     "name": "stderr",
     "output_type": "stream",
     "text": [
      "\r",
      "🌐 MONDO Normalizer Matching:  55%|█████▍    | 75/137 [00:19<00:16,  3.83it/s]"
     ]
    },
    {
     "name": "stdout",
     "output_type": "stream",
     "text": [
      "⚠️ anemia: HTTPSConnectionPool(host='name-resolution-normalizer.prod.monarchinitiative.org', port=443): Max retries exceeded with url: /resolve (Caused by NameResolutionError(\"<urllib3.connection.HTTPSConnection object at 0x7dfdd669a550>: Failed to resolve 'name-resolution-normalizer.prod.monarchinitiative.org' ([Errno -2] Name or service not known)\"))\n"
     ]
    },
    {
     "name": "stderr",
     "output_type": "stream",
     "text": [
      "\r",
      "🌐 MONDO Normalizer Matching:  55%|█████▌    | 76/137 [00:19<00:15,  3.83it/s]"
     ]
    },
    {
     "name": "stdout",
     "output_type": "stream",
     "text": [
      "⚠️ multiple sclerosis: HTTPSConnectionPool(host='name-resolution-normalizer.prod.monarchinitiative.org', port=443): Max retries exceeded with url: /resolve (Caused by NameResolutionError(\"<urllib3.connection.HTTPSConnection object at 0x7dfdd66b1510>: Failed to resolve 'name-resolution-normalizer.prod.monarchinitiative.org' ([Errno -2] Name or service not known)\"))\n"
     ]
    },
    {
     "name": "stderr",
     "output_type": "stream",
     "text": [
      "\r",
      "🌐 MONDO Normalizer Matching:  56%|█████▌    | 77/137 [00:20<00:15,  3.84it/s]"
     ]
    },
    {
     "name": "stdout",
     "output_type": "stream",
     "text": [
      "⚠️ ovarian cancer: HTTPSConnectionPool(host='name-resolution-normalizer.prod.monarchinitiative.org', port=443): Max retries exceeded with url: /resolve (Caused by NameResolutionError(\"<urllib3.connection.HTTPSConnection object at 0x7dfdd66bb4d0>: Failed to resolve 'name-resolution-normalizer.prod.monarchinitiative.org' ([Errno -2] Name or service not known)\"))\n"
     ]
    },
    {
     "name": "stderr",
     "output_type": "stream",
     "text": [
      "\r",
      "🌐 MONDO Normalizer Matching:  57%|█████▋    | 78/137 [00:20<00:15,  3.83it/s]"
     ]
    },
    {
     "name": "stdout",
     "output_type": "stream",
     "text": [
      "⚠️ hematologic cancer: HTTPSConnectionPool(host='name-resolution-normalizer.prod.monarchinitiative.org', port=443): Max retries exceeded with url: /resolve (Caused by NameResolutionError(\"<urllib3.connection.HTTPSConnection object at 0x7dfdd66c2950>: Failed to resolve 'name-resolution-normalizer.prod.monarchinitiative.org' ([Errno -2] Name or service not known)\"))\n"
     ]
    },
    {
     "name": "stderr",
     "output_type": "stream",
     "text": [
      "\r",
      "🌐 MONDO Normalizer Matching:  58%|█████▊    | 79/137 [00:20<00:15,  3.83it/s]"
     ]
    },
    {
     "name": "stdout",
     "output_type": "stream",
     "text": [
      "⚠️ larynx cancer: HTTPSConnectionPool(host='name-resolution-normalizer.prod.monarchinitiative.org', port=443): Max retries exceeded with url: /resolve (Caused by NameResolutionError(\"<urllib3.connection.HTTPSConnection object at 0x7dfdd66c3e10>: Failed to resolve 'name-resolution-normalizer.prod.monarchinitiative.org' ([Errno -2] Name or service not known)\"))\n"
     ]
    },
    {
     "name": "stderr",
     "output_type": "stream",
     "text": [
      "\r",
      "🌐 MONDO Normalizer Matching:  58%|█████▊    | 80/137 [00:20<00:14,  3.83it/s]"
     ]
    },
    {
     "name": "stdout",
     "output_type": "stream",
     "text": [
      "⚠️ kidney cancer: HTTPSConnectionPool(host='name-resolution-normalizer.prod.monarchinitiative.org', port=443): Max retries exceeded with url: /resolve (Caused by NameResolutionError(\"<urllib3.connection.HTTPSConnection object at 0x7dfdd66b1f50>: Failed to resolve 'name-resolution-normalizer.prod.monarchinitiative.org' ([Errno -2] Name or service not known)\"))\n"
     ]
    },
    {
     "name": "stderr",
     "output_type": "stream",
     "text": [
      "\r",
      "🌐 MONDO Normalizer Matching:  59%|█████▉    | 81/137 [00:21<00:14,  3.84it/s]"
     ]
    },
    {
     "name": "stdout",
     "output_type": "stream",
     "text": [
      "⚠️ asthma: HTTPSConnectionPool(host='name-resolution-normalizer.prod.monarchinitiative.org', port=443): Max retries exceeded with url: /resolve (Caused by NameResolutionError(\"<urllib3.connection.HTTPSConnection object at 0x7dfdd669a410>: Failed to resolve 'name-resolution-normalizer.prod.monarchinitiative.org' ([Errno -2] Name or service not known)\"))\n"
     ]
    },
    {
     "name": "stderr",
     "output_type": "stream",
     "text": [
      "\r",
      "🌐 MONDO Normalizer Matching:  60%|█████▉    | 82/137 [00:21<00:14,  3.83it/s]"
     ]
    },
    {
     "name": "stdout",
     "output_type": "stream",
     "text": [
      "⚠️ IgA glomerulonephritis: HTTPSConnectionPool(host='name-resolution-normalizer.prod.monarchinitiative.org', port=443): Max retries exceeded with url: /resolve (Caused by NameResolutionError(\"<urllib3.connection.HTTPSConnection object at 0x7dfdd66a9110>: Failed to resolve 'name-resolution-normalizer.prod.monarchinitiative.org' ([Errno -2] Name or service not known)\"))\n"
     ]
    },
    {
     "name": "stderr",
     "output_type": "stream",
     "text": [
      "\r",
      "🌐 MONDO Normalizer Matching:  61%|██████    | 83/137 [00:21<00:14,  3.82it/s]"
     ]
    },
    {
     "name": "stdout",
     "output_type": "stream",
     "text": [
      "⚠️ germ cell cancer: HTTPSConnectionPool(host='name-resolution-normalizer.prod.monarchinitiative.org', port=443): Max retries exceeded with url: /resolve (Caused by NameResolutionError(\"<urllib3.connection.HTTPSConnection object at 0x7dfdd66b9310>: Failed to resolve 'name-resolution-normalizer.prod.monarchinitiative.org' ([Errno -2] Name or service not known)\"))\n"
     ]
    },
    {
     "name": "stderr",
     "output_type": "stream",
     "text": [
      "\r",
      "🌐 MONDO Normalizer Matching:  61%|██████▏   | 84/137 [00:22<00:13,  3.82it/s]"
     ]
    },
    {
     "name": "stdout",
     "output_type": "stream",
     "text": [
      "⚠️ testicular cancer: HTTPSConnectionPool(host='name-resolution-normalizer.prod.monarchinitiative.org', port=443): Max retries exceeded with url: /resolve (Caused by NameResolutionError(\"<urllib3.connection.HTTPSConnection object at 0x7dfdd69c75d0>: Failed to resolve 'name-resolution-normalizer.prod.monarchinitiative.org' ([Errno -2] Name or service not known)\"))\n"
     ]
    },
    {
     "name": "stderr",
     "output_type": "stream",
     "text": [
      "\r",
      "🌐 MONDO Normalizer Matching:  62%|██████▏   | 85/137 [00:22<00:13,  3.82it/s]"
     ]
    },
    {
     "name": "stdout",
     "output_type": "stream",
     "text": [
      "⚠️ malignant glioma: HTTPSConnectionPool(host='name-resolution-normalizer.prod.monarchinitiative.org', port=443): Max retries exceeded with url: /resolve (Caused by NameResolutionError(\"<urllib3.connection.HTTPSConnection object at 0x7dfdd66b1090>: Failed to resolve 'name-resolution-normalizer.prod.monarchinitiative.org' ([Errno -2] Name or service not known)\"))\n"
     ]
    },
    {
     "name": "stderr",
     "output_type": "stream",
     "text": [
      "\r",
      "🌐 MONDO Normalizer Matching:  63%|██████▎   | 86/137 [00:22<00:13,  3.81it/s]"
     ]
    },
    {
     "name": "stdout",
     "output_type": "stream",
     "text": [
      "⚠️ chronic obstructive pulmonary disease: HTTPSConnectionPool(host='name-resolution-normalizer.prod.monarchinitiative.org', port=443): Max retries exceeded with url: /resolve (Caused by NameResolutionError(\"<urllib3.connection.HTTPSConnection object at 0x7dfdd66c3390>: Failed to resolve 'name-resolution-normalizer.prod.monarchinitiative.org' ([Errno -2] Name or service not known)\"))\n"
     ]
    },
    {
     "name": "stderr",
     "output_type": "stream",
     "text": [
      "\r",
      "🌐 MONDO Normalizer Matching:  64%|██████▎   | 87/137 [00:22<00:13,  3.82it/s]"
     ]
    },
    {
     "name": "stdout",
     "output_type": "stream",
     "text": [
      "⚠️ gallbladder cancer: HTTPSConnectionPool(host='name-resolution-normalizer.prod.monarchinitiative.org', port=443): Max retries exceeded with url: /resolve (Caused by NameResolutionError(\"<urllib3.connection.HTTPSConnection object at 0x7dfdd66c3b50>: Failed to resolve 'name-resolution-normalizer.prod.monarchinitiative.org' ([Errno -2] Name or service not known)\"))\n"
     ]
    },
    {
     "name": "stderr",
     "output_type": "stream",
     "text": [
      "\r",
      "🌐 MONDO Normalizer Matching:  64%|██████▍   | 88/137 [00:23<00:12,  3.81it/s]"
     ]
    },
    {
     "name": "stdout",
     "output_type": "stream",
     "text": [
      "⚠️ thymus cancer: HTTPSConnectionPool(host='name-resolution-normalizer.prod.monarchinitiative.org', port=443): Max retries exceeded with url: /resolve (Caused by NameResolutionError(\"<urllib3.connection.HTTPSConnection object at 0x7dfdd669bed0>: Failed to resolve 'name-resolution-normalizer.prod.monarchinitiative.org' ([Errno -2] Name or service not known)\"))\n"
     ]
    },
    {
     "name": "stderr",
     "output_type": "stream",
     "text": [
      "\r",
      "🌐 MONDO Normalizer Matching:  65%|██████▍   | 89/137 [00:23<00:12,  3.81it/s]"
     ]
    },
    {
     "name": "stdout",
     "output_type": "stream",
     "text": [
      "⚠️ atopic dermatitis: HTTPSConnectionPool(host='name-resolution-normalizer.prod.monarchinitiative.org', port=443): Max retries exceeded with url: /resolve (Caused by NameResolutionError(\"<urllib3.connection.HTTPSConnection object at 0x7dfdd6d14d10>: Failed to resolve 'name-resolution-normalizer.prod.monarchinitiative.org' ([Errno -2] Name or service not known)\"))\n"
     ]
    },
    {
     "name": "stderr",
     "output_type": "stream",
     "text": [
      "\r",
      "🌐 MONDO Normalizer Matching:  66%|██████▌   | 90/137 [00:23<00:12,  3.82it/s]"
     ]
    },
    {
     "name": "stdout",
     "output_type": "stream",
     "text": [
      "⚠️ bipolar disorder: HTTPSConnectionPool(host='name-resolution-normalizer.prod.monarchinitiative.org', port=443): Max retries exceeded with url: /resolve (Caused by NameResolutionError(\"<urllib3.connection.HTTPSConnection object at 0x7dfdd69d6110>: Failed to resolve 'name-resolution-normalizer.prod.monarchinitiative.org' ([Errno -2] Name or service not known)\"))\n"
     ]
    },
    {
     "name": "stderr",
     "output_type": "stream",
     "text": [
      "\r",
      "🌐 MONDO Normalizer Matching:  66%|██████▋   | 91/137 [00:23<00:12,  3.81it/s]"
     ]
    },
    {
     "name": "stdout",
     "output_type": "stream",
     "text": [
      "⚠️ amyotrophic lateral sclerosis: HTTPSConnectionPool(host='name-resolution-normalizer.prod.monarchinitiative.org', port=443): Max retries exceeded with url: /resolve (Caused by NameResolutionError(\"<urllib3.connection.HTTPSConnection object at 0x7dfdd69be210>: Failed to resolve 'name-resolution-normalizer.prod.monarchinitiative.org' ([Errno -2] Name or service not known)\"))\n"
     ]
    },
    {
     "name": "stderr",
     "output_type": "stream",
     "text": [
      "\r",
      "🌐 MONDO Normalizer Matching:  67%|██████▋   | 92/137 [00:24<00:11,  3.82it/s]"
     ]
    },
    {
     "name": "stdout",
     "output_type": "stream",
     "text": [
      "⚠️ coronary artery disease: HTTPSConnectionPool(host='name-resolution-normalizer.prod.monarchinitiative.org', port=443): Max retries exceeded with url: /resolve (Caused by NameResolutionError(\"<urllib3.connection.HTTPSConnection object at 0x7dfdd66c37d0>: Failed to resolve 'name-resolution-normalizer.prod.monarchinitiative.org' ([Errno -2] Name or service not known)\"))\n"
     ]
    },
    {
     "name": "stderr",
     "output_type": "stream",
     "text": [
      "\r",
      "🌐 MONDO Normalizer Matching:  68%|██████▊   | 93/137 [00:24<00:11,  3.71it/s]"
     ]
    },
    {
     "name": "stdout",
     "output_type": "stream",
     "text": [
      "⚠️ meningioma: HTTPSConnectionPool(host='name-resolution-normalizer.prod.monarchinitiative.org', port=443): Max retries exceeded with url: /resolve (Caused by NameResolutionError(\"<urllib3.connection.HTTPSConnection object at 0x7dfdd66b1f50>: Failed to resolve 'name-resolution-normalizer.prod.monarchinitiative.org' ([Errno -2] Name or service not known)\"))\n"
     ]
    },
    {
     "name": "stderr",
     "output_type": "stream",
     "text": [
      "\r",
      "🌐 MONDO Normalizer Matching:  69%|██████▊   | 94/137 [00:24<00:11,  3.76it/s]"
     ]
    },
    {
     "name": "stdout",
     "output_type": "stream",
     "text": [
      "⚠️ liver cancer: HTTPSConnectionPool(host='name-resolution-normalizer.prod.monarchinitiative.org', port=443): Max retries exceeded with url: /resolve (Caused by NameResolutionError(\"<urllib3.connection.HTTPSConnection object at 0x7dfdd66a8450>: Failed to resolve 'name-resolution-normalizer.prod.monarchinitiative.org' ([Errno -2] Name or service not known)\"))\n"
     ]
    },
    {
     "name": "stderr",
     "output_type": "stream",
     "text": [
      "\r",
      "🌐 MONDO Normalizer Matching:  69%|██████▉   | 95/137 [00:24<00:11,  3.78it/s]"
     ]
    },
    {
     "name": "stdout",
     "output_type": "stream",
     "text": [
      "⚠️ uterine cancer: HTTPSConnectionPool(host='name-resolution-normalizer.prod.monarchinitiative.org', port=443): Max retries exceeded with url: /resolve (Caused by NameResolutionError(\"<urllib3.connection.HTTPSConnection object at 0x7dfdd66b22d0>: Failed to resolve 'name-resolution-normalizer.prod.monarchinitiative.org' ([Errno -2] Name or service not known)\"))\n"
     ]
    },
    {
     "name": "stderr",
     "output_type": "stream",
     "text": [
      "\r",
      "🌐 MONDO Normalizer Matching:  70%|███████   | 96/137 [00:25<00:10,  3.79it/s]"
     ]
    },
    {
     "name": "stdout",
     "output_type": "stream",
     "text": [
      "⚠️ adrenal gland cancer: HTTPSConnectionPool(host='name-resolution-normalizer.prod.monarchinitiative.org', port=443): Max retries exceeded with url: /resolve (Caused by NameResolutionError(\"<urllib3.connection.HTTPSConnection object at 0x7dfdd66b8fd0>: Failed to resolve 'name-resolution-normalizer.prod.monarchinitiative.org' ([Errno -2] Name or service not known)\"))\n"
     ]
    },
    {
     "name": "stderr",
     "output_type": "stream",
     "text": [
      "\r",
      "🌐 MONDO Normalizer Matching:  71%|███████   | 97/137 [00:25<00:10,  3.80it/s]"
     ]
    },
    {
     "name": "stdout",
     "output_type": "stream",
     "text": [
      "⚠️ muscle cancer: HTTPSConnectionPool(host='name-resolution-normalizer.prod.monarchinitiative.org', port=443): Max retries exceeded with url: /resolve (Caused by NameResolutionError(\"<urllib3.connection.HTTPSConnection object at 0x7dfdd66c2290>: Failed to resolve 'name-resolution-normalizer.prod.monarchinitiative.org' ([Errno -2] Name or service not known)\"))\n"
     ]
    },
    {
     "name": "stderr",
     "output_type": "stream",
     "text": [
      "\r",
      "🌐 MONDO Normalizer Matching:  72%|███████▏  | 98/137 [00:25<00:10,  3.79it/s]"
     ]
    },
    {
     "name": "stdout",
     "output_type": "stream",
     "text": [
      "⚠️ skin cancer: HTTPSConnectionPool(host='name-resolution-normalizer.prod.monarchinitiative.org', port=443): Max retries exceeded with url: /resolve (Caused by NameResolutionError(\"<urllib3.connection.HTTPSConnection object at 0x7dfdd66c1b50>: Failed to resolve 'name-resolution-normalizer.prod.monarchinitiative.org' ([Errno -2] Name or service not known)\"))\n"
     ]
    },
    {
     "name": "stderr",
     "output_type": "stream",
     "text": [
      "\r",
      "🌐 MONDO Normalizer Matching:  72%|███████▏  | 99/137 [00:25<00:09,  3.80it/s]"
     ]
    },
    {
     "name": "stdout",
     "output_type": "stream",
     "text": [
      "⚠️ systemic scleroderma: HTTPSConnectionPool(host='name-resolution-normalizer.prod.monarchinitiative.org', port=443): Max retries exceeded with url: /resolve (Caused by NameResolutionError(\"<urllib3.connection.HTTPSConnection object at 0x7dfdd66c1010>: Failed to resolve 'name-resolution-normalizer.prod.monarchinitiative.org' ([Errno -2] Name or service not known)\"))\n"
     ]
    },
    {
     "name": "stderr",
     "output_type": "stream",
     "text": [
      "\r",
      "🌐 MONDO Normalizer Matching:  73%|███████▎  | 100/137 [00:26<00:09,  3.81it/s]"
     ]
    },
    {
     "name": "stdout",
     "output_type": "stream",
     "text": [
      "⚠️ cervical cancer: HTTPSConnectionPool(host='name-resolution-normalizer.prod.monarchinitiative.org', port=443): Max retries exceeded with url: /resolve (Caused by NameResolutionError(\"<urllib3.connection.HTTPSConnection object at 0x7dfdd69fcad0>: Failed to resolve 'name-resolution-normalizer.prod.monarchinitiative.org' ([Errno -2] Name or service not known)\"))\n"
     ]
    },
    {
     "name": "stderr",
     "output_type": "stream",
     "text": [
      "\r",
      "🌐 MONDO Normalizer Matching:  74%|███████▎  | 101/137 [00:26<00:09,  3.83it/s]"
     ]
    },
    {
     "name": "stdout",
     "output_type": "stream",
     "text": [
      "⚠️ allergic rhinitis: HTTPSConnectionPool(host='name-resolution-normalizer.prod.monarchinitiative.org', port=443): Max retries exceeded with url: /resolve (Caused by NameResolutionError(\"<urllib3.connection.HTTPSConnection object at 0x7dfdd66bbbd0>: Failed to resolve 'name-resolution-normalizer.prod.monarchinitiative.org' ([Errno -2] Name or service not known)\"))\n"
     ]
    },
    {
     "name": "stderr",
     "output_type": "stream",
     "text": [
      "\r",
      "🌐 MONDO Normalizer Matching:  74%|███████▍  | 102/137 [00:26<00:09,  3.82it/s]"
     ]
    },
    {
     "name": "stdout",
     "output_type": "stream",
     "text": [
      "⚠️ bile duct cancer: HTTPSConnectionPool(host='name-resolution-normalizer.prod.monarchinitiative.org', port=443): Max retries exceeded with url: /resolve (Caused by NameResolutionError(\"<urllib3.connection.HTTPSConnection object at 0x7dfdd6699a10>: Failed to resolve 'name-resolution-normalizer.prod.monarchinitiative.org' ([Errno -2] Name or service not known)\"))\n"
     ]
    },
    {
     "name": "stderr",
     "output_type": "stream",
     "text": [
      "\r",
      "🌐 MONDO Normalizer Matching:  75%|███████▌  | 103/137 [00:27<00:08,  3.83it/s]"
     ]
    },
    {
     "name": "stdout",
     "output_type": "stream",
     "text": [
      "⚠️ pancreatitis: HTTPSConnectionPool(host='name-resolution-normalizer.prod.monarchinitiative.org', port=443): Max retries exceeded with url: /resolve (Caused by NameResolutionError(\"<urllib3.connection.HTTPSConnection object at 0x7dfdd66a9990>: Failed to resolve 'name-resolution-normalizer.prod.monarchinitiative.org' ([Errno -2] Name or service not known)\"))\n"
     ]
    },
    {
     "name": "stderr",
     "output_type": "stream",
     "text": [
      "\r",
      "🌐 MONDO Normalizer Matching:  76%|███████▌  | 104/137 [00:27<00:08,  3.83it/s]"
     ]
    },
    {
     "name": "stdout",
     "output_type": "stream",
     "text": [
      "⚠️ esophageal cancer: HTTPSConnectionPool(host='name-resolution-normalizer.prod.monarchinitiative.org', port=443): Max retries exceeded with url: /resolve (Caused by NameResolutionError(\"<urllib3.connection.HTTPSConnection object at 0x7dfdd66b3990>: Failed to resolve 'name-resolution-normalizer.prod.monarchinitiative.org' ([Errno -2] Name or service not known)\"))\n"
     ]
    },
    {
     "name": "stderr",
     "output_type": "stream",
     "text": [
      "\r",
      "🌐 MONDO Normalizer Matching:  77%|███████▋  | 105/137 [00:27<00:08,  3.83it/s]"
     ]
    },
    {
     "name": "stdout",
     "output_type": "stream",
     "text": [
      "⚠️ middle ear cancer: HTTPSConnectionPool(host='name-resolution-normalizer.prod.monarchinitiative.org', port=443): Max retries exceeded with url: /resolve (Caused by NameResolutionError(\"<urllib3.connection.HTTPSConnection object at 0x7dfdd66c2350>: Failed to resolve 'name-resolution-normalizer.prod.monarchinitiative.org' ([Errno -2] Name or service not known)\"))\n"
     ]
    },
    {
     "name": "stderr",
     "output_type": "stream",
     "text": [
      "\r",
      "🌐 MONDO Normalizer Matching:  77%|███████▋  | 106/137 [00:27<00:08,  3.81it/s]"
     ]
    },
    {
     "name": "stdout",
     "output_type": "stream",
     "text": [
      "⚠️ Paget's disease of bone: HTTPSConnectionPool(host='name-resolution-normalizer.prod.monarchinitiative.org', port=443): Max retries exceeded with url: /resolve (Caused by NameResolutionError(\"<urllib3.connection.HTTPSConnection object at 0x7dfdd66b99d0>: Failed to resolve 'name-resolution-normalizer.prod.monarchinitiative.org' ([Errno -2] Name or service not known)\"))\n"
     ]
    },
    {
     "name": "stderr",
     "output_type": "stream",
     "text": [
      "\r",
      "🌐 MONDO Normalizer Matching:  78%|███████▊  | 107/137 [00:28<00:07,  3.82it/s]"
     ]
    },
    {
     "name": "stdout",
     "output_type": "stream",
     "text": [
      "⚠️ schizophrenia: HTTPSConnectionPool(host='name-resolution-normalizer.prod.monarchinitiative.org', port=443): Max retries exceeded with url: /resolve (Caused by NameResolutionError(\"<urllib3.connection.HTTPSConnection object at 0x7dfdd669b750>: Failed to resolve 'name-resolution-normalizer.prod.monarchinitiative.org' ([Errno -2] Name or service not known)\"))\n"
     ]
    },
    {
     "name": "stderr",
     "output_type": "stream",
     "text": [
      "\r",
      "🌐 MONDO Normalizer Matching:  79%|███████▉  | 108/137 [00:28<00:07,  3.82it/s]"
     ]
    },
    {
     "name": "stdout",
     "output_type": "stream",
     "text": [
      "⚠️ mediastinal cancer: HTTPSConnectionPool(host='name-resolution-normalizer.prod.monarchinitiative.org', port=443): Max retries exceeded with url: /resolve (Caused by NameResolutionError(\"<urllib3.connection.HTTPSConnection object at 0x7dfdd66c4ed0>: Failed to resolve 'name-resolution-normalizer.prod.monarchinitiative.org' ([Errno -2] Name or service not known)\"))\n"
     ]
    },
    {
     "name": "stderr",
     "output_type": "stream",
     "text": [
      "\r",
      "🌐 MONDO Normalizer Matching:  80%|███████▉  | 109/137 [00:28<00:07,  3.83it/s]"
     ]
    },
    {
     "name": "stdout",
     "output_type": "stream",
     "text": [
      "⚠️ spinal cancer: HTTPSConnectionPool(host='name-resolution-normalizer.prod.monarchinitiative.org', port=443): Max retries exceeded with url: /resolve (Caused by NameResolutionError(\"<urllib3.connection.HTTPSConnection object at 0x7dfdd69f1890>: Failed to resolve 'name-resolution-normalizer.prod.monarchinitiative.org' ([Errno -2] Name or service not known)\"))\n"
     ]
    },
    {
     "name": "stderr",
     "output_type": "stream",
     "text": [
      "\r",
      "🌐 MONDO Normalizer Matching:  80%|████████  | 110/137 [00:28<00:07,  3.83it/s]"
     ]
    },
    {
     "name": "stdout",
     "output_type": "stream",
     "text": [
      "⚠️ nephrolithiasis: HTTPSConnectionPool(host='name-resolution-normalizer.prod.monarchinitiative.org', port=443): Max retries exceeded with url: /resolve (Caused by NameResolutionError(\"<urllib3.connection.HTTPSConnection object at 0x7dfdd66b9c50>: Failed to resolve 'name-resolution-normalizer.prod.monarchinitiative.org' ([Errno -2] Name or service not known)\"))\n"
     ]
    },
    {
     "name": "stderr",
     "output_type": "stream",
     "text": [
      "\r",
      "🌐 MONDO Normalizer Matching:  81%|████████  | 111/137 [00:29<00:06,  3.83it/s]"
     ]
    },
    {
     "name": "stdout",
     "output_type": "stream",
     "text": [
      "⚠️ retroperitoneal cancer: HTTPSConnectionPool(host='name-resolution-normalizer.prod.monarchinitiative.org', port=443): Max retries exceeded with url: /resolve (Caused by NameResolutionError(\"<urllib3.connection.HTTPSConnection object at 0x7dfdd66c1490>: Failed to resolve 'name-resolution-normalizer.prod.monarchinitiative.org' ([Errno -2] Name or service not known)\"))\n"
     ]
    },
    {
     "name": "stderr",
     "output_type": "stream",
     "text": [
      "\r",
      "🌐 MONDO Normalizer Matching:  82%|████████▏ | 112/137 [00:29<00:06,  3.83it/s]"
     ]
    },
    {
     "name": "stdout",
     "output_type": "stream",
     "text": [
      "⚠️ panic disorder: HTTPSConnectionPool(host='name-resolution-normalizer.prod.monarchinitiative.org', port=443): Max retries exceeded with url: /resolve (Caused by NameResolutionError(\"<urllib3.connection.HTTPSConnection object at 0x7dfdd66b2890>: Failed to resolve 'name-resolution-normalizer.prod.monarchinitiative.org' ([Errno -2] Name or service not known)\"))\n"
     ]
    },
    {
     "name": "stderr",
     "output_type": "stream",
     "text": [
      "\r",
      "🌐 MONDO Normalizer Matching:  82%|████████▏ | 113/137 [00:29<00:06,  3.83it/s]"
     ]
    },
    {
     "name": "stdout",
     "output_type": "stream",
     "text": [
      "⚠️ acquired immunodeficiency syndrome: HTTPSConnectionPool(host='name-resolution-normalizer.prod.monarchinitiative.org', port=443): Max retries exceeded with url: /resolve (Caused by NameResolutionError(\"<urllib3.connection.HTTPSConnection object at 0x7dfdd66abe90>: Failed to resolve 'name-resolution-normalizer.prod.monarchinitiative.org' ([Errno -2] Name or service not known)\"))\n"
     ]
    },
    {
     "name": "stderr",
     "output_type": "stream",
     "text": [
      "\r",
      "🌐 MONDO Normalizer Matching:  83%|████████▎ | 114/137 [00:29<00:06,  3.53it/s]"
     ]
    },
    {
     "name": "stdout",
     "output_type": "stream",
     "text": [
      "⚠️ migraine: HTTPSConnectionPool(host='name-resolution-normalizer.prod.monarchinitiative.org', port=443): Max retries exceeded with url: /resolve (Caused by NameResolutionError(\"<urllib3.connection.HTTPSConnection object at 0x7dfdd66c4bd0>: Failed to resolve 'name-resolution-normalizer.prod.monarchinitiative.org' ([Errno -2] Name or service not known)\"))\n"
     ]
    },
    {
     "name": "stderr",
     "output_type": "stream",
     "text": [
      "\r",
      "🌐 MONDO Normalizer Matching:  84%|████████▍ | 115/137 [00:30<00:06,  3.61it/s]"
     ]
    },
    {
     "name": "stdout",
     "output_type": "stream",
     "text": [
      "⚠️ ankylosing spondylitis: HTTPSConnectionPool(host='name-resolution-normalizer.prod.monarchinitiative.org', port=443): Max retries exceeded with url: /resolve (Caused by NameResolutionError(\"<urllib3.connection.HTTPSConnection object at 0x7dfdd66aa850>: Failed to resolve 'name-resolution-normalizer.prod.monarchinitiative.org' ([Errno -2] Name or service not known)\"))\n"
     ]
    },
    {
     "name": "stderr",
     "output_type": "stream",
     "text": [
      "\r",
      "🌐 MONDO Normalizer Matching:  85%|████████▍ | 116/137 [00:30<00:05,  3.67it/s]"
     ]
    },
    {
     "name": "stdout",
     "output_type": "stream",
     "text": [
      "⚠️ rheumatoid arthritis: HTTPSConnectionPool(host='name-resolution-normalizer.prod.monarchinitiative.org', port=443): Max retries exceeded with url: /resolve (Caused by NameResolutionError(\"<urllib3.connection.HTTPSConnection object at 0x7dfdd66b2e50>: Failed to resolve 'name-resolution-normalizer.prod.monarchinitiative.org' ([Errno -2] Name or service not known)\"))\n"
     ]
    },
    {
     "name": "stderr",
     "output_type": "stream",
     "text": [
      "\r",
      "🌐 MONDO Normalizer Matching:  85%|████████▌ | 117/137 [00:30<00:05,  3.72it/s]"
     ]
    },
    {
     "name": "stdout",
     "output_type": "stream",
     "text": [
      "⚠️ abdominal aortic aneurysm: HTTPSConnectionPool(host='name-resolution-normalizer.prod.monarchinitiative.org', port=443): Max retries exceeded with url: /resolve (Caused by NameResolutionError(\"<urllib3.connection.HTTPSConnection object at 0x7dfdd66c0110>: Failed to resolve 'name-resolution-normalizer.prod.monarchinitiative.org' ([Errno -2] Name or service not known)\"))\n"
     ]
    },
    {
     "name": "stderr",
     "output_type": "stream",
     "text": [
      "\r",
      "🌐 MONDO Normalizer Matching:  86%|████████▌ | 118/137 [00:31<00:05,  3.75it/s]"
     ]
    },
    {
     "name": "stdout",
     "output_type": "stream",
     "text": [
      "⚠️ chronic kidney failure: HTTPSConnectionPool(host='name-resolution-normalizer.prod.monarchinitiative.org', port=443): Max retries exceeded with url: /resolve (Caused by NameResolutionError(\"<urllib3.connection.HTTPSConnection object at 0x7dfdd66b1f50>: Failed to resolve 'name-resolution-normalizer.prod.monarchinitiative.org' ([Errno -2] Name or service not known)\"))\n"
     ]
    },
    {
     "name": "stderr",
     "output_type": "stream",
     "text": [
      "\r",
      "🌐 MONDO Normalizer Matching:  87%|████████▋ | 119/137 [00:31<00:04,  3.77it/s]"
     ]
    },
    {
     "name": "stdout",
     "output_type": "stream",
     "text": [
      "⚠️ periodontitis: HTTPSConnectionPool(host='name-resolution-normalizer.prod.monarchinitiative.org', port=443): Max retries exceeded with url: /resolve (Caused by NameResolutionError(\"<urllib3.connection.HTTPSConnection object at 0x7dfdd69f2990>: Failed to resolve 'name-resolution-normalizer.prod.monarchinitiative.org' ([Errno -2] Name or service not known)\"))\n"
     ]
    },
    {
     "name": "stderr",
     "output_type": "stream",
     "text": [
      "\r",
      "🌐 MONDO Normalizer Matching:  88%|████████▊ | 120/137 [00:31<00:04,  3.79it/s]"
     ]
    },
    {
     "name": "stdout",
     "output_type": "stream",
     "text": [
      "⚠️ osteoarthritis: HTTPSConnectionPool(host='name-resolution-normalizer.prod.monarchinitiative.org', port=443): Max retries exceeded with url: /resolve (Caused by NameResolutionError(\"<urllib3.connection.HTTPSConnection object at 0x7dfdd66c4bd0>: Failed to resolve 'name-resolution-normalizer.prod.monarchinitiative.org' ([Errno -2] Name or service not known)\"))\n"
     ]
    },
    {
     "name": "stderr",
     "output_type": "stream",
     "text": [
      "\r",
      "🌐 MONDO Normalizer Matching:  88%|████████▊ | 121/137 [00:31<00:04,  3.81it/s]"
     ]
    },
    {
     "name": "stdout",
     "output_type": "stream",
     "text": [
      "⚠️ ulcerative colitis: HTTPSConnectionPool(host='name-resolution-normalizer.prod.monarchinitiative.org', port=443): Max retries exceeded with url: /resolve (Caused by NameResolutionError(\"<urllib3.connection.HTTPSConnection object at 0x7dfe3fd529d0>: Failed to resolve 'name-resolution-normalizer.prod.monarchinitiative.org' ([Errno -2] Name or service not known)\"))\n"
     ]
    },
    {
     "name": "stderr",
     "output_type": "stream",
     "text": [
      "\r",
      "🌐 MONDO Normalizer Matching:  89%|████████▉ | 122/137 [00:32<00:03,  3.82it/s]"
     ]
    },
    {
     "name": "stdout",
     "output_type": "stream",
     "text": [
      "⚠️ Crohn's disease: HTTPSConnectionPool(host='name-resolution-normalizer.prod.monarchinitiative.org', port=443): Max retries exceeded with url: /resolve (Caused by NameResolutionError(\"<urllib3.connection.HTTPSConnection object at 0x7dfdd66a8850>: Failed to resolve 'name-resolution-normalizer.prod.monarchinitiative.org' ([Errno -2] Name or service not known)\"))\n"
     ]
    },
    {
     "name": "stderr",
     "output_type": "stream",
     "text": [
      "\r",
      "🌐 MONDO Normalizer Matching:  90%|████████▉ | 123/137 [00:32<00:03,  3.83it/s]"
     ]
    },
    {
     "name": "stdout",
     "output_type": "stream",
     "text": [
      "⚠️ salivary gland cancer: HTTPSConnectionPool(host='name-resolution-normalizer.prod.monarchinitiative.org', port=443): Max retries exceeded with url: /resolve (Caused by NameResolutionError(\"<urllib3.connection.HTTPSConnection object at 0x7dfdd66c0b10>: Failed to resolve 'name-resolution-normalizer.prod.monarchinitiative.org' ([Errno -2] Name or service not known)\"))\n"
     ]
    },
    {
     "name": "stderr",
     "output_type": "stream",
     "text": [
      "\r",
      "🌐 MONDO Normalizer Matching:  91%|█████████ | 124/137 [00:32<00:03,  3.84it/s]"
     ]
    },
    {
     "name": "stdout",
     "output_type": "stream",
     "text": [
      "⚠️ psoriasis: HTTPSConnectionPool(host='name-resolution-normalizer.prod.monarchinitiative.org', port=443): Max retries exceeded with url: /resolve (Caused by NameResolutionError(\"<urllib3.connection.HTTPSConnection object at 0x7dfdd66b81d0>: Failed to resolve 'name-resolution-normalizer.prod.monarchinitiative.org' ([Errno -2] Name or service not known)\"))\n"
     ]
    },
    {
     "name": "stderr",
     "output_type": "stream",
     "text": [
      "\r",
      "🌐 MONDO Normalizer Matching:  91%|█████████ | 125/137 [00:32<00:03,  3.85it/s]"
     ]
    },
    {
     "name": "stdout",
     "output_type": "stream",
     "text": [
      "⚠️ narcolepsy: HTTPSConnectionPool(host='name-resolution-normalizer.prod.monarchinitiative.org', port=443): Max retries exceeded with url: /resolve (Caused by NameResolutionError(\"<urllib3.connection.HTTPSConnection object at 0x7dfdd66c3790>: Failed to resolve 'name-resolution-normalizer.prod.monarchinitiative.org' ([Errno -2] Name or service not known)\"))\n"
     ]
    },
    {
     "name": "stderr",
     "output_type": "stream",
     "text": [
      "\r",
      "🌐 MONDO Normalizer Matching:  92%|█████████▏| 126/137 [00:33<00:02,  3.84it/s]"
     ]
    },
    {
     "name": "stdout",
     "output_type": "stream",
     "text": [
      "⚠️ degenerative disc disease: HTTPSConnectionPool(host='name-resolution-normalizer.prod.monarchinitiative.org', port=443): Max retries exceeded with url: /resolve (Caused by NameResolutionError(\"<urllib3.connection.HTTPSConnection object at 0x7dfdd6698a50>: Failed to resolve 'name-resolution-normalizer.prod.monarchinitiative.org' ([Errno -2] Name or service not known)\"))\n"
     ]
    },
    {
     "name": "stderr",
     "output_type": "stream",
     "text": [
      "\r",
      "🌐 MONDO Normalizer Matching:  93%|█████████▎| 127/137 [00:33<00:02,  3.84it/s]"
     ]
    },
    {
     "name": "stdout",
     "output_type": "stream",
     "text": [
      "⚠️ psoriatic arthritis: HTTPSConnectionPool(host='name-resolution-normalizer.prod.monarchinitiative.org', port=443): Max retries exceeded with url: /resolve (Caused by NameResolutionError(\"<urllib3.connection.HTTPSConnection object at 0x7dfdd66b3790>: Failed to resolve 'name-resolution-normalizer.prod.monarchinitiative.org' ([Errno -2] Name or service not known)\"))\n"
     ]
    },
    {
     "name": "stderr",
     "output_type": "stream",
     "text": [
      "\r",
      "🌐 MONDO Normalizer Matching:  93%|█████████▎| 128/137 [00:33<00:02,  3.84it/s]"
     ]
    },
    {
     "name": "stdout",
     "output_type": "stream",
     "text": [
      "⚠️ systemic lupus erythematosus: HTTPSConnectionPool(host='name-resolution-normalizer.prod.monarchinitiative.org', port=443): Max retries exceeded with url: /resolve (Caused by NameResolutionError(\"<urllib3.connection.HTTPSConnection object at 0x7dfdd66ba7d0>: Failed to resolve 'name-resolution-normalizer.prod.monarchinitiative.org' ([Errno -2] Name or service not known)\"))\n"
     ]
    },
    {
     "name": "stderr",
     "output_type": "stream",
     "text": [
      "\r",
      "🌐 MONDO Normalizer Matching:  94%|█████████▍| 129/137 [00:33<00:02,  3.83it/s]"
     ]
    },
    {
     "name": "stdout",
     "output_type": "stream",
     "text": [
      "⚠️ Barrett's esophagus: HTTPSConnectionPool(host='name-resolution-normalizer.prod.monarchinitiative.org', port=443): Max retries exceeded with url: /resolve (Caused by NameResolutionError(\"<urllib3.connection.HTTPSConnection object at 0x7dfdd66b8710>: Failed to resolve 'name-resolution-normalizer.prod.monarchinitiative.org' ([Errno -2] Name or service not known)\"))\n"
     ]
    },
    {
     "name": "stderr",
     "output_type": "stream",
     "text": [
      "\r",
      "🌐 MONDO Normalizer Matching:  95%|█████████▍| 130/137 [00:34<00:01,  3.82it/s]"
     ]
    },
    {
     "name": "stdout",
     "output_type": "stream",
     "text": [
      "⚠️ cleft lip: HTTPSConnectionPool(host='name-resolution-normalizer.prod.monarchinitiative.org', port=443): Max retries exceeded with url: /resolve (Caused by NameResolutionError(\"<urllib3.connection.HTTPSConnection object at 0x7dfdd66c02d0>: Failed to resolve 'name-resolution-normalizer.prod.monarchinitiative.org' ([Errno -2] Name or service not known)\"))\n"
     ]
    },
    {
     "name": "stderr",
     "output_type": "stream",
     "text": [
      "\r",
      "🌐 MONDO Normalizer Matching:  96%|█████████▌| 131/137 [00:34<00:01,  3.83it/s]"
     ]
    },
    {
     "name": "stdout",
     "output_type": "stream",
     "text": [
      "⚠️ type 2 diabetes mellitus: HTTPSConnectionPool(host='name-resolution-normalizer.prod.monarchinitiative.org', port=443): Max retries exceeded with url: /resolve (Caused by NameResolutionError(\"<urllib3.connection.HTTPSConnection object at 0x7dfdd66abe50>: Failed to resolve 'name-resolution-normalizer.prod.monarchinitiative.org' ([Errno -2] Name or service not known)\"))\n"
     ]
    },
    {
     "name": "stderr",
     "output_type": "stream",
     "text": [
      "\r",
      "🌐 MONDO Normalizer Matching:  96%|█████████▋| 132/137 [00:34<00:01,  3.83it/s]"
     ]
    },
    {
     "name": "stdout",
     "output_type": "stream",
     "text": [
      "⚠️ type 1 diabetes mellitus: HTTPSConnectionPool(host='name-resolution-normalizer.prod.monarchinitiative.org', port=443): Max retries exceeded with url: /resolve (Caused by NameResolutionError(\"<urllib3.connection.HTTPSConnection object at 0x7dfdd669b590>: Failed to resolve 'name-resolution-normalizer.prod.monarchinitiative.org' ([Errno -2] Name or service not known)\"))\n"
     ]
    },
    {
     "name": "stderr",
     "output_type": "stream",
     "text": [
      "\r",
      "🌐 MONDO Normalizer Matching:  97%|█████████▋| 133/137 [00:34<00:01,  3.83it/s]"
     ]
    },
    {
     "name": "stdout",
     "output_type": "stream",
     "text": [
      "⚠️ refractive error: HTTPSConnectionPool(host='name-resolution-normalizer.prod.monarchinitiative.org', port=443): Max retries exceeded with url: /resolve (Caused by NameResolutionError(\"<urllib3.connection.HTTPSConnection object at 0x7dfdd66a9cd0>: Failed to resolve 'name-resolution-normalizer.prod.monarchinitiative.org' ([Errno -2] Name or service not known)\"))\n"
     ]
    },
    {
     "name": "stderr",
     "output_type": "stream",
     "text": [
      "\r",
      "🌐 MONDO Normalizer Matching:  98%|█████████▊| 134/137 [00:35<00:00,  3.83it/s]"
     ]
    },
    {
     "name": "stdout",
     "output_type": "stream",
     "text": [
      "⚠️ alopecia areata: HTTPSConnectionPool(host='name-resolution-normalizer.prod.monarchinitiative.org', port=443): Max retries exceeded with url: /resolve (Caused by NameResolutionError(\"<urllib3.connection.HTTPSConnection object at 0x7dfe12c4bb50>: Failed to resolve 'name-resolution-normalizer.prod.monarchinitiative.org' ([Errno -2] Name or service not known)\"))\n"
     ]
    },
    {
     "name": "stderr",
     "output_type": "stream",
     "text": [
      "\r",
      "🌐 MONDO Normalizer Matching:  99%|█████████▊| 135/137 [00:35<00:00,  3.82it/s]"
     ]
    },
    {
     "name": "stdout",
     "output_type": "stream",
     "text": [
      "⚠️ pleural cancer: HTTPSConnectionPool(host='name-resolution-normalizer.prod.monarchinitiative.org', port=443): Max retries exceeded with url: /resolve (Caused by NameResolutionError(\"<urllib3.connection.HTTPSConnection object at 0x7dfdd66aba90>: Failed to resolve 'name-resolution-normalizer.prod.monarchinitiative.org' ([Errno -2] Name or service not known)\"))\n"
     ]
    },
    {
     "name": "stderr",
     "output_type": "stream",
     "text": [
      "\r",
      "🌐 MONDO Normalizer Matching:  99%|█████████▉| 136/137 [00:35<00:00,  3.82it/s]"
     ]
    },
    {
     "name": "stdout",
     "output_type": "stream",
     "text": [
      "⚠️ obesity: HTTPSConnectionPool(host='name-resolution-normalizer.prod.monarchinitiative.org', port=443): Max retries exceeded with url: /resolve (Caused by NameResolutionError(\"<urllib3.connection.HTTPSConnection object at 0x7dfdd66c0990>: Failed to resolve 'name-resolution-normalizer.prod.monarchinitiative.org' ([Errno -2] Name or service not known)\"))\n"
     ]
    },
    {
     "name": "stderr",
     "output_type": "stream",
     "text": [
      "🌐 MONDO Normalizer Matching: 100%|██████████| 137/137 [00:35<00:00,  3.81it/s]"
     ]
    },
    {
     "name": "stdout",
     "output_type": "stream",
     "text": [
      "\n",
      "✅ MONDO Normalizer enrichment complete.\n",
      "📦 Added 0 MONDO nodes and 🔗 0 edges.\n",
      "\n"
     ]
    },
    {
     "name": "stderr",
     "output_type": "stream",
     "text": [
      "\n"
     ]
    }
   ],
   "source": [
    "import requests\n",
    "import time\n",
    "from tqdm import tqdm\n",
    "\n",
    "# MONDO Normalizer endpoint\n",
    "normalizer_url = \"https://name-resolution-normalizer.prod.monarchinitiative.org/resolve\"\n",
    "\n",
    "# Get first 200 disease nodes\n",
    "disease_nodes = [n for n, d in G.nodes(data=True) if d.get(\"label\") == \"Disease\"]\n",
    "disease_nodes = disease_nodes[:200]\n",
    "\n",
    "added_nodes = 0\n",
    "added_edges = 0\n",
    "linked_pairs = []\n",
    "\n",
    "headers = {\n",
    "    \"Accept\": \"application/json\",\n",
    "    \"Content-Type\": \"application/json\"\n",
    "}\n",
    "\n",
    "# Loop through each disease node and resolve to MONDO\n",
    "for node_id in tqdm(disease_nodes, desc=\"🌐 MONDO Normalizer Matching\"):\n",
    "    disease_name = G.nodes[node_id].get(\"name\", \"\")\n",
    "    if not disease_name:\n",
    "        continue\n",
    "\n",
    "    try:\n",
    "        payload = {\"curie\": \"\", \"input\": disease_name}\n",
    "        response = requests.post(normalizer_url, json=payload, headers=headers, timeout=6)\n",
    "        if response.status_code == 200:\n",
    "            results = response.json().get(\"normalized_info\", [])\n",
    "            if results:\n",
    "                best = results[0]\n",
    "                mondo_curie = best[\"id\"][\"identifier\"]  # e.g. MONDO:0005294\n",
    "                mondo_id = f\"MONDO::{mondo_curie.split(':')[-1]}\"\n",
    "                mondo_label = best.get(\"label\", \"\")\n",
    "\n",
    "                if not G.has_node(mondo_id):\n",
    "                    G.add_node(mondo_id,\n",
    "                               label=\"Ontology\",\n",
    "                               name=mondo_label,\n",
    "                               source=\"MONDO\",\n",
    "                               original_uri=mondo_curie)\n",
    "                    added_nodes += 1\n",
    "\n",
    "                if not G.has_edge(node_id, mondo_id):\n",
    "                    G.add_edge(node_id, mondo_id, relation=\"has_ontology_term\")\n",
    "                    added_edges += 1\n",
    "                    linked_pairs.append((G.nodes[node_id][\"name\"], mondo_label, mondo_id))\n",
    "\n",
    "    except Exception as e:\n",
    "        print(f\"⚠️ {disease_name}: {e}\")\n",
    "    time.sleep(0.25)\n",
    "\n",
    "# Summary\n",
    "print(f\"\\n✅ MONDO Normalizer enrichment complete.\")\n",
    "print(f\"📦 Added {added_nodes} MONDO nodes and 🔗 {added_edges} edges.\\n\")\n",
    "\n",
    "for disease, mondo_label, mondo_node in linked_pairs[:10]:\n",
    "    print(f\"🔗 {disease} → {mondo_label} → {mondo_node}\")\n"
   ]
  },
  {
   "cell_type": "code",
   "execution_count": 19,
   "id": "53ced1a3",
   "metadata": {
    "colab": {
     "base_uri": "https://localhost:8080/"
    },
    "id": "KB-ZNMoaK2HU",
    "outputId": "9bb78d3e-b0ea-4ca5-835f-bb0abf757d11"
   },
   "outputs": [
    {
     "name": "stderr",
     "output_type": "stream",
     "text": [
      "\r",
      "🔬 Linking clinical trials:   0%|          | 0/100 [00:00<?, ?it/s]"
     ]
    },
    {
     "name": "stdout",
     "output_type": "stream",
     "text": [
      "❌ HTTP error 404 for idiopathic pulmonary fibrosis\n"
     ]
    },
    {
     "name": "stderr",
     "output_type": "stream",
     "text": [
      "\r",
      "🔬 Linking clinical trials:   1%|          | 1/100 [00:00<00:37,  2.63it/s]"
     ]
    },
    {
     "name": "stdout",
     "output_type": "stream",
     "text": [
      "❌ HTTP error 404 for restless legs syndrome\n"
     ]
    },
    {
     "name": "stderr",
     "output_type": "stream",
     "text": [
      "\r",
      "🔬 Linking clinical trials:   2%|▏         | 2/100 [00:00<00:37,  2.64it/s]"
     ]
    },
    {
     "name": "stdout",
     "output_type": "stream",
     "text": [
      "❌ HTTP error 404 for alcohol dependence\n"
     ]
    },
    {
     "name": "stderr",
     "output_type": "stream",
     "text": [
      "\r",
      "🔬 Linking clinical trials:   3%|▎         | 3/100 [00:01<00:36,  2.63it/s]"
     ]
    },
    {
     "name": "stdout",
     "output_type": "stream",
     "text": [
      "❌ HTTP error 404 for nicotine dependence\n"
     ]
    },
    {
     "name": "stderr",
     "output_type": "stream",
     "text": [
      "\r",
      "🔬 Linking clinical trials:   4%|▍         | 4/100 [00:01<00:36,  2.64it/s]"
     ]
    },
    {
     "name": "stdout",
     "output_type": "stream",
     "text": [
      "❌ HTTP error 404 for lymphatic system cancer\n"
     ]
    },
    {
     "name": "stderr",
     "output_type": "stream",
     "text": [
      "\r",
      "🔬 Linking clinical trials:   5%|▌         | 5/100 [00:01<00:35,  2.64it/s]"
     ]
    },
    {
     "name": "stdout",
     "output_type": "stream",
     "text": [
      "❌ HTTP error 404 for pharynx cancer\n"
     ]
    },
    {
     "name": "stderr",
     "output_type": "stream",
     "text": [
      "\r",
      "🔬 Linking clinical trials:   6%|▌         | 6/100 [00:02<00:35,  2.64it/s]"
     ]
    },
    {
     "name": "stdout",
     "output_type": "stream",
     "text": [
      "❌ HTTP error 404 for duodenum cancer\n"
     ]
    },
    {
     "name": "stderr",
     "output_type": "stream",
     "text": [
      "\r",
      "🔬 Linking clinical trials:   7%|▋         | 7/100 [00:02<00:35,  2.64it/s]"
     ]
    },
    {
     "name": "stdout",
     "output_type": "stream",
     "text": [
      "❌ HTTP error 404 for ileum cancer\n"
     ]
    },
    {
     "name": "stderr",
     "output_type": "stream",
     "text": [
      "\r",
      "🔬 Linking clinical trials:   8%|▊         | 8/100 [00:03<00:35,  2.62it/s]"
     ]
    },
    {
     "name": "stdout",
     "output_type": "stream",
     "text": [
      "❌ HTTP error 404 for leprosy\n"
     ]
    },
    {
     "name": "stderr",
     "output_type": "stream",
     "text": [
      "\r",
      "🔬 Linking clinical trials:   9%|▉         | 9/100 [00:03<00:35,  2.60it/s]"
     ]
    },
    {
     "name": "stdout",
     "output_type": "stream",
     "text": [
      "❌ HTTP error 404 for prostate cancer\n"
     ]
    },
    {
     "name": "stderr",
     "output_type": "stream",
     "text": [
      "\r",
      "🔬 Linking clinical trials:  10%|█         | 10/100 [00:03<00:34,  2.61it/s]"
     ]
    },
    {
     "name": "stdout",
     "output_type": "stream",
     "text": [
      "❌ HTTP error 404 for stomach cancer\n"
     ]
    },
    {
     "name": "stderr",
     "output_type": "stream",
     "text": [
      "\r",
      "🔬 Linking clinical trials:  11%|█         | 11/100 [00:04<00:34,  2.59it/s]"
     ]
    },
    {
     "name": "stdout",
     "output_type": "stream",
     "text": [
      "❌ HTTP error 404 for celiac disease\n"
     ]
    },
    {
     "name": "stderr",
     "output_type": "stream",
     "text": [
      "\r",
      "🔬 Linking clinical trials:  12%|█▏        | 12/100 [00:04<00:33,  2.60it/s]"
     ]
    },
    {
     "name": "stdout",
     "output_type": "stream",
     "text": [
      "❌ HTTP error 404 for Alzheimer's disease\n"
     ]
    },
    {
     "name": "stderr",
     "output_type": "stream",
     "text": [
      "\r",
      "🔬 Linking clinical trials:  13%|█▎        | 13/100 [00:04<00:33,  2.61it/s]"
     ]
    },
    {
     "name": "stdout",
     "output_type": "stream",
     "text": [
      "❌ HTTP error 404 for hypertension\n"
     ]
    },
    {
     "name": "stderr",
     "output_type": "stream",
     "text": [
      "\r",
      "🔬 Linking clinical trials:  14%|█▍        | 14/100 [00:05<00:33,  2.60it/s]"
     ]
    },
    {
     "name": "stdout",
     "output_type": "stream",
     "text": [
      "❌ HTTP error 404 for nasal cavity cancer\n"
     ]
    },
    {
     "name": "stderr",
     "output_type": "stream",
     "text": [
      "\r",
      "🔬 Linking clinical trials:  15%|█▌        | 15/100 [00:05<00:32,  2.61it/s]"
     ]
    },
    {
     "name": "stdout",
     "output_type": "stream",
     "text": [
      "❌ HTTP error 404 for age related macular degeneration\n"
     ]
    },
    {
     "name": "stderr",
     "output_type": "stream",
     "text": [
      "\r",
      "🔬 Linking clinical trials:  16%|█▌        | 16/100 [00:06<00:32,  2.60it/s]"
     ]
    },
    {
     "name": "stdout",
     "output_type": "stream",
     "text": [
      "❌ HTTP error 404 for attention deficit hyperactivity disorder\n"
     ]
    },
    {
     "name": "stderr",
     "output_type": "stream",
     "text": [
      "\r",
      "🔬 Linking clinical trials:  17%|█▋        | 17/100 [00:06<00:31,  2.62it/s]"
     ]
    },
    {
     "name": "stdout",
     "output_type": "stream",
     "text": [
      "❌ HTTP error 404 for intracranial aneurysm\n"
     ]
    },
    {
     "name": "stderr",
     "output_type": "stream",
     "text": [
      "\r",
      "🔬 Linking clinical trials:  18%|█▊        | 18/100 [00:06<00:31,  2.61it/s]"
     ]
    },
    {
     "name": "stdout",
     "output_type": "stream",
     "text": [
      "❌ HTTP error 404 for membranous glomerulonephritis\n"
     ]
    },
    {
     "name": "stderr",
     "output_type": "stream",
     "text": [
      "\r",
      "🔬 Linking clinical trials:  19%|█▉        | 19/100 [00:07<00:31,  2.60it/s]"
     ]
    },
    {
     "name": "stdout",
     "output_type": "stream",
     "text": [
      "❌ HTTP error 404 for urinary bladder cancer\n"
     ]
    },
    {
     "name": "stderr",
     "output_type": "stream",
     "text": [
      "\r",
      "🔬 Linking clinical trials:  20%|██        | 20/100 [00:07<00:30,  2.60it/s]"
     ]
    },
    {
     "name": "stdout",
     "output_type": "stream",
     "text": [
      "❌ HTTP error 404 for Gilles de la Tourette syndrome\n"
     ]
    },
    {
     "name": "stderr",
     "output_type": "stream",
     "text": [
      "\r",
      "🔬 Linking clinical trials:  21%|██        | 21/100 [00:08<00:30,  2.60it/s]"
     ]
    },
    {
     "name": "stdout",
     "output_type": "stream",
     "text": [
      "❌ HTTP error 404 for sarcoma\n"
     ]
    },
    {
     "name": "stderr",
     "output_type": "stream",
     "text": [
      "\r",
      "🔬 Linking clinical trials:  22%|██▏       | 22/100 [00:08<00:29,  2.61it/s]"
     ]
    },
    {
     "name": "stdout",
     "output_type": "stream",
     "text": [
      "❌ HTTP error 404 for appendix cancer\n"
     ]
    },
    {
     "name": "stderr",
     "output_type": "stream",
     "text": [
      "\r",
      "🔬 Linking clinical trials:  23%|██▎       | 23/100 [00:08<00:29,  2.60it/s]"
     ]
    },
    {
     "name": "stdout",
     "output_type": "stream",
     "text": [
      "❌ HTTP error 404 for osteoporosis\n"
     ]
    },
    {
     "name": "stderr",
     "output_type": "stream",
     "text": [
      "\r",
      "🔬 Linking clinical trials:  24%|██▍       | 24/100 [00:09<00:29,  2.60it/s]"
     ]
    },
    {
     "name": "stdout",
     "output_type": "stream",
     "text": [
      "❌ HTTP error 404 for Fuchs' endothelial dystrophy\n"
     ]
    },
    {
     "name": "stderr",
     "output_type": "stream",
     "text": [
      "\r",
      "🔬 Linking clinical trials:  25%|██▌       | 25/100 [00:09<00:28,  2.61it/s]"
     ]
    },
    {
     "name": "stdout",
     "output_type": "stream",
     "text": [
      "❌ HTTP error 404 for polycystic ovary syndrome\n"
     ]
    },
    {
     "name": "stderr",
     "output_type": "stream",
     "text": [
      "\r",
      "🔬 Linking clinical trials:  26%|██▌       | 26/100 [00:09<00:28,  2.62it/s]"
     ]
    },
    {
     "name": "stdout",
     "output_type": "stream",
     "text": [
      "❌ HTTP error 404 for penile cancer\n"
     ]
    },
    {
     "name": "stderr",
     "output_type": "stream",
     "text": [
      "\r",
      "🔬 Linking clinical trials:  27%|██▋       | 27/100 [00:10<00:27,  2.63it/s]"
     ]
    },
    {
     "name": "stdout",
     "output_type": "stream",
     "text": [
      "❌ HTTP error 404 for gestational diabetes\n"
     ]
    },
    {
     "name": "stderr",
     "output_type": "stream",
     "text": [
      "\r",
      "🔬 Linking clinical trials:  28%|██▊       | 28/100 [00:10<00:27,  2.64it/s]"
     ]
    },
    {
     "name": "stdout",
     "output_type": "stream",
     "text": [
      "❌ HTTP error 404 for ureter cancer\n"
     ]
    },
    {
     "name": "stderr",
     "output_type": "stream",
     "text": [
      "\r",
      "🔬 Linking clinical trials:  29%|██▉       | 29/100 [00:11<00:27,  2.63it/s]"
     ]
    },
    {
     "name": "stdout",
     "output_type": "stream",
     "text": [
      "❌ HTTP error 404 for vaginal cancer\n"
     ]
    },
    {
     "name": "stderr",
     "output_type": "stream",
     "text": [
      "\r",
      "🔬 Linking clinical trials:  30%|███       | 30/100 [00:11<00:26,  2.64it/s]"
     ]
    },
    {
     "name": "stdout",
     "output_type": "stream",
     "text": [
      "❌ HTTP error 404 for peripheral nervous system neoplasm\n"
     ]
    },
    {
     "name": "stderr",
     "output_type": "stream",
     "text": [
      "\r",
      "🔬 Linking clinical trials:  31%|███       | 31/100 [00:11<00:26,  2.64it/s]"
     ]
    },
    {
     "name": "stdout",
     "output_type": "stream",
     "text": [
      "❌ HTTP error 404 for tracheal cancer\n"
     ]
    },
    {
     "name": "stderr",
     "output_type": "stream",
     "text": [
      "\r",
      "🔬 Linking clinical trials:  32%|███▏      | 32/100 [00:12<00:25,  2.65it/s]"
     ]
    },
    {
     "name": "stdout",
     "output_type": "stream",
     "text": [
      "❌ HTTP error 404 for head and neck cancer\n"
     ]
    },
    {
     "name": "stderr",
     "output_type": "stream",
     "text": [
      "\r",
      "🔬 Linking clinical trials:  33%|███▎      | 33/100 [00:12<00:25,  2.65it/s]"
     ]
    },
    {
     "name": "stdout",
     "output_type": "stream",
     "text": [
      "❌ HTTP error 404 for Creutzfeldt-Jakob disease\n"
     ]
    },
    {
     "name": "stderr",
     "output_type": "stream",
     "text": [
      "\r",
      "🔬 Linking clinical trials:  34%|███▍      | 34/100 [00:12<00:24,  2.66it/s]"
     ]
    },
    {
     "name": "stdout",
     "output_type": "stream",
     "text": [
      "❌ HTTP error 404 for otosclerosis\n"
     ]
    },
    {
     "name": "stderr",
     "output_type": "stream",
     "text": [
      "\r",
      "🔬 Linking clinical trials:  35%|███▌      | 35/100 [00:13<00:24,  2.65it/s]"
     ]
    },
    {
     "name": "stdout",
     "output_type": "stream",
     "text": [
      "❌ HTTP error 404 for primary biliary cirrhosis\n"
     ]
    },
    {
     "name": "stderr",
     "output_type": "stream",
     "text": [
      "\r",
      "🔬 Linking clinical trials:  36%|███▌      | 36/100 [00:13<00:24,  2.64it/s]"
     ]
    },
    {
     "name": "stdout",
     "output_type": "stream",
     "text": [
      "❌ HTTP error 404 for vitiligo\n"
     ]
    },
    {
     "name": "stderr",
     "output_type": "stream",
     "text": [
      "\r",
      "🔬 Linking clinical trials:  37%|███▋      | 37/100 [00:14<00:23,  2.64it/s]"
     ]
    },
    {
     "name": "stdout",
     "output_type": "stream",
     "text": [
      "❌ HTTP error 404 for Graves' disease\n"
     ]
    },
    {
     "name": "stderr",
     "output_type": "stream",
     "text": [
      "\r",
      "🔬 Linking clinical trials:  38%|███▊      | 38/100 [00:14<00:23,  2.63it/s]"
     ]
    },
    {
     "name": "stdout",
     "output_type": "stream",
     "text": [
      "❌ HTTP error 404 for malaria\n"
     ]
    },
    {
     "name": "stderr",
     "output_type": "stream",
     "text": [
      "\r",
      "🔬 Linking clinical trials:  39%|███▉      | 39/100 [00:14<00:23,  2.59it/s]"
     ]
    },
    {
     "name": "stdout",
     "output_type": "stream",
     "text": [
      "❌ HTTP error 404 for vulva cancer\n"
     ]
    },
    {
     "name": "stderr",
     "output_type": "stream",
     "text": [
      "\r",
      "🔬 Linking clinical trials:  40%|████      | 40/100 [00:15<00:23,  2.59it/s]"
     ]
    },
    {
     "name": "stdout",
     "output_type": "stream",
     "text": [
      "❌ HTTP error 404 for autistic disorder\n"
     ]
    },
    {
     "name": "stderr",
     "output_type": "stream",
     "text": [
      "\r",
      "🔬 Linking clinical trials:  41%|████      | 41/100 [00:15<00:22,  2.60it/s]"
     ]
    },
    {
     "name": "stdout",
     "output_type": "stream",
     "text": [
      "❌ HTTP error 404 for dilated cardiomyopathy\n"
     ]
    },
    {
     "name": "stderr",
     "output_type": "stream",
     "text": [
      "\r",
      "🔬 Linking clinical trials:  42%|████▏     | 42/100 [00:16<00:22,  2.61it/s]"
     ]
    },
    {
     "name": "stdout",
     "output_type": "stream",
     "text": [
      "❌ HTTP error 404 for conduct disorder\n"
     ]
    },
    {
     "name": "stderr",
     "output_type": "stream",
     "text": [
      "\r",
      "🔬 Linking clinical trials:  43%|████▎     | 43/100 [00:16<00:22,  2.59it/s]"
     ]
    },
    {
     "name": "stdout",
     "output_type": "stream",
     "text": [
      "❌ HTTP error 404 for focal segmental glomerulosclerosis\n"
     ]
    },
    {
     "name": "stderr",
     "output_type": "stream",
     "text": [
      "\r",
      "🔬 Linking clinical trials:  44%|████▍     | 44/100 [00:16<00:21,  2.59it/s]"
     ]
    },
    {
     "name": "stdout",
     "output_type": "stream",
     "text": [
      "❌ HTTP error 404 for gout\n"
     ]
    },
    {
     "name": "stderr",
     "output_type": "stream",
     "text": [
      "\r",
      "🔬 Linking clinical trials:  45%|████▌     | 45/100 [00:17<00:21,  2.61it/s]"
     ]
    },
    {
     "name": "stdout",
     "output_type": "stream",
     "text": [
      "❌ HTTP error 404 for brain cancer\n"
     ]
    },
    {
     "name": "stderr",
     "output_type": "stream",
     "text": [
      "\r",
      "🔬 Linking clinical trials:  46%|████▌     | 46/100 [00:17<00:20,  2.62it/s]"
     ]
    },
    {
     "name": "stdout",
     "output_type": "stream",
     "text": [
      "❌ HTTP error 404 for uterine fibroid\n"
     ]
    },
    {
     "name": "stderr",
     "output_type": "stream",
     "text": [
      "\r",
      "🔬 Linking clinical trials:  47%|████▋     | 47/100 [00:17<00:20,  2.63it/s]"
     ]
    },
    {
     "name": "stdout",
     "output_type": "stream",
     "text": [
      "❌ HTTP error 404 for lung cancer\n"
     ]
    },
    {
     "name": "stderr",
     "output_type": "stream",
     "text": [
      "\r",
      "🔬 Linking clinical trials:  48%|████▊     | 48/100 [00:18<00:19,  2.64it/s]"
     ]
    },
    {
     "name": "stdout",
     "output_type": "stream",
     "text": [
      "❌ HTTP error 404 for Behcet's disease\n"
     ]
    },
    {
     "name": "stderr",
     "output_type": "stream",
     "text": [
      "\r",
      "🔬 Linking clinical trials:  49%|████▉     | 49/100 [00:18<00:19,  2.64it/s]"
     ]
    },
    {
     "name": "stdout",
     "output_type": "stream",
     "text": [
      "❌ HTTP error 404 for Kawasaki disease\n"
     ]
    },
    {
     "name": "stderr",
     "output_type": "stream",
     "text": [
      "\r",
      "🔬 Linking clinical trials:  50%|█████     | 50/100 [00:19<00:18,  2.65it/s]"
     ]
    },
    {
     "name": "stdout",
     "output_type": "stream",
     "text": [
      "❌ HTTP error 404 for jejunal cancer\n"
     ]
    },
    {
     "name": "stderr",
     "output_type": "stream",
     "text": [
      "\r",
      "🔬 Linking clinical trials:  51%|█████     | 51/100 [00:19<00:18,  2.63it/s]"
     ]
    },
    {
     "name": "stdout",
     "output_type": "stream",
     "text": [
      "❌ HTTP error 404 for thoracic aortic aneurysm\n"
     ]
    },
    {
     "name": "stderr",
     "output_type": "stream",
     "text": [
      "\r",
      "🔬 Linking clinical trials:  52%|█████▏    | 52/100 [00:19<00:18,  2.64it/s]"
     ]
    },
    {
     "name": "stdout",
     "output_type": "stream",
     "text": [
      "❌ HTTP error 404 for metabolic syndrome X\n"
     ]
    },
    {
     "name": "stderr",
     "output_type": "stream",
     "text": [
      "\r",
      "🔬 Linking clinical trials:  53%|█████▎    | 53/100 [00:20<00:17,  2.62it/s]"
     ]
    },
    {
     "name": "stdout",
     "output_type": "stream",
     "text": [
      "❌ HTTP error 404 for azoospermia\n"
     ]
    },
    {
     "name": "stderr",
     "output_type": "stream",
     "text": [
      "\r",
      "🔬 Linking clinical trials:  54%|█████▍    | 54/100 [00:20<00:17,  2.62it/s]"
     ]
    },
    {
     "name": "stdout",
     "output_type": "stream",
     "text": [
      "❌ HTTP error 404 for sclerosing cholangitis\n"
     ]
    },
    {
     "name": "stderr",
     "output_type": "stream",
     "text": [
      "\r",
      "🔬 Linking clinical trials:  55%|█████▌    | 55/100 [00:20<00:17,  2.62it/s]"
     ]
    },
    {
     "name": "stdout",
     "output_type": "stream",
     "text": [
      "❌ HTTP error 404 for Parkinson's disease\n"
     ]
    },
    {
     "name": "stderr",
     "output_type": "stream",
     "text": [
      "\r",
      "🔬 Linking clinical trials:  56%|█████▌    | 56/100 [00:21<00:16,  2.63it/s]"
     ]
    },
    {
     "name": "stdout",
     "output_type": "stream",
     "text": [
      "❌ HTTP error 404 for hypothyroidism\n"
     ]
    },
    {
     "name": "stderr",
     "output_type": "stream",
     "text": [
      "\r",
      "🔬 Linking clinical trials:  57%|█████▋    | 57/100 [00:21<00:16,  2.63it/s]"
     ]
    },
    {
     "name": "stdout",
     "output_type": "stream",
     "text": [
      "❌ HTTP error 404 for endogenous depression\n"
     ]
    },
    {
     "name": "stderr",
     "output_type": "stream",
     "text": [
      "\r",
      "🔬 Linking clinical trials:  58%|█████▊    | 58/100 [00:22<00:15,  2.64it/s]"
     ]
    },
    {
     "name": "stdout",
     "output_type": "stream",
     "text": [
      "❌ HTTP error 404 for breast cancer\n"
     ]
    },
    {
     "name": "stderr",
     "output_type": "stream",
     "text": [
      "\r",
      "🔬 Linking clinical trials:  59%|█████▉    | 59/100 [00:22<00:15,  2.64it/s]"
     ]
    },
    {
     "name": "stdout",
     "output_type": "stream",
     "text": [
      "❌ HTTP error 404 for glaucoma\n"
     ]
    },
    {
     "name": "stderr",
     "output_type": "stream",
     "text": [
      "\r",
      "🔬 Linking clinical trials:  60%|██████    | 60/100 [00:22<00:15,  2.62it/s]"
     ]
    },
    {
     "name": "stdout",
     "output_type": "stream",
     "text": [
      "❌ HTTP error 404 for peritoneum cancer\n"
     ]
    },
    {
     "name": "stderr",
     "output_type": "stream",
     "text": [
      "\r",
      "🔬 Linking clinical trials:  61%|██████    | 61/100 [00:23<00:14,  2.62it/s]"
     ]
    },
    {
     "name": "stdout",
     "output_type": "stream",
     "text": [
      "❌ HTTP error 404 for vascular cancer\n"
     ]
    },
    {
     "name": "stderr",
     "output_type": "stream",
     "text": [
      "\r",
      "🔬 Linking clinical trials:  62%|██████▏   | 62/100 [00:23<00:14,  2.62it/s]"
     ]
    },
    {
     "name": "stdout",
     "output_type": "stream",
     "text": [
      "❌ HTTP error 404 for thyroid cancer\n"
     ]
    },
    {
     "name": "stderr",
     "output_type": "stream",
     "text": [
      "\r",
      "🔬 Linking clinical trials:  63%|██████▎   | 63/100 [00:24<00:14,  2.61it/s]"
     ]
    },
    {
     "name": "stdout",
     "output_type": "stream",
     "text": [
      "❌ HTTP error 404 for malignant mesothelioma\n"
     ]
    },
    {
     "name": "stderr",
     "output_type": "stream",
     "text": [
      "\r",
      "🔬 Linking clinical trials:  64%|██████▍   | 64/100 [00:24<00:13,  2.62it/s]"
     ]
    },
    {
     "name": "stdout",
     "output_type": "stream",
     "text": [
      "❌ HTTP error 404 for pancreatic cancer\n"
     ]
    },
    {
     "name": "stderr",
     "output_type": "stream",
     "text": [
      "\r",
      "🔬 Linking clinical trials:  65%|██████▌   | 65/100 [00:24<00:13,  2.61it/s]"
     ]
    },
    {
     "name": "stdout",
     "output_type": "stream",
     "text": [
      "❌ HTTP error 404 for epilepsy syndrome\n"
     ]
    },
    {
     "name": "stderr",
     "output_type": "stream",
     "text": [
      "\r",
      "🔬 Linking clinical trials:  66%|██████▌   | 66/100 [00:25<00:13,  2.60it/s]"
     ]
    },
    {
     "name": "stdout",
     "output_type": "stream",
     "text": [
      "❌ HTTP error 404 for bone cancer\n"
     ]
    },
    {
     "name": "stderr",
     "output_type": "stream",
     "text": [
      "\r",
      "🔬 Linking clinical trials:  67%|██████▋   | 67/100 [00:25<00:12,  2.60it/s]"
     ]
    },
    {
     "name": "stdout",
     "output_type": "stream",
     "text": [
      "❌ HTTP error 404 for melanoma\n"
     ]
    },
    {
     "name": "stderr",
     "output_type": "stream",
     "text": [
      "\r",
      "🔬 Linking clinical trials:  68%|██████▊   | 68/100 [00:25<00:12,  2.59it/s]"
     ]
    },
    {
     "name": "stdout",
     "output_type": "stream",
     "text": [
      "❌ HTTP error 404 for atherosclerosis\n"
     ]
    },
    {
     "name": "stderr",
     "output_type": "stream",
     "text": [
      "\r",
      "🔬 Linking clinical trials:  69%|██████▉   | 69/100 [00:26<00:11,  2.62it/s]"
     ]
    },
    {
     "name": "stdout",
     "output_type": "stream",
     "text": [
      "❌ HTTP error 404 for fallopian tube cancer\n"
     ]
    },
    {
     "name": "stderr",
     "output_type": "stream",
     "text": [
      "\r",
      "🔬 Linking clinical trials:  70%|███████   | 70/100 [00:26<00:11,  2.61it/s]"
     ]
    },
    {
     "name": "stdout",
     "output_type": "stream",
     "text": [
      "❌ HTTP error 404 for rectum cancer\n"
     ]
    },
    {
     "name": "stderr",
     "output_type": "stream",
     "text": [
      "\r",
      "🔬 Linking clinical trials:  71%|███████   | 71/100 [00:27<00:11,  2.62it/s]"
     ]
    },
    {
     "name": "stdout",
     "output_type": "stream",
     "text": [
      "❌ HTTP error 404 for hepatitis B\n"
     ]
    },
    {
     "name": "stderr",
     "output_type": "stream",
     "text": [
      "\r",
      "🔬 Linking clinical trials:  72%|███████▏  | 72/100 [00:27<00:10,  2.62it/s]"
     ]
    },
    {
     "name": "stdout",
     "output_type": "stream",
     "text": [
      "❌ HTTP error 404 for dental caries\n"
     ]
    },
    {
     "name": "stderr",
     "output_type": "stream",
     "text": [
      "\r",
      "🔬 Linking clinical trials:  73%|███████▎  | 73/100 [00:27<00:10,  2.60it/s]"
     ]
    },
    {
     "name": "stdout",
     "output_type": "stream",
     "text": [
      "❌ HTTP error 404 for ocular cancer\n"
     ]
    },
    {
     "name": "stderr",
     "output_type": "stream",
     "text": [
      "\r",
      "🔬 Linking clinical trials:  74%|███████▍  | 74/100 [00:28<00:10,  2.59it/s]"
     ]
    },
    {
     "name": "stdout",
     "output_type": "stream",
     "text": [
      "❌ HTTP error 404 for colon cancer\n"
     ]
    },
    {
     "name": "stderr",
     "output_type": "stream",
     "text": [
      "\r",
      "🔬 Linking clinical trials:  75%|███████▌  | 75/100 [00:28<00:09,  2.62it/s]"
     ]
    },
    {
     "name": "stdout",
     "output_type": "stream",
     "text": [
      "❌ HTTP error 404 for anemia\n"
     ]
    },
    {
     "name": "stderr",
     "output_type": "stream",
     "text": [
      "\r",
      "🔬 Linking clinical trials:  76%|███████▌  | 76/100 [00:29<00:09,  2.61it/s]"
     ]
    },
    {
     "name": "stdout",
     "output_type": "stream",
     "text": [
      "❌ HTTP error 404 for multiple sclerosis\n"
     ]
    },
    {
     "name": "stderr",
     "output_type": "stream",
     "text": [
      "\r",
      "🔬 Linking clinical trials:  77%|███████▋  | 77/100 [00:29<00:08,  2.59it/s]"
     ]
    },
    {
     "name": "stdout",
     "output_type": "stream",
     "text": [
      "❌ HTTP error 404 for ovarian cancer\n"
     ]
    },
    {
     "name": "stderr",
     "output_type": "stream",
     "text": [
      "\r",
      "🔬 Linking clinical trials:  78%|███████▊  | 78/100 [00:29<00:08,  2.59it/s]"
     ]
    },
    {
     "name": "stdout",
     "output_type": "stream",
     "text": [
      "❌ HTTP error 404 for hematologic cancer\n"
     ]
    },
    {
     "name": "stderr",
     "output_type": "stream",
     "text": [
      "\r",
      "🔬 Linking clinical trials:  79%|███████▉  | 79/100 [00:30<00:08,  2.61it/s]"
     ]
    },
    {
     "name": "stdout",
     "output_type": "stream",
     "text": [
      "❌ HTTP error 404 for larynx cancer\n"
     ]
    },
    {
     "name": "stderr",
     "output_type": "stream",
     "text": [
      "\r",
      "🔬 Linking clinical trials:  80%|████████  | 80/100 [00:30<00:07,  2.62it/s]"
     ]
    },
    {
     "name": "stdout",
     "output_type": "stream",
     "text": [
      "❌ HTTP error 404 for kidney cancer\n"
     ]
    },
    {
     "name": "stderr",
     "output_type": "stream",
     "text": [
      "\r",
      "🔬 Linking clinical trials:  81%|████████  | 81/100 [00:30<00:07,  2.62it/s]"
     ]
    },
    {
     "name": "stdout",
     "output_type": "stream",
     "text": [
      "❌ HTTP error 404 for asthma\n"
     ]
    },
    {
     "name": "stderr",
     "output_type": "stream",
     "text": [
      "\r",
      "🔬 Linking clinical trials:  82%|████████▏ | 82/100 [00:31<00:06,  2.61it/s]"
     ]
    },
    {
     "name": "stdout",
     "output_type": "stream",
     "text": [
      "❌ HTTP error 404 for IgA glomerulonephritis\n"
     ]
    },
    {
     "name": "stderr",
     "output_type": "stream",
     "text": [
      "\r",
      "🔬 Linking clinical trials:  83%|████████▎ | 83/100 [00:31<00:06,  2.61it/s]"
     ]
    },
    {
     "name": "stdout",
     "output_type": "stream",
     "text": [
      "❌ HTTP error 404 for germ cell cancer\n"
     ]
    },
    {
     "name": "stderr",
     "output_type": "stream",
     "text": [
      "\r",
      "🔬 Linking clinical trials:  84%|████████▍ | 84/100 [00:32<00:06,  2.62it/s]"
     ]
    },
    {
     "name": "stdout",
     "output_type": "stream",
     "text": [
      "❌ HTTP error 404 for testicular cancer\n"
     ]
    },
    {
     "name": "stderr",
     "output_type": "stream",
     "text": [
      "\r",
      "🔬 Linking clinical trials:  85%|████████▌ | 85/100 [00:32<00:05,  2.63it/s]"
     ]
    },
    {
     "name": "stdout",
     "output_type": "stream",
     "text": [
      "❌ HTTP error 404 for malignant glioma\n"
     ]
    },
    {
     "name": "stderr",
     "output_type": "stream",
     "text": [
      "\r",
      "🔬 Linking clinical trials:  86%|████████▌ | 86/100 [00:32<00:05,  2.64it/s]"
     ]
    },
    {
     "name": "stdout",
     "output_type": "stream",
     "text": [
      "❌ HTTP error 404 for chronic obstructive pulmonary disease\n"
     ]
    },
    {
     "name": "stderr",
     "output_type": "stream",
     "text": [
      "\r",
      "🔬 Linking clinical trials:  87%|████████▋ | 87/100 [00:33<00:04,  2.65it/s]"
     ]
    },
    {
     "name": "stdout",
     "output_type": "stream",
     "text": [
      "❌ HTTP error 404 for gallbladder cancer\n"
     ]
    },
    {
     "name": "stderr",
     "output_type": "stream",
     "text": [
      "\r",
      "🔬 Linking clinical trials:  88%|████████▊ | 88/100 [00:33<00:04,  2.65it/s]"
     ]
    },
    {
     "name": "stdout",
     "output_type": "stream",
     "text": [
      "❌ HTTP error 404 for thymus cancer\n"
     ]
    },
    {
     "name": "stderr",
     "output_type": "stream",
     "text": [
      "\r",
      "🔬 Linking clinical trials:  89%|████████▉ | 89/100 [00:33<00:04,  2.63it/s]"
     ]
    },
    {
     "name": "stdout",
     "output_type": "stream",
     "text": [
      "❌ HTTP error 404 for atopic dermatitis\n"
     ]
    },
    {
     "name": "stderr",
     "output_type": "stream",
     "text": [
      "\r",
      "🔬 Linking clinical trials:  90%|█████████ | 90/100 [00:34<00:03,  2.64it/s]"
     ]
    },
    {
     "name": "stdout",
     "output_type": "stream",
     "text": [
      "❌ HTTP error 404 for bipolar disorder\n"
     ]
    },
    {
     "name": "stderr",
     "output_type": "stream",
     "text": [
      "\r",
      "🔬 Linking clinical trials:  91%|█████████ | 91/100 [00:34<00:03,  2.64it/s]"
     ]
    },
    {
     "name": "stdout",
     "output_type": "stream",
     "text": [
      "❌ HTTP error 404 for amyotrophic lateral sclerosis\n"
     ]
    },
    {
     "name": "stderr",
     "output_type": "stream",
     "text": [
      "\r",
      "🔬 Linking clinical trials:  92%|█████████▏| 92/100 [00:35<00:03,  2.64it/s]"
     ]
    },
    {
     "name": "stdout",
     "output_type": "stream",
     "text": [
      "❌ HTTP error 404 for coronary artery disease\n"
     ]
    },
    {
     "name": "stderr",
     "output_type": "stream",
     "text": [
      "\r",
      "🔬 Linking clinical trials:  93%|█████████▎| 93/100 [00:35<00:02,  2.64it/s]"
     ]
    },
    {
     "name": "stdout",
     "output_type": "stream",
     "text": [
      "❌ HTTP error 404 for meningioma\n"
     ]
    },
    {
     "name": "stderr",
     "output_type": "stream",
     "text": [
      "\r",
      "🔬 Linking clinical trials:  94%|█████████▍| 94/100 [00:35<00:02,  2.64it/s]"
     ]
    },
    {
     "name": "stdout",
     "output_type": "stream",
     "text": [
      "❌ HTTP error 404 for liver cancer\n"
     ]
    },
    {
     "name": "stderr",
     "output_type": "stream",
     "text": [
      "\r",
      "🔬 Linking clinical trials:  95%|█████████▌| 95/100 [00:36<00:01,  2.64it/s]"
     ]
    },
    {
     "name": "stdout",
     "output_type": "stream",
     "text": [
      "❌ HTTP error 404 for uterine cancer\n"
     ]
    },
    {
     "name": "stderr",
     "output_type": "stream",
     "text": [
      "\r",
      "🔬 Linking clinical trials:  96%|█████████▌| 96/100 [00:36<00:01,  2.63it/s]"
     ]
    },
    {
     "name": "stdout",
     "output_type": "stream",
     "text": [
      "❌ HTTP error 404 for adrenal gland cancer\n"
     ]
    },
    {
     "name": "stderr",
     "output_type": "stream",
     "text": [
      "\r",
      "🔬 Linking clinical trials:  97%|█████████▋| 97/100 [00:37<00:01,  2.63it/s]"
     ]
    },
    {
     "name": "stdout",
     "output_type": "stream",
     "text": [
      "❌ HTTP error 404 for muscle cancer\n"
     ]
    },
    {
     "name": "stderr",
     "output_type": "stream",
     "text": [
      "\r",
      "🔬 Linking clinical trials:  98%|█████████▊| 98/100 [00:37<00:00,  2.62it/s]"
     ]
    },
    {
     "name": "stdout",
     "output_type": "stream",
     "text": [
      "❌ HTTP error 404 for skin cancer\n"
     ]
    },
    {
     "name": "stderr",
     "output_type": "stream",
     "text": [
      "\r",
      "🔬 Linking clinical trials:  99%|█████████▉| 99/100 [00:37<00:00,  2.64it/s]"
     ]
    },
    {
     "name": "stdout",
     "output_type": "stream",
     "text": [
      "❌ HTTP error 404 for systemic scleroderma\n"
     ]
    },
    {
     "name": "stderr",
     "output_type": "stream",
     "text": [
      "🔬 Linking clinical trials: 100%|██████████| 100/100 [00:38<00:00,  2.62it/s]"
     ]
    },
    {
     "name": "stdout",
     "output_type": "stream",
     "text": [
      "\n",
      "✅ Clinical trial linking complete.\n",
      "📦 Added 0 trial nodes and 🔗 0 edges.\n"
     ]
    },
    {
     "name": "stderr",
     "output_type": "stream",
     "text": [
      "\n"
     ]
    }
   ],
   "source": [
    "import requests\n",
    "import time\n",
    "from tqdm import tqdm\n",
    "\n",
    "# Limit to 100 diseases for enrichment\n",
    "disease_nodes = [n for n, d in G.nodes(data=True) if d.get(\"label\") == \"Disease\"]\n",
    "disease_nodes = disease_nodes[:100]\n",
    "\n",
    "added_trials = 0\n",
    "added_trial_edges = 0\n",
    "linked_trials = []\n",
    "\n",
    "import urllib.parse\n",
    "\n",
    "def search_clinical_trials(disease_name):\n",
    "    \"\"\"Robust ClinicalTrials.gov search using raw expr string.\"\"\"\n",
    "    url = \"https://clinicaltrials.gov/api/query/study_fields\"\n",
    "\n",
    "    params = {\n",
    "        \"expr\": f'\"{disease_name}\"',  # wrap in quotes to allow multi-word phrases\n",
    "        \"fields\": \"NCTId,BriefTitle\",\n",
    "        \"min_rnk\": 1,\n",
    "        \"max_rnk\": 3,\n",
    "        \"fmt\": \"json\"\n",
    "    }\n",
    "\n",
    "    try:\n",
    "        response = requests.get(url, params=params, timeout=10)\n",
    "        if response.status_code != 200:\n",
    "            print(f\"❌ HTTP error {response.status_code} for {disease_name}\")\n",
    "            return []\n",
    "\n",
    "        data = response.json()\n",
    "        studies = data.get(\"StudyFieldsResponse\", {}).get(\"StudyFields\", [])\n",
    "        return [(s[\"NCTId\"][0], s[\"BriefTitle\"][0]) for s in studies if s.get(\"NCTId\") and s.get(\"BriefTitle\")]\n",
    "\n",
    "    except Exception as e:\n",
    "        print(f\"⚠️ Exception for {disease_name}: {e}\")\n",
    "        return []\n",
    "\n",
    "\n",
    "# Enrich graph\n",
    "for node_id in tqdm(disease_nodes, desc=\"🔬 Linking clinical trials\"):\n",
    "    disease_name = G.nodes[node_id].get(\"name\")\n",
    "    if not disease_name:\n",
    "        continue\n",
    "\n",
    "    trials = search_clinical_trials(disease_name)\n",
    "    for nct_id, title in trials:\n",
    "        trial_node = f\"ClinicalTrial::{nct_id}\"\n",
    "\n",
    "        if not G.has_node(trial_node):\n",
    "            G.add_node(trial_node, label=\"ClinicalTrial\", name=title)\n",
    "            added_trials += 1\n",
    "\n",
    "        if not G.has_edge(node_id, trial_node):\n",
    "            G.add_edge(node_id, trial_node, relation=\"studied_in\")\n",
    "            added_trial_edges += 1\n",
    "            linked_trials.append((disease_name, nct_id, title))\n",
    "\n",
    "    time.sleep(0.3)\n",
    "\n",
    "print(f\"\\n✅ Clinical trial linking complete.\")\n",
    "print(f\"📦 Added {added_trials} trial nodes and 🔗 {added_trial_edges} edges.\")\n",
    "for dname, nct, title in linked_trials[:10]:\n",
    "    print(f\"🔗 {dname} → {nct} → {title}\")\n",
    "\n"
   ]
  },
  {
   "cell_type": "code",
   "execution_count": 21,
   "id": "1ae88375",
   "metadata": {
    "id": "_qlyjmtTL70w"
   },
   "outputs": [],
   "source": [
    "import psycopg2\n",
    "import pandas as pd\n",
    "\n",
    "conn = psycopg2.connect(\n",
    "    host=\"aact-db.ctti-clinicaltrials.org\",\n",
    "    dbname=\"aact\",\n",
    "    user=\"theiman\",\n",
    "    password=\"Pth_082704\",\n",
    "    port=5432\n",
    ")\n"
   ]
  },
  {
   "cell_type": "code",
   "execution_count": 29,
   "id": "fb7b0a5d",
   "metadata": {
    "colab": {
     "base_uri": "https://localhost:8080/"
    },
    "id": "OYa8AEcmNO1c",
    "outputId": "df0fd80b-18c3-4231-dbad-a55fc01f0c06"
   },
   "outputs": [
    {
     "name": "stdout",
     "output_type": "stream",
     "text": [
      "{'target': {'approvedSymbol': 'TTN', 'associatedDiseases': {'count': 828, 'rows': [{'disease': {'id': 'EFO_0000407', 'name': 'dilated cardiomyopathy'}, 'score': 0.8463293516985615}, {'disease': {'id': 'MONDO_0011400', 'name': 'dilated cardiomyopathy 1G'}, 'score': 0.806061786200876}, {'disease': {'id': 'EFO_0000318', 'name': 'cardiomyopathy'}, 'score': 0.8040243189083583}, {'disease': {'id': 'MONDO_0010870', 'name': 'tibial muscular dystrophy'}, 'score': 0.7954923412028356}, {'disease': {'id': 'MONDO_0012714', 'name': 'early-onset myopathy with fatal cardiomyopathy'}, 'score': 0.7838356772448081}]}}}\n"
     ]
    }
   ],
   "source": [
    "from gql import gql, Client\n",
    "from gql.transport.requests import RequestsHTTPTransport\n",
    "\n",
    "transport = RequestsHTTPTransport(\n",
    "    url=\"https://api.platform.opentargets.org/api/v4/graphql\",\n",
    "    verify=True,\n",
    "    retries=3,\n",
    ")\n",
    "\n",
    "client = Client(transport=transport, fetch_schema_from_transport=True)\n",
    "\n",
    "query = gql(\"\"\"\n",
    "query GetTargetAssociations {\n",
    "  target(ensemblId: \"ENSG00000155657\") {\n",
    "    approvedSymbol\n",
    "    associatedDiseases(page: { index: 0, size: 5 }) {\n",
    "      count\n",
    "      rows {\n",
    "        disease {\n",
    "          id\n",
    "          name\n",
    "        }\n",
    "        score\n",
    "      }\n",
    "    }\n",
    "  }\n",
    "}\n",
    "\"\"\")\n",
    "\n",
    "result = client.execute(query)\n",
    "print(result)\n"
   ]
  },
  {
   "cell_type": "code",
   "execution_count": 33,
   "id": "8a5357b9",
   "metadata": {
    "colab": {
     "base_uri": "https://localhost:8080/"
    },
    "id": "qV6BGHWaN7OD",
    "outputId": "fff8ff16-8b0d-440e-ebb4-9e01c5716376"
   },
   "outputs": [
    {
     "name": "stderr",
     "output_type": "stream",
     "text": [
      "WARNING:biothings.client:Input sequence provided is already in string format. No operation performed\n",
      "WARNING:biothings.client:Input sequence provided is already in string format. No operation performed\n",
      "INFO:biothings.client:querying 1-100 ...\n",
      "INFO:biothings.client:Finished.\n",
      "WARNING:biothings.client:50 input query terms found no hit:\t['100127889', '100127971', '100127991', '100128001', '100128088', '100128107', '100128160', '1001281\n",
      "INFO:biothings.client:Pass \"returnall=True\" to return complete lists of duplicate or missing query terms.\n"
     ]
    },
    {
     "name": "stdout",
     "output_type": "stream",
     "text": [
      "[('1', {'symbol': 'A1BG', 'ensembl_id': 'ENSG00000121410'}), ('10', {'symbol': 'NAT2', 'ensembl_id': 'ENSG00000156006'}), ('100', {'symbol': 'ADA', 'ensembl_id': 'ENSG00000196839'}), ('1000', {'symbol': 'CDH2', 'ensembl_id': 'ENSG00000170558'}), ('100008586', {'symbol': 'GAGE12F', 'ensembl_id': 'ENSG00000236362'})]\n"
     ]
    }
   ],
   "source": [
    "import mygene\n",
    "\n",
    "mg = mygene.MyGeneInfo()\n",
    "gene_ids = [n.split(\"::\")[1] for n, _ in G.nodes(data=True) if n.startswith(\"Gene::\")]\n",
    "\n",
    "# Query MyGene.info for mappings\n",
    "results = mg.querymany(gene_ids[:100], scopes='entrezgene', fields='symbol,ensembl.gene', species='human')\n",
    "\n",
    "# Build mapping\n",
    "entrez_to_ensembl = {}\n",
    "for r in results:\n",
    "    if \"ensembl\" in r and \"symbol\" in r:\n",
    "        ens = r[\"ensembl\"]\n",
    "        if isinstance(ens, dict):\n",
    "            entrez_to_ensembl[r[\"query\"]] = {\n",
    "                \"symbol\": r[\"symbol\"],\n",
    "                \"ensembl_id\": ens[\"gene\"]\n",
    "            }\n",
    "\n",
    "print(list(entrez_to_ensembl.items())[:5])\n"
   ]
  },
  {
   "cell_type": "code",
   "execution_count": 34,
   "id": "43da7d03",
   "metadata": {
    "colab": {
     "base_uri": "https://localhost:8080/"
    },
    "id": "JAX4VGCAOIMN",
    "outputId": "865a73dd-c425-49dd-9d1b-1a5c4347b0b0"
   },
   "outputs": [
    {
     "name": "stderr",
     "output_type": "stream",
     "text": [
      "100%|██████████| 20945/20945 [00:08<00:00, 2461.82it/s]"
     ]
    },
    {
     "name": "stdout",
     "output_type": "stream",
     "text": [
      "\n",
      "✅ Finished Open Targets enrichment.\n",
      "📦 Added 0 new disease nodes and 🔗 0 edges.\n"
     ]
    },
    {
     "name": "stderr",
     "output_type": "stream",
     "text": [
      "\n"
     ]
    }
   ],
   "source": [
    "from gql import gql\n",
    "from tqdm import tqdm\n",
    "\n",
    "added_diseases = 0\n",
    "added_edges = 0\n",
    "\n",
    "# Update graph with mapping attributes\n",
    "for node in G.nodes:\n",
    "    if node.startswith(\"Gene::\"):\n",
    "        entrez = node.split(\"::\")[1]\n",
    "        if entrez in entrez_to_ensembl:\n",
    "            G.nodes[node][\"symbol\"] = entrez_to_ensembl[entrez][\"symbol\"]\n",
    "            G.nodes[node][\"ensembl_id\"] = entrez_to_ensembl[entrez][\"ensembl_id\"]\n",
    "\n",
    "# Enrich via GraphQL\n",
    "# Take a snapshot to avoid mutation error\n",
    "gene_nodes = [(node, data) for node, data in G.nodes(data=True) if data.get(\"label\") == \"Gene\"]\n",
    "\n",
    "for node, data in tqdm(gene_nodes):\n",
    "    ensembl_id = data.get(\"ensembl_id\")\n",
    "    if not ensembl_id:\n",
    "        continue\n",
    "\n",
    "    query = gql(f\"\"\"\n",
    "    query {{\n",
    "      target(ensemblId: \"{ensembl_id}\") {{\n",
    "        associatedDiseases(page: {{ index: 0, size: 10 }}) {{\n",
    "          rows {{\n",
    "            disease {{ id name }}\n",
    "            score\n",
    "          }}\n",
    "        }}\n",
    "      }}\n",
    "    }}\n",
    "    \"\"\")\n",
    "\n",
    "    try:\n",
    "        result = client.execute(query)\n",
    "        rows = result[\"target\"][\"associatedDiseases\"][\"rows\"]\n",
    "\n",
    "        for row in rows:\n",
    "            disease_id = f\"EFO::{row['disease']['id']}\"\n",
    "            disease_name = row[\"disease\"][\"name\"]\n",
    "            score = row[\"score\"]\n",
    "\n",
    "            if not G.has_node(disease_id):\n",
    "                G.add_node(disease_id, label=\"Disease\", name=disease_name)\n",
    "\n",
    "            if not G.has_edge(node, disease_id):\n",
    "                G.add_edge(node, disease_id, relation=\"associated_with\", score=score)\n",
    "\n",
    "    except Exception as e:\n",
    "        print(f\"⚠️ Error for {ensembl_id}: {e}\")\n",
    "\n",
    "\n",
    "print(f\"\\n✅ Finished Open Targets enrichment.\")\n",
    "print(f\"📦 Added {added_diseases} new disease nodes and 🔗 {added_edges} edges.\")\n"
   ]
  },
  {
   "cell_type": "code",
   "execution_count": 35,
   "id": "2dcf74a0",
   "metadata": {
    "colab": {
     "base_uri": "https://localhost:8080/"
    },
    "id": "k2AIyK9pOixi",
    "outputId": "b423c164-9e1b-4232-eade-78f57b166cb0"
   },
   "outputs": [
    {
     "name": "stderr",
     "output_type": "stream",
     "text": [
      "\r",
      "  0%|          | 0/21 [00:00<?, ?it/s]WARNING:biothings.client:Input sequence provided is already in string format. No operation performed\n",
      "WARNING:biothings.client:Input sequence provided is already in string format. No operation performed\n",
      "INFO:biothings.client:querying 1-1000 ...\n",
      "INFO:biothings.client:Finished.\n",
      "WARNING:biothings.client:319 input query terms found no hit:\t['100127889', '100127971', '100127991', '100128001', '100128088', '100128107', '100128160', '1001281\n",
      "INFO:biothings.client:Pass \"returnall=True\" to return complete lists of duplicate or missing query terms.\n",
      "  5%|▍         | 1/21 [00:01<00:39,  1.96s/it]WARNING:biothings.client:Input sequence provided is already in string format. No operation performed\n",
      "WARNING:biothings.client:Input sequence provided is already in string format. No operation performed\n",
      "INFO:biothings.client:querying 1-1000 ...\n",
      "INFO:biothings.client:Finished.\n",
      "WARNING:biothings.client:420 input query terms found no hit:\t['102723383', '102723415', '102723418', '102723422', '102723456', '102723503', '102723613', '1027236\n",
      "INFO:biothings.client:Pass \"returnall=True\" to return complete lists of duplicate or missing query terms.\n",
      " 10%|▉         | 2/21 [00:03<00:35,  1.86s/it]WARNING:biothings.client:Input sequence provided is already in string format. No operation performed\n",
      "WARNING:biothings.client:Input sequence provided is already in string format. No operation performed\n",
      "INFO:biothings.client:querying 1-1000 ...\n",
      "INFO:biothings.client:Finished.\n",
      "WARNING:biothings.client:162 input query terms found no hit:\t['105377170', '105377189', '105377197', '105377200', '105377206', '105377207', '105377210', '1053773\n",
      "INFO:biothings.client:Pass \"returnall=True\" to return complete lists of duplicate or missing query terms.\n",
      " 14%|█▍        | 3/21 [00:05<00:35,  1.99s/it]WARNING:biothings.client:Input sequence provided is already in string format. No operation performed\n",
      "WARNING:biothings.client:Input sequence provided is already in string format. No operation performed\n",
      "INFO:biothings.client:querying 1-1000 ...\n",
      "INFO:biothings.client:Finished.\n",
      "WARNING:biothings.client:2 input query terms found no hit:\t['117153', '132250']\n",
      "INFO:biothings.client:Pass \"returnall=True\" to return complete lists of duplicate or missing query terms.\n",
      " 19%|█▉        | 4/21 [00:07<00:32,  1.92s/it]WARNING:biothings.client:Input sequence provided is already in string format. No operation performed\n",
      "WARNING:biothings.client:Input sequence provided is already in string format. No operation performed\n",
      "INFO:biothings.client:querying 1-1000 ...\n",
      "INFO:biothings.client:Finished.\n",
      "WARNING:biothings.client:11 input query terms found no hit:\t['143286', '149401', '150378', '152286', '152956', '153682', '157503', '157562', '157860', '157931',\n",
      "INFO:biothings.client:Pass \"returnall=True\" to return complete lists of duplicate or missing query terms.\n",
      " 24%|██▍       | 5/21 [00:09<00:30,  1.91s/it]WARNING:biothings.client:Input sequence provided is already in string format. No operation performed\n",
      "WARNING:biothings.client:Input sequence provided is already in string format. No operation performed\n",
      "INFO:biothings.client:querying 1-1000 ...\n",
      "INFO:biothings.client:Finished.\n",
      "WARNING:biothings.client:5 input query terms found no hit:\t['197387', '200609', '200830', '200860', '219688']\n",
      "INFO:biothings.client:Pass \"returnall=True\" to return complete lists of duplicate or missing query terms.\n",
      " 29%|██▊       | 6/21 [00:11<00:29,  1.95s/it]WARNING:biothings.client:Input sequence provided is already in string format. No operation performed\n",
      "WARNING:biothings.client:Input sequence provided is already in string format. No operation performed\n",
      "INFO:biothings.client:querying 1-1000 ...\n",
      "INFO:biothings.client:Finished.\n",
      "WARNING:biothings.client:12 input query terms found no hit:\t['221814', '222344', '23285', '23444', '23447', '23448', '23449', '23685', '246318', '246724', '2467\n",
      "INFO:biothings.client:Pass \"returnall=True\" to return complete lists of duplicate or missing query terms.\n",
      " 33%|███▎      | 7/21 [00:13<00:26,  1.91s/it]WARNING:biothings.client:Input sequence provided is already in string format. No operation performed\n",
      "WARNING:biothings.client:Input sequence provided is already in string format. No operation performed\n",
      "INFO:biothings.client:querying 1-1000 ...\n",
      "INFO:biothings.client:Finished.\n",
      "WARNING:biothings.client:13 input query terms found no hit:\t['255042', '256824', '257152', '2575', '260404', '26069', '26101', '26105', '26106', '26107', '26120\n",
      "INFO:biothings.client:Pass \"returnall=True\" to return complete lists of duplicate or missing query terms.\n",
      " 38%|███▊      | 8/21 [00:15<00:24,  1.88s/it]WARNING:biothings.client:Input sequence provided is already in string format. No operation performed\n",
      "WARNING:biothings.client:Input sequence provided is already in string format. No operation performed\n",
      "INFO:biothings.client:querying 1-1000 ...\n",
      "INFO:biothings.client:Finished.\n",
      "WARNING:biothings.client:53 input query terms found no hit:\t['2763', '283075', '283112', '283270', '283278', '283357', '283372', '283454', '283475', '283484', '\n",
      "INFO:biothings.client:Pass \"returnall=True\" to return complete lists of duplicate or missing query terms.\n",
      " 43%|████▎     | 9/21 [00:17<00:22,  1.85s/it]WARNING:biothings.client:Input sequence provided is already in string format. No operation performed\n",
      "WARNING:biothings.client:Input sequence provided is already in string format. No operation performed\n",
      "INFO:biothings.client:querying 1-1000 ...\n",
      "INFO:biothings.client:Finished.\n",
      "WARNING:biothings.client:11 input query terms found no hit:\t['317647', '338620', '338809', '340085', '340178', '340335', '347715', '348040', '348162', '348738',\n",
      "INFO:biothings.client:Pass \"returnall=True\" to return complete lists of duplicate or missing query terms.\n",
      " 48%|████▊     | 10/21 [00:18<00:20,  1.84s/it]WARNING:biothings.client:Input sequence provided is already in string format. No operation performed\n",
      "WARNING:biothings.client:Input sequence provided is already in string format. No operation performed\n",
      "INFO:biothings.client:querying 1-1000 ...\n",
      "INFO:biothings.client:Finished.\n",
      "WARNING:biothings.client:23 input query terms found no hit:\t['387638', '388289', '388439', '388813', '389036', '389405', '389422', '389908', '390760', '391230',\n",
      "INFO:biothings.client:Pass \"returnall=True\" to return complete lists of duplicate or missing query terms.\n",
      " 52%|█████▏    | 11/21 [00:20<00:18,  1.83s/it]WARNING:biothings.client:Input sequence provided is already in string format. No operation performed\n",
      "WARNING:biothings.client:Input sequence provided is already in string format. No operation performed\n",
      "INFO:biothings.client:querying 1-1000 ...\n",
      "INFO:biothings.client:Finished.\n",
      "WARNING:biothings.client:19 input query terms found no hit:\t['440047', '440330', '440414', '440981', '441098', '441347', '441520', '442695', '4447', '4448', '44\n",
      "INFO:biothings.client:Pass \"returnall=True\" to return complete lists of duplicate or missing query terms.\n",
      " 57%|█████▋    | 12/21 [00:22<00:17,  1.90s/it]WARNING:biothings.client:Input sequence provided is already in string format. No operation performed\n",
      "WARNING:biothings.client:Input sequence provided is already in string format. No operation performed\n",
      "INFO:biothings.client:querying 1-1000 ...\n",
      "INFO:biothings.client:Finished.\n",
      " 62%|██████▏   | 13/21 [00:24<00:15,  1.88s/it]WARNING:biothings.client:Input sequence provided is already in string format. No operation performed\n",
      "WARNING:biothings.client:Input sequence provided is already in string format. No operation performed\n",
      "INFO:biothings.client:querying 1-1000 ...\n",
      "INFO:biothings.client:Finished.\n",
      "WARNING:biothings.client:2 input query terms found no hit:\t['554223', '55547']\n",
      "INFO:biothings.client:Pass \"returnall=True\" to return complete lists of duplicate or missing query terms.\n",
      " 67%|██████▋   | 14/21 [00:26<00:12,  1.85s/it]WARNING:biothings.client:Input sequence provided is already in string format. No operation performed\n",
      "WARNING:biothings.client:Input sequence provided is already in string format. No operation performed\n",
      "INFO:biothings.client:querying 1-1000 ...\n",
      "INFO:biothings.client:Finished.\n",
      "WARNING:biothings.client:4 input query terms found no hit:\t['5643', '5661', '574037', '57796']\n",
      "INFO:biothings.client:Pass \"returnall=True\" to return complete lists of duplicate or missing query terms.\n",
      " 71%|███████▏  | 15/21 [00:28<00:11,  1.84s/it]WARNING:biothings.client:Input sequence provided is already in string format. No operation performed\n",
      "WARNING:biothings.client:Input sequence provided is already in string format. No operation performed\n",
      "INFO:biothings.client:querying 1-1000 ...\n",
      "INFO:biothings.client:Finished.\n",
      "WARNING:biothings.client:37 input query terms found no hit:\t['619431', '6200', '6264', '6267', '6268', '641314', '641589', '642326', '642441', '642620', '642730\n",
      "INFO:biothings.client:Pass \"returnall=True\" to return complete lists of duplicate or missing query terms.\n",
      " 76%|███████▌  | 16/21 [00:29<00:09,  1.83s/it]WARNING:biothings.client:Input sequence provided is already in string format. No operation performed\n",
      "WARNING:biothings.client:Input sequence provided is already in string format. No operation performed\n",
      "INFO:biothings.client:querying 1-1000 ...\n",
      "INFO:biothings.client:Finished.\n",
      "WARNING:biothings.client:23 input query terms found no hit:\t['653380', '653541', '653602', '654348', '654377', '7254', '7255', '7256', '727961', '728013', '7281\n",
      "INFO:biothings.client:Pass \"returnall=True\" to return complete lists of duplicate or missing query terms.\n",
      " 81%|████████  | 17/21 [00:31<00:07,  1.83s/it]WARNING:biothings.client:Input sequence provided is already in string format. No operation performed\n",
      "WARNING:biothings.client:Input sequence provided is already in string format. No operation performed\n",
      "INFO:biothings.client:querying 1-1000 ...\n",
      "INFO:biothings.client:Finished.\n",
      "WARNING:biothings.client:5 input query terms found no hit:\t['7521', '7524', '7624', '780789', '790969']\n",
      "INFO:biothings.client:Pass \"returnall=True\" to return complete lists of duplicate or missing query terms.\n",
      " 86%|████████▌ | 18/21 [00:33<00:05,  1.86s/it]WARNING:biothings.client:Input sequence provided is already in string format. No operation performed\n",
      "WARNING:biothings.client:Input sequence provided is already in string format. No operation performed\n",
      "INFO:biothings.client:querying 1-1000 ...\n",
      "INFO:biothings.client:Finished.\n",
      "WARNING:biothings.client:2 input query terms found no hit:\t['80761', '83935']\n",
      "INFO:biothings.client:Pass \"returnall=True\" to return complete lists of duplicate or missing query terms.\n",
      " 90%|█████████ | 19/21 [00:35<00:03,  1.84s/it]WARNING:biothings.client:Input sequence provided is already in string format. No operation performed\n",
      "WARNING:biothings.client:Input sequence provided is already in string format. No operation performed\n",
      "INFO:biothings.client:querying 1-1000 ...\n",
      "INFO:biothings.client:Finished.\n",
      "WARNING:biothings.client:2 input query terms found no hit:\t['84953', '9142']\n",
      "INFO:biothings.client:Pass \"returnall=True\" to return complete lists of duplicate or missing query terms.\n",
      " 95%|█████████▌| 20/21 [00:37<00:01,  1.83s/it]WARNING:biothings.client:Input sequence provided is already in string format. No operation performed\n",
      "WARNING:biothings.client:Input sequence provided is already in string format. No operation performed\n",
      "INFO:biothings.client:querying 1-945 ...\n",
      "INFO:biothings.client:Finished.\n",
      "WARNING:biothings.client:3 input query terms found no hit:\t['9220', '93980', '93981']\n",
      "INFO:biothings.client:Pass \"returnall=True\" to return complete lists of duplicate or missing query terms.\n",
      "100%|██████████| 21/21 [00:39<00:00,  1.86s/it]\n"
     ]
    }
   ],
   "source": [
    "from tqdm import tqdm\n",
    "import mygene\n",
    "\n",
    "mg = mygene.MyGeneInfo()\n",
    "\n",
    "gene_ids = [n.split(\"::\")[1] for n, d in G.nodes(data=True)\n",
    "            if d.get(\"label\") == \"Gene\" and \"::\" in n]\n",
    "\n",
    "# Query MyGene.info in chunks\n",
    "entrez_to_ensembl = {}\n",
    "for i in tqdm(range(0, len(gene_ids), 1000)):\n",
    "    chunk = gene_ids[i:i+1000]\n",
    "    results = mg.querymany(chunk, scopes='entrezgene', fields='symbol,ensembl.gene', species='human')\n",
    "    for r in results:\n",
    "        if \"ensembl\" in r and \"symbol\" in r:\n",
    "            ens = r[\"ensembl\"]\n",
    "            if isinstance(ens, dict):\n",
    "                entrez_to_ensembl[r[\"query\"]] = {\n",
    "                    \"symbol\": r[\"symbol\"],\n",
    "                    \"ensembl_id\": ens[\"gene\"]\n",
    "                }\n"
   ]
  },
  {
   "cell_type": "code",
   "execution_count": null,
   "id": "84dc01c4",
   "metadata": {
    "colab": {
     "background_save": true
    },
    "id": "MVbNRc3DQGAu",
    "outputId": "9aac83fb-f4ac-4bd5-b40f-856f7b0f3716"
   },
   "outputs": [
    {
     "name": "stdout",
     "output_type": "stream",
     "text": [
      "🔬 Linking clinical trials...\n"
     ]
    },
    {
     "name": "stderr",
     "output_type": "stream",
     "text": [
      "100%|██████████| 5000/5000 [01:23<00:00, 60.23it/s]"
     ]
    },
    {
     "name": "stdout",
     "output_type": "stream",
     "text": [
      "\n",
      "✅ Trial linking complete.\n",
      "📦 Added 1260 trial nodes and 🔗 1332 edges.\n",
      "⏭️ Unmatched conditions: 3661\n"
     ]
    },
    {
     "name": "stderr",
     "output_type": "stream",
     "text": [
      "\n"
     ]
    }
   ],
   "source": [
    "from difflib import get_close_matches\n",
    "from tqdm import tqdm\n",
    "\n",
    "added_trials = 0\n",
    "added_links = 0\n",
    "unmatched_conditions = []\n",
    "\n",
    "# Snapshot of existing disease names for matching\n",
    "disease_lookup = {\n",
    "    d.lower(): n for n, d in nx.get_node_attributes(G, \"name\").items()\n",
    "    if G.nodes[n].get(\"label\") == \"Disease\"\n",
    "}\n",
    "\n",
    "print(\"🔬 Linking clinical trials...\")\n",
    "\n",
    "for _, row in tqdm(trials_df.iterrows(), total=len(trials_df)):\n",
    "    cond = str(row[\"condition_name\"]).lower().strip()\n",
    "    nct_id = row[\"nct_id\"]\n",
    "    title = row[\"brief_title\"]\n",
    "\n",
    "    match = disease_lookup.get(cond)\n",
    "    if not match:\n",
    "        # Try fuzzy match (optional)\n",
    "        guess = get_close_matches(cond, disease_lookup.keys(), n=1, cutoff=0.9)\n",
    "        if guess:\n",
    "            match = disease_lookup[guess[0]]\n",
    "        else:\n",
    "            unmatched_conditions.append(cond)\n",
    "            continue\n",
    "\n",
    "    trial_node = f\"ClinicalTrial::{nct_id}\"\n",
    "    if not G.has_node(trial_node):\n",
    "        G.add_node(trial_node, label=\"ClinicalTrial\", name=title)\n",
    "        added_trials += 1\n",
    "\n",
    "    if not G.has_edge(match, trial_node):\n",
    "        G.add_edge(match, trial_node, relation=\"studied_in\")\n",
    "        added_links += 1\n",
    "\n",
    "print(f\"\\n✅ Trial linking complete.\")\n",
    "print(f\"📦 Added {added_trials} trial nodes and 🔗 {added_links} edges.\")\n",
    "print(f\"⏭️ Unmatched conditions: {len(unmatched_conditions)}\")\n"
   ]
  },
  {
   "cell_type": "code",
   "execution_count": 39,
   "id": "f6030173",
   "metadata": {
    "colab": {
     "base_uri": "https://localhost:8080/"
    },
    "id": "TTITDsOaRasp",
    "outputId": "23bd519a-03c1-4ef0-a40b-d71db3b01151"
   },
   "outputs": [
    {
     "name": "stdout",
     "output_type": "stream",
     "text": [
      "🔬 Linking clinical trials using fuzzy matching...\n"
     ]
    },
    {
     "name": "stderr",
     "output_type": "stream",
     "text": [
      "100%|██████████| 5000/5000 [01:55<00:00, 43.35it/s]"
     ]
    },
    {
     "name": "stdout",
     "output_type": "stream",
     "text": [
      "\n",
      "✅ Fuzzy trial linking complete.\n",
      "📦 Added 2348 trial nodes and 🔗 2662 edges.\n",
      "⏭️ Unmatched conditions: 2194\n"
     ]
    },
    {
     "name": "stderr",
     "output_type": "stream",
     "text": [
      "\n"
     ]
    }
   ],
   "source": [
    "from fuzzywuzzy import fuzz\n",
    "from tqdm import tqdm\n",
    "\n",
    "added_trials = 0\n",
    "added_links = 0\n",
    "unmatched_conditions = []\n",
    "\n",
    "# Snapshot of lowercased disease name → node_id\n",
    "disease_lookup = {\n",
    "    d.lower(): n for n, d in nx.get_node_attributes(G, \"name\").items()\n",
    "    if G.nodes[n].get(\"label\") == \"Disease\"\n",
    "}\n",
    "\n",
    "print(\"🔬 Linking clinical trials using fuzzy matching...\")\n",
    "\n",
    "for _, row in tqdm(trials_df.iterrows(), total=len(trials_df)):\n",
    "    cond = str(row[\"condition_name\"]).lower().strip()\n",
    "    nct_id = row[\"nct_id\"]\n",
    "    title = row[\"brief_title\"]\n",
    "\n",
    "    # Try exact match first\n",
    "    match_node = disease_lookup.get(cond)\n",
    "\n",
    "    if not match_node:\n",
    "        # Fuzzy match if exact fails\n",
    "        best_match = None\n",
    "        best_score = 0\n",
    "        for name in disease_lookup:\n",
    "            score = fuzz.partial_ratio(cond, name)\n",
    "            if score > best_score and score >= 85:\n",
    "                best_score = score\n",
    "                best_match = name\n",
    "\n",
    "        if best_match:\n",
    "            match_node = disease_lookup[best_match]\n",
    "        else:\n",
    "            unmatched_conditions.append(cond)\n",
    "            continue\n",
    "\n",
    "    trial_node = f\"ClinicalTrial::{nct_id}\"\n",
    "    if not G.has_node(trial_node):\n",
    "        G.add_node(trial_node, label=\"ClinicalTrial\", name=title)\n",
    "        added_trials += 1\n",
    "\n",
    "    if not G.has_edge(match_node, trial_node):\n",
    "        G.add_edge(match_node, trial_node, relation=\"studied_in\")\n",
    "        added_links += 1\n",
    "\n",
    "print(f\"\\n✅ Fuzzy trial linking complete.\")\n",
    "print(f\"📦 Added {added_trials} trial nodes and 🔗 {added_links} edges.\")\n",
    "print(f\"⏭️ Unmatched conditions: {len(unmatched_conditions)}\")\n"
   ]
  },
  {
   "cell_type": "code",
   "execution_count": 41,
   "id": "a4752583",
   "metadata": {
    "colab": {
     "base_uri": "https://localhost:8080/"
    },
    "id": "dwBrd3M_Rw73",
    "outputId": "922c7b88-6f9f-47fb-9d54-59460c5e1001"
   },
   "outputs": [
    {
     "name": "stderr",
     "output_type": "stream",
     "text": [
      "🔍 Fetching MeSH terms: 100%|██████████| 50/50 [00:45<00:00,  1.11it/s]\n"
     ]
    }
   ],
   "source": [
    "import requests\n",
    "import pandas as pd\n",
    "from tqdm import tqdm\n",
    "import time\n",
    "\n",
    "def fetch_mesh_synonyms(apikey, pages=50):\n",
    "    base_url = \"https://data.bioontology.org/ontologies/MESH/classes\"\n",
    "    params = {\n",
    "        \"apikey\": apikey,\n",
    "        \"pagesize\": 100\n",
    "    }\n",
    "\n",
    "    all_data = []\n",
    "\n",
    "    for page in tqdm(range(1, pages + 1), desc=\"🔍 Fetching MeSH terms\"):\n",
    "        params[\"page\"] = page\n",
    "        try:\n",
    "            r = requests.get(base_url, params=params)\n",
    "            r.raise_for_status()\n",
    "            for entry in r.json().get(\"collection\", []):\n",
    "                name = entry.get(\"prefLabel\")\n",
    "                synonyms = entry.get(\"synonym\", [])\n",
    "                if name:\n",
    "                    all_data.append({\n",
    "                        \"Preferred_Name\": name,\n",
    "                        \"Synonyms\": synonyms\n",
    "                    })\n",
    "            time.sleep(0.3)\n",
    "        except Exception as e:\n",
    "            print(f\"⚠️ Page {page} failed: {e}\")\n",
    "            continue\n",
    "\n",
    "    return pd.DataFrame(all_data)\n",
    "\n",
    "# Fetch 5000+ terms (~50 pages)\n",
    "mesh_df = fetch_mesh_synonyms(BIOPORTAL_APIKEY, pages=50)\n"
   ]
  },
  {
   "cell_type": "markdown",
   "id": "ec2680c8",
   "metadata": {},
   "source": [
    "## 3. Configuration & Parameters <a id='config'></a>'"
   ]
  },
  {
   "cell_type": "code",
   "execution_count": 5,
   "id": "8d496550",
   "metadata": {
    "colab": {
     "base_uri": "https://localhost:8080/"
    },
    "id": "W9px8jquULnW",
    "outputId": "64358431-6d6d-4b87-9934-28355127c3d6"
   },
   "outputs": [
    {
     "name": "stdout",
     "output_type": "stream",
     "text": [
      "🧬 Enriching genes from UniProt...\n",
      "✅ Gene enrichment complete.\n"
     ]
    }
   ],
   "source": [
    "enrich_genes_with_uniprot(G, max_genes=200)"
   ]
  },
  {
   "cell_type": "code",
   "execution_count": 7,
   "id": "b46a4e24",
   "metadata": {
    "colab": {
     "base_uri": "https://localhost:8080/"
    },
    "id": "8f9UoorTVBax",
    "outputId": "f39decd5-3077-4a38-af32-9b3ad9b84816"
   },
   "outputs": [
    {
     "name": "stdout",
     "output_type": "stream",
     "text": [
      "📚 Enriching diseases with MeSH/OMIM using BioPortal (fuzzy match)...\n",
      "✅ Fuzzy disease enrichment complete.\n"
     ]
    }
   ],
   "source": [
    "enrich_diseases_with_mesh_omim(G, max_diseases=200)\n"
   ]
  },
  {
   "cell_type": "code",
   "execution_count": 8,
   "id": "e0f7125e",
   "metadata": {
    "id": "cIJu7pPbVFUM"
   },
   "outputs": [],
   "source": [
    "# Display enriched diseases\n",
    "count = 0\n",
    "for node, data in G.nodes(data=True):\n",
    "    if data.get(\"label\") == \"Disease\" and data.get(\"bioportal_id\"):\n",
    "        print(f\"🦠 {data['name']}\")\n",
    "        print(f\"   BioPortal ID: {data.get('bioportal_id')}\")\n",
    "        print(f\"   Label: {data.get('bioportal_label')}\")\n",
    "        print(f\"   Synonyms: {data.get('bioportal_synonyms')}\")\n",
    "        print(f\"   Link: {data.get('bioportal_links')}\\n\")\n",
    "        count += 1\n",
    "        if count >= 5:\n",
    "            break\n",
    "\n"
   ]
  },
  {
   "cell_type": "code",
   "execution_count": 9,
   "id": "9efa6cb2",
   "metadata": {
    "id": "L3Q4_cnFWJfu"
   },
   "outputs": [],
   "source": [
    "def enrich_diseases_with_mesh_omim(G, max_diseases=200, apikey=\"YOUR_API_KEY_HERE\"):\n",
    "    print(\"📚 Enriching diseases with MeSH/OMIM using BioPortal (with API key)...\")\n",
    "\n",
    "    search_url = \"https://data.bioontology.org/search\"\n",
    "    disease_nodes = [n for n, d in G.nodes(data=True) if d.get(\"label\") == \"Disease\"]\n",
    "    disease_nodes = disease_nodes[:max_diseases]\n",
    "\n",
    "    for node_id in disease_nodes:\n",
    "        disease_name = G.nodes[node_id].get(\"name\")\n",
    "        if not disease_name:\n",
    "            continue\n",
    "\n",
    "        try:\n",
    "            print(f\"🔍 Searching: {disease_name}\")\n",
    "            params = {\n",
    "                \"q\": disease_name,\n",
    "                \"ontologies\": \"MESH,OMIM\",\n",
    "                \"format\": \"json\",\n",
    "                \"pagesize\": 1,\n",
    "                \"apikey\": apikey\n",
    "            }\n",
    "            response = requests.get(search_url, params=params)\n",
    "            data = response.json()\n",
    "\n",
    "            if data.get(\"collection\"):\n",
    "                match = data[\"collection\"][0]\n",
    "                G.nodes[node_id][\"bioportal_id\"] = match.get(\"@id\")\n",
    "                G.nodes[node_id][\"bioportal_label\"] = match.get(\"prefLabel\")\n",
    "                G.nodes[node_id][\"bioportal_synonyms\"] = match.get(\"synonym\")\n",
    "                G.nodes[node_id][\"bioportal_links\"] = match.get(\"links\", {}).get(\"self\")\n",
    "                print(f\"✅ Match: {match.get('prefLabel')} ({match.get('@id')})\")\n",
    "            else:\n",
    "                print(\"❌ No match found\")\n",
    "\n",
    "        except Exception as e:\n",
    "            print(f\"⚠️ Error for {disease_name}: {e}\")\n",
    "\n",
    "        time.sleep(0.3)\n",
    "\n",
    "    print(\"✅ Enrichment complete.\")\n"
   ]
  },
  {
   "cell_type": "code",
   "execution_count": 10,
   "id": "1e90a396",
   "metadata": {
    "colab": {
     "base_uri": "https://localhost:8080/"
    },
    "id": "4ZsgoQOoWdI6",
    "outputId": "6a99c840-7818-458b-8dcb-4f0a642a095c"
   },
   "outputs": [
    {
     "name": "stdout",
     "output_type": "stream",
     "text": [
      "📚 Enriching diseases with MeSH/OMIM using BioPortal (with API key)...\n",
      "🔍 Searching: idiopathic pulmonary fibrosis\n",
      "✅ Match: Idiopathic Pulmonary Fibrosis (http://purl.bioontology.org/ontology/MESH/D054990)\n",
      "🔍 Searching: restless legs syndrome\n",
      "✅ Match: Restless Legs Syndrome (http://purl.bioontology.org/ontology/MESH/D012148)\n",
      "🔍 Searching: alcohol dependence\n",
      "✅ Match: ALCOHOL DEPENDENCE (http://purl.bioontology.org/ontology/OMIM/103780)\n",
      "🔍 Searching: nicotine dependence\n",
      "✅ Match: Nicotine (http://purl.bioontology.org/ontology/MESH/D009538)\n",
      "🔍 Searching: lymphatic system cancer\n",
      "✅ Match: Lymphatic System (http://purl.bioontology.org/ontology/MESH/D008208)\n",
      "🔍 Searching: pharynx cancer\n",
      "✅ Match: Pharyngeal Neoplasms (http://purl.bioontology.org/ontology/MESH/D010610)\n",
      "🔍 Searching: duodenum cancer\n",
      "✅ Match: Duodenal Neoplasms (http://purl.bioontology.org/ontology/MESH/D004379)\n",
      "🔍 Searching: ileum cancer\n",
      "✅ Match: Ileum (http://purl.bioontology.org/ontology/MESH/D007082)\n",
      "🔍 Searching: leprosy\n",
      "✅ Match: Leprosy (http://purl.bioontology.org/ontology/MESH/D007918)\n",
      "🔍 Searching: prostate cancer\n",
      "✅ Match: PROSTATE CANCER (http://purl.bioontology.org/ontology/OMIM/176807)\n",
      "🔍 Searching: stomach cancer\n",
      "✅ Match: Stomach cancer (http://purl.bioontology.org/ontology/OMIM/MTHU072800)\n",
      "🔍 Searching: celiac disease\n",
      "✅ Match: Celiac Disease (http://purl.bioontology.org/ontology/MESH/D002446)\n",
      "🔍 Searching: Alzheimer's disease\n",
      "✅ Match: Alzheimer's disease antigen (http://purl.bioontology.org/ontology/MESH/C056167)\n",
      "🔍 Searching: hypertension\n",
      "✅ Match: Hypertension (http://purl.bioontology.org/ontology/MESH/D006973)\n",
      "🔍 Searching: nasal cavity cancer\n",
      "✅ Match: Nasal Cavity (http://purl.bioontology.org/ontology/MESH/D009296)\n",
      "🔍 Searching: age related macular degeneration\n",
      "✅ Match: Macular degeneration, age-related (http://purl.bioontology.org/ontology/OMIM/MTHU044264)\n",
      "🔍 Searching: attention deficit hyperactivity disorder\n",
      "✅ Match: Attention deficit/hyperactivity disorder (http://purl.bioontology.org/ontology/OMIM/MTHU065489)\n",
      "🔍 Searching: intracranial aneurysm\n",
      "✅ Match: Intracranial Aneurysm (http://purl.bioontology.org/ontology/MESH/D002532)\n",
      "🔍 Searching: membranous glomerulonephritis\n",
      "✅ Match: Glomerulonephritis, Membranous (http://purl.bioontology.org/ontology/MESH/D015433)\n",
      "🔍 Searching: urinary bladder cancer\n",
      "✅ Match: Urinary Bladder (http://purl.bioontology.org/ontology/MESH/D001743)\n",
      "🔍 Searching: Gilles de la Tourette syndrome\n",
      "✅ Match: GILLES DE LA TOURETTE SYNDROME (http://purl.bioontology.org/ontology/OMIM/137580)\n",
      "🔍 Searching: sarcoma\n",
      "✅ Match: Sarcoma (http://purl.bioontology.org/ontology/MESH/D012509)\n",
      "🔍 Searching: appendix cancer\n",
      "✅ Match: Appendix (http://purl.bioontology.org/ontology/MESH/D001065)\n",
      "🔍 Searching: osteoporosis\n",
      "✅ Match: Osteoporosis (http://purl.bioontology.org/ontology/MESH/D010024)\n",
      "🔍 Searching: Fuchs' endothelial dystrophy\n",
      "✅ Match: Fuchs' Endothelial Dystrophy (http://purl.bioontology.org/ontology/MESH/D005642)\n",
      "🔍 Searching: polycystic ovary syndrome\n",
      "✅ Match: Polycystic Ovary Syndrome (http://purl.bioontology.org/ontology/MESH/D011085)\n",
      "🔍 Searching: penile cancer\n",
      "✅ Match: Penile Neoplasms (http://purl.bioontology.org/ontology/MESH/D010412)\n",
      "🔍 Searching: gestational diabetes\n",
      "✅ Match: Diabetes, Gestational (http://purl.bioontology.org/ontology/MESH/D016640)\n",
      "🔍 Searching: ureter cancer\n",
      "✅ Match: URETER, CANCER OF (http://purl.bioontology.org/ontology/OMIM/191600)\n",
      "🔍 Searching: vaginal cancer\n",
      "✅ Match: Vaginal Neoplasms (http://purl.bioontology.org/ontology/MESH/D014625)\n",
      "🔍 Searching: peripheral nervous system neoplasm\n",
      "✅ Match: Peripheral Nervous System (http://purl.bioontology.org/ontology/MESH/D017933)\n",
      "🔍 Searching: tracheal cancer\n",
      "✅ Match: Tracheal agenesis (http://purl.bioontology.org/ontology/MESH/C536975)\n",
      "🔍 Searching: head and neck cancer\n",
      "✅ Match: HEAD AND NECK (http://purl.bioontology.org/ontology/OMIM/MTHU000019)\n",
      "🔍 Searching: Creutzfeldt-Jakob disease\n",
      "✅ Match: CREUTZFELDT-JAKOB DISEASE (http://purl.bioontology.org/ontology/OMIM/123400)\n",
      "🔍 Searching: otosclerosis\n",
      "✅ Match: Otosclerosis (http://purl.bioontology.org/ontology/MESH/D010040)\n",
      "🔍 Searching: primary biliary cirrhosis\n",
      "✅ Match: Primary biliary cirrhosis (http://purl.bioontology.org/ontology/OMIM/MTHU039443)\n",
      "🔍 Searching: vitiligo\n",
      "✅ Match: Vitiligo (http://purl.bioontology.org/ontology/MESH/D014820)\n",
      "🔍 Searching: Graves' disease\n",
      "✅ Match: Graves Disease (http://purl.bioontology.org/ontology/MESH/D006111)\n",
      "🔍 Searching: malaria\n",
      "✅ Match: Malaria (http://purl.bioontology.org/ontology/MESH/D008288)\n",
      "🔍 Searching: vulva cancer\n",
      "✅ Match: Vulva (http://purl.bioontology.org/ontology/MESH/D014844)\n",
      "🔍 Searching: autistic disorder\n",
      "✅ Match: Autistic Disorder (http://purl.bioontology.org/ontology/MESH/D001321)\n",
      "🔍 Searching: dilated cardiomyopathy\n",
      "✅ Match: Cardiomyopathy, Dilated (http://purl.bioontology.org/ontology/MESH/D002311)\n",
      "🔍 Searching: conduct disorder\n",
      "✅ Match: Conduct Disorder (http://purl.bioontology.org/ontology/MESH/D019955)\n",
      "🔍 Searching: focal segmental glomerulosclerosis\n",
      "✅ Match: Glomerulosclerosis, Focal Segmental (http://purl.bioontology.org/ontology/MESH/D005923)\n",
      "🔍 Searching: gout\n",
      "✅ Match: Gout (http://purl.bioontology.org/ontology/MESH/D006073)\n",
      "🔍 Searching: brain cancer\n",
      "✅ Match: PROSTATE CANCER/BRAIN CANCER SUSCEPTIBILITY (http://purl.bioontology.org/ontology/OMIM/603688)\n",
      "🔍 Searching: uterine fibroid\n",
      "✅ Match: Leiomyoma (http://purl.bioontology.org/ontology/MESH/D007889)\n",
      "🔍 Searching: lung cancer\n",
      "✅ Match: LUNG CANCER (http://purl.bioontology.org/ontology/OMIM/211980)\n",
      "🔍 Searching: Behcet's disease\n",
      "✅ Match: Behcet Syndrome (http://purl.bioontology.org/ontology/MESH/D001528)\n",
      "🔍 Searching: Kawasaki disease\n",
      "✅ Match: KAWASAKI DISEASE (http://purl.bioontology.org/ontology/OMIM/611775)\n",
      "🔍 Searching: jejunal cancer\n",
      "✅ Match: Jejunal Neoplasms (http://purl.bioontology.org/ontology/MESH/D007580)\n",
      "🔍 Searching: thoracic aortic aneurysm\n",
      "✅ Match: Aortic Aneurysm, Thoracic (http://purl.bioontology.org/ontology/MESH/D017545)\n",
      "🔍 Searching: metabolic syndrome X\n",
      "✅ Match: Metabolic Syndrome (http://purl.bioontology.org/ontology/MESH/D024821)\n",
      "🔍 Searching: azoospermia\n",
      "✅ Match: Azoospermia (http://purl.bioontology.org/ontology/MESH/D053713)\n",
      "🔍 Searching: sclerosing cholangitis\n",
      "✅ Match: Cholangitis, Sclerosing (http://purl.bioontology.org/ontology/MESH/D015209)\n",
      "🔍 Searching: Parkinson's disease\n",
      "✅ Match: Parkinson Disease (http://purl.bioontology.org/ontology/MESH/D010300)\n",
      "🔍 Searching: hypothyroidism\n",
      "✅ Match: Hypothyroidism (http://purl.bioontology.org/ontology/MESH/D007037)\n",
      "🔍 Searching: endogenous depression\n",
      "✅ Match: Endogenous Retroviruses (http://purl.bioontology.org/ontology/MESH/D020077)\n",
      "🔍 Searching: breast cancer\n",
      "✅ Match: BREAST CANCER (http://purl.bioontology.org/ontology/OMIM/114480)\n",
      "🔍 Searching: glaucoma\n",
      "✅ Match: Glaucoma (http://purl.bioontology.org/ontology/MESH/D005901)\n",
      "🔍 Searching: peritoneum cancer\n",
      "✅ Match: Peritoneum (http://purl.bioontology.org/ontology/MESH/D010537)\n",
      "🔍 Searching: vascular cancer\n",
      "✅ Match: Vascular (http://purl.bioontology.org/ontology/OMIM/MTHU000113)\n",
      "🔍 Searching: thyroid cancer\n",
      "✅ Match: Thyroid cancer (http://purl.bioontology.org/ontology/OMIM/MTHU016105)\n",
      "🔍 Searching: malignant mesothelioma\n",
      "✅ Match: Mesothelioma, Malignant (http://purl.bioontology.org/ontology/MESH/D000086002)\n",
      "🔍 Searching: pancreatic cancer\n",
      "✅ Match: PANCREATIC CANCER (http://purl.bioontology.org/ontology/OMIM/260350)\n",
      "🔍 Searching: epilepsy syndrome\n",
      "✅ Match: Amish Infantile Epilepsy Syndrome (http://purl.bioontology.org/ontology/MESH/C563799)\n",
      "🔍 Searching: bone cancer\n",
      "✅ Match: Bone Neoplasms (http://purl.bioontology.org/ontology/MESH/D001859)\n",
      "🔍 Searching: melanoma\n",
      "✅ Match: Melanoma (http://purl.bioontology.org/ontology/MESH/D008545)\n",
      "🔍 Searching: atherosclerosis\n",
      "✅ Match: Atherosclerosis (http://purl.bioontology.org/ontology/MESH/D050197)\n",
      "🔍 Searching: fallopian tube cancer\n",
      "✅ Match: Fallopian Tube Diseases (http://purl.bioontology.org/ontology/MESH/D005184)\n",
      "🔍 Searching: rectum cancer\n",
      "✅ Match: Rectal Neoplasms (http://purl.bioontology.org/ontology/MESH/D012004)\n",
      "🔍 Searching: hepatitis B\n",
      "✅ Match: Hepatitis B (http://purl.bioontology.org/ontology/MESH/D006509)\n",
      "🔍 Searching: dental caries\n",
      "✅ Match: Dental Caries (http://purl.bioontology.org/ontology/MESH/D003731)\n",
      "🔍 Searching: ocular cancer\n",
      "✅ Match: Dominance, Ocular (http://purl.bioontology.org/ontology/MESH/D023882)\n",
      "🔍 Searching: colon cancer\n",
      "✅ Match: Colon cancer (http://purl.bioontology.org/ontology/OMIM/MTHU017046)\n",
      "🔍 Searching: anemia\n",
      "✅ Match: Anemia (http://purl.bioontology.org/ontology/MESH/D000740)\n",
      "🔍 Searching: multiple sclerosis\n",
      "✅ Match: Multiple Sclerosis (http://purl.bioontology.org/ontology/MESH/D009103)\n",
      "🔍 Searching: ovarian cancer\n",
      "✅ Match: OVARIAN CANCER (http://purl.bioontology.org/ontology/OMIM/167000)\n",
      "🔍 Searching: hematologic cancer\n",
      "✅ Match: Hematologic Tests (http://purl.bioontology.org/ontology/MESH/D006403)\n",
      "🔍 Searching: larynx cancer\n",
      "✅ Match: Larynx (http://purl.bioontology.org/ontology/MESH/D007830)\n",
      "🔍 Searching: kidney cancer\n",
      "✅ Match: Kidney Neoplasms (http://purl.bioontology.org/ontology/MESH/D007680)\n",
      "🔍 Searching: asthma\n",
      "✅ Match: Asthma (http://purl.bioontology.org/ontology/MESH/D001249)\n",
      "🔍 Searching: IgA glomerulonephritis\n",
      "✅ Match: Glomerulonephritis, IGA (http://purl.bioontology.org/ontology/MESH/D005922)\n",
      "🔍 Searching: germ cell cancer\n",
      "✅ Match: Ovarian Germ Cell Cancer (http://purl.bioontology.org/ontology/MESH/C562841)\n",
      "🔍 Searching: testicular cancer\n",
      "✅ Match: Increased risk of testicular cancer (http://purl.bioontology.org/ontology/OMIM/MTHU022659)\n",
      "🔍 Searching: malignant glioma\n",
      "✅ Match: Glioma (http://purl.bioontology.org/ontology/MESH/D005910)\n",
      "🔍 Searching: chronic obstructive pulmonary disease\n",
      "✅ Match: Pulmonary Disease, Chronic Obstructive (http://purl.bioontology.org/ontology/MESH/D029424)\n",
      "🔍 Searching: gallbladder cancer\n",
      "✅ Match: Gallbladder (http://purl.bioontology.org/ontology/MESH/D005704)\n",
      "🔍 Searching: thymus cancer\n",
      "✅ Match: Thymus Neoplasms (http://purl.bioontology.org/ontology/MESH/D013953)\n",
      "🔍 Searching: atopic dermatitis\n",
      "✅ Match: Dermatitis, Atopic (http://purl.bioontology.org/ontology/MESH/D003876)\n",
      "🔍 Searching: bipolar disorder\n",
      "✅ Match: Bipolar Disorder (http://purl.bioontology.org/ontology/MESH/D001714)\n",
      "🔍 Searching: amyotrophic lateral sclerosis\n",
      "✅ Match: Amyotrophic Lateral Sclerosis (http://purl.bioontology.org/ontology/MESH/D000690)\n",
      "🔍 Searching: coronary artery disease\n",
      "✅ Match: Coronary Artery Disease (http://purl.bioontology.org/ontology/MESH/D003324)\n",
      "🔍 Searching: meningioma\n",
      "✅ Match: Meningioma (http://purl.bioontology.org/ontology/MESH/D008579)\n",
      "🔍 Searching: liver cancer\n",
      "✅ Match: Primary liver cancer (http://purl.bioontology.org/ontology/OMIM/MTHU019145)\n",
      "🔍 Searching: uterine cancer\n",
      "✅ Match: Uterine cancer (http://purl.bioontology.org/ontology/OMIM/MTHU016107)\n",
      "🔍 Searching: adrenal gland cancer\n",
      "✅ Match: Adrenal Gland Neoplasms (http://purl.bioontology.org/ontology/MESH/D000310)\n",
      "🔍 Searching: muscle cancer\n",
      "✅ Match: Muscle Neoplasms (http://purl.bioontology.org/ontology/MESH/D019042)\n",
      "🔍 Searching: skin cancer\n",
      "✅ Match: Skin cancer (http://purl.bioontology.org/ontology/OMIM/MTHU051693)\n",
      "🔍 Searching: systemic scleroderma\n",
      "✅ Match: Scleroderma, Systemic (http://purl.bioontology.org/ontology/MESH/D012595)\n",
      "🔍 Searching: cervical cancer\n",
      "✅ Match: CERVICAL CANCER (http://purl.bioontology.org/ontology/OMIM/603956)\n",
      "🔍 Searching: allergic rhinitis\n",
      "✅ Match: Rhinitis, Allergic (http://purl.bioontology.org/ontology/MESH/D065631)\n",
      "🔍 Searching: bile duct cancer\n",
      "✅ Match: Common Bile Duct (http://purl.bioontology.org/ontology/MESH/D003135)\n",
      "🔍 Searching: pancreatitis\n",
      "✅ Match: Pancreatitis (http://purl.bioontology.org/ontology/MESH/D010195)\n",
      "🔍 Searching: esophageal cancer\n",
      "✅ Match: ESOPHAGEAL CANCER (http://purl.bioontology.org/ontology/OMIM/133239)\n",
      "🔍 Searching: middle ear cancer\n",
      "✅ Match: Ear, Middle (http://purl.bioontology.org/ontology/MESH/D004432)\n",
      "🔍 Searching: Paget's disease of bone\n",
      "✅ Match: Familial Paget's disease of bone (http://purl.bioontology.org/ontology/MESH/C538098)\n",
      "🔍 Searching: schizophrenia\n",
      "✅ Match: Schizophrenia (http://purl.bioontology.org/ontology/MESH/D012559)\n",
      "🔍 Searching: mediastinal cancer\n",
      "✅ Match: Mediastinal Neoplasms (http://purl.bioontology.org/ontology/MESH/D008479)\n",
      "🔍 Searching: spinal cancer\n",
      "✅ Match: Cancer (http://purl.bioontology.org/ontology/OMIM/MTHU070317)\n",
      "🔍 Searching: nephrolithiasis\n",
      "✅ Match: Nephrolithiasis (http://purl.bioontology.org/ontology/MESH/D053040)\n",
      "🔍 Searching: retroperitoneal cancer\n",
      "✅ Match: Retroperitoneal Fibrosis (http://purl.bioontology.org/ontology/MESH/D012185)\n",
      "🔍 Searching: panic disorder\n",
      "✅ Match: Panic Disorder (http://purl.bioontology.org/ontology/MESH/D016584)\n",
      "🔍 Searching: acquired immunodeficiency syndrome\n",
      "✅ Match: Acquired Immunodeficiency Syndrome (http://purl.bioontology.org/ontology/MESH/D000163)\n",
      "🔍 Searching: migraine\n",
      "✅ Match: Migraine (http://purl.bioontology.org/ontology/OMIM/MTHU000541)\n",
      "🔍 Searching: ankylosing spondylitis\n",
      "✅ Match: Spondylitis, Ankylosing (http://purl.bioontology.org/ontology/MESH/D013167)\n",
      "🔍 Searching: rheumatoid arthritis\n",
      "✅ Match: Arthritis, Rheumatoid (http://purl.bioontology.org/ontology/MESH/D001172)\n",
      "🔍 Searching: abdominal aortic aneurysm\n",
      "✅ Match: Aortic Aneurysm, Abdominal (http://purl.bioontology.org/ontology/MESH/D017544)\n",
      "🔍 Searching: chronic kidney failure\n",
      "✅ Match: Kidney Failure, Chronic (http://purl.bioontology.org/ontology/MESH/D007676)\n",
      "🔍 Searching: periodontitis\n",
      "✅ Match: Periodontitis (http://purl.bioontology.org/ontology/MESH/D010518)\n",
      "🔍 Searching: osteoarthritis\n",
      "✅ Match: Osteoarthritis (http://purl.bioontology.org/ontology/MESH/D010003)\n",
      "🔍 Searching: ulcerative colitis\n",
      "✅ Match: Colitis, Ulcerative (http://purl.bioontology.org/ontology/MESH/D003093)\n",
      "🔍 Searching: Crohn's disease\n",
      "✅ Match: Pediatric Crohn's disease (http://purl.bioontology.org/ontology/MESH/C536215)\n",
      "🔍 Searching: salivary gland cancer\n",
      "✅ Match: Salivary Gland Fistula (http://purl.bioontology.org/ontology/MESH/D012467)\n",
      "🔍 Searching: psoriasis\n",
      "✅ Match: Psoriasis (http://purl.bioontology.org/ontology/MESH/D011565)\n",
      "🔍 Searching: narcolepsy\n",
      "✅ Match: Narcolepsy (http://purl.bioontology.org/ontology/MESH/D009290)\n",
      "🔍 Searching: degenerative disc disease\n",
      "✅ Match: Degenerative intervertebral disc disease (http://purl.bioontology.org/ontology/OMIM/MTHU072608)\n",
      "🔍 Searching: psoriatic arthritis\n",
      "✅ Match: Arthritis, Psoriatic (http://purl.bioontology.org/ontology/MESH/D015535)\n",
      "🔍 Searching: systemic lupus erythematosus\n",
      "✅ Match: Lupus Erythematosus, Systemic (http://purl.bioontology.org/ontology/MESH/D008180)\n",
      "🔍 Searching: Barrett's esophagus\n",
      "✅ Match: Barrett Esophagus (http://purl.bioontology.org/ontology/MESH/D001471)\n",
      "🔍 Searching: cleft lip\n",
      "✅ Match: Cleft Lip (http://purl.bioontology.org/ontology/MESH/D002971)\n",
      "🔍 Searching: type 2 diabetes mellitus\n",
      "✅ Match: Diabetes Mellitus, Type 2 (http://purl.bioontology.org/ontology/MESH/D003924)\n",
      "🔍 Searching: type 1 diabetes mellitus\n",
      "✅ Match: Diabetes Mellitus, Type 1 (http://purl.bioontology.org/ontology/MESH/D003922)\n",
      "🔍 Searching: refractive error\n",
      "✅ Match: Refractive error (http://purl.bioontology.org/ontology/OMIM/MTHU006408)\n",
      "🔍 Searching: alopecia areata\n",
      "✅ Match: Alopecia Areata (http://purl.bioontology.org/ontology/MESH/D000506)\n",
      "🔍 Searching: pleural cancer\n",
      "✅ Match: Pleural Diseases (http://purl.bioontology.org/ontology/MESH/D010995)\n",
      "🔍 Searching: obesity\n",
      "✅ Match: Obesity (http://purl.bioontology.org/ontology/MESH/D009765)\n",
      "✅ Enrichment complete.\n"
     ]
    }
   ],
   "source": [
    "enrich_diseases_with_mesh_omim(G, max_diseases=200, apikey=\"41a17e7d-a975-4fc3-a0c7-f6a1915ea89a\")\n"
   ]
  },
  {
   "cell_type": "code",
   "execution_count": 11,
   "id": "3fa8256d",
   "metadata": {
    "colab": {
     "base_uri": "https://localhost:8080/"
    },
    "id": "VQSGXQxeWw70",
    "outputId": "6b19bd54-6421-4294-c538-189355b252b2"
   },
   "outputs": [
    {
     "name": "stdout",
     "output_type": "stream",
     "text": [
      "🦠 idiopathic pulmonary fibrosis\n",
      "   MeSH/OMIM: Idiopathic Pulmonary Fibrosis\n",
      "   Link: https://data.bioontology.org/ontologies/MESH/classes/http%3A%2F%2Fpurl.bioontology.org%2Fontology%2FMESH%2FD054990\n",
      "\n",
      "🦠 restless legs syndrome\n",
      "   MeSH/OMIM: Restless Legs Syndrome\n",
      "   Link: https://data.bioontology.org/ontologies/MESH/classes/http%3A%2F%2Fpurl.bioontology.org%2Fontology%2FMESH%2FD012148\n",
      "\n",
      "🦠 alcohol dependence\n",
      "   MeSH/OMIM: ALCOHOL DEPENDENCE\n",
      "   Link: https://data.bioontology.org/ontologies/OMIM/classes/http%3A%2F%2Fpurl.bioontology.org%2Fontology%2FOMIM%2F103780\n",
      "\n",
      "🦠 nicotine dependence\n",
      "   MeSH/OMIM: Nicotine\n",
      "   Link: https://data.bioontology.org/ontologies/MESH/classes/http%3A%2F%2Fpurl.bioontology.org%2Fontology%2FMESH%2FD009538\n",
      "\n",
      "🦠 lymphatic system cancer\n",
      "   MeSH/OMIM: Lymphatic System\n",
      "   Link: https://data.bioontology.org/ontologies/MESH/classes/http%3A%2F%2Fpurl.bioontology.org%2Fontology%2FMESH%2FD008208\n",
      "\n"
     ]
    }
   ],
   "source": [
    "# Show sample enriched diseases\n",
    "count = 0\n",
    "for node, data in G.nodes(data=True):\n",
    "    if data.get(\"label\") == \"Disease\" and data.get(\"bioportal_id\"):\n",
    "        print(f\"🦠 {data['name']}\")\n",
    "        print(f\"   MeSH/OMIM: {data.get('bioportal_label')}\")\n",
    "        print(f\"   Link: {data.get('bioportal_links')}\\n\")\n",
    "        count += 1\n",
    "        if count >= 5:\n",
    "            break\n"
   ]
  },
  {
   "cell_type": "code",
   "execution_count": 12,
   "id": "a88f33c3",
   "metadata": {
    "colab": {
     "base_uri": "https://localhost:8080/"
    },
    "id": "EZUQvu_kWwwW",
    "outputId": "a90e4b79-d98e-470c-dfcb-2c5adeeb2575"
   },
   "outputs": [
    {
     "data": {
      "text/plain": [
       "(137, 137)"
      ]
     },
     "execution_count": 12,
     "metadata": {},
     "output_type": "execute_result"
    }
   ],
   "source": [
    "added_nodes = 0\n",
    "added_edges = 0\n",
    "\n",
    "for node, data in list(G.nodes(data=True)):\n",
    "    if data.get(\"label\") == \"Disease\" and data.get(\"bioportal_id\"):\n",
    "        mesh_omim_id = data[\"bioportal_id\"]\n",
    "        label = data.get(\"bioportal_label\", \"\")\n",
    "        source = data.get(\"bioportal_links\", \"\")\n",
    "\n",
    "        if not G.has_node(mesh_omim_id):\n",
    "            G.add_node(mesh_omim_id,\n",
    "                       label=\"Ontology\",\n",
    "                       name=label,\n",
    "                       source=\"BioPortal\",\n",
    "                       original_source=mesh_omim_id)\n",
    "            added_nodes += 1\n",
    "\n",
    "        if not G.has_edge(node, mesh_omim_id):\n",
    "            G.add_edge(node, mesh_omim_id, relation=\"has_ontology_term\")\n",
    "            added_edges += 1\n",
    "\n",
    "added_nodes, added_edges\n"
   ]
  },
  {
   "cell_type": "code",
   "execution_count": 13,
   "id": "6d998cf0",
   "metadata": {
    "id": "jE2DInPUZjOz"
   },
   "outputs": [],
   "source": [
    "def enrich_diseases_with_mesh_omim(G, max_diseases=200, apikey=\"YOUR_API_KEY_HERE\"):\n",
    "    \"\"\"\n",
    "    Enrich Disease nodes with MeSH/OMIM terms from BioPortal and structurally link them.\n",
    "    - Adds new Ontology nodes with simplified IDs (e.g., MeSH::D001943)\n",
    "    - Adds 'has_ontology_term' edges from Disease → Ontology node\n",
    "    \"\"\"\n",
    "    import requests\n",
    "    import time\n",
    "\n",
    "    print(\"📚 Enriching diseases with MeSH/OMIM using BioPortal...\")\n",
    "    search_url = \"https://data.bioontology.org/search\"\n",
    "\n",
    "    disease_nodes = [n for n, d in G.nodes(data=True) if d.get(\"label\") == \"Disease\"]\n",
    "    disease_nodes = disease_nodes[:max_diseases]\n",
    "\n",
    "    added_nodes = 0\n",
    "    added_edges = 0\n",
    "\n",
    "    for node_id in disease_nodes:\n",
    "        disease_name = G.nodes[node_id].get(\"name\")\n",
    "        if not disease_name:\n",
    "            continue\n",
    "\n",
    "        try:\n",
    "            print(f\"🔍 Searching: {disease_name}\")\n",
    "            params = {\n",
    "                \"q\": disease_name,\n",
    "                \"ontologies\": \"MESH,OMIM\",\n",
    "                \"format\": \"json\",\n",
    "                \"pagesize\": 1,\n",
    "                \"apikey\": apikey\n",
    "            }\n",
    "            response = requests.get(search_url, params=params)\n",
    "            data = response.json()\n",
    "\n",
    "            if data.get(\"collection\"):\n",
    "                match = data[\"collection\"][0]\n",
    "                full_uri = match.get(\"@id\")\n",
    "                label = match.get(\"prefLabel\", \"\")\n",
    "                synonyms = match.get(\"synonym\", [])\n",
    "                source_link = match.get(\"links\", {}).get(\"self\", \"\")\n",
    "\n",
    "                # Store on disease node\n",
    "                G.nodes[node_id][\"bioportal_id\"] = full_uri\n",
    "                G.nodes[node_id][\"bioportal_label\"] = label\n",
    "                G.nodes[node_id][\"bioportal_synonyms\"] = synonyms\n",
    "                G.nodes[node_id][\"bioportal_links\"] = source_link\n",
    "\n",
    "                # Create simplified node ID\n",
    "                if \"MESH\" in full_uri:\n",
    "                    readable_id = \"MeSH::\" + full_uri.split(\"/\")[-1]\n",
    "                elif \"OMIM\" in full_uri:\n",
    "                    readable_id = \"OMIM::\" + full_uri.split(\"/\")[-1]\n",
    "                else:\n",
    "                    readable_id = \"Ontology::\" + full_uri.split(\"/\")[-1]\n",
    "\n",
    "                # Add ontology node if missing\n",
    "                if not G.has_node(readable_id):\n",
    "                    G.add_node(readable_id,\n",
    "                               label=\"Ontology\",\n",
    "                               name=label,\n",
    "                               source=\"BioPortal\",\n",
    "                               original_uri=full_uri)\n",
    "                    added_nodes += 1\n",
    "\n",
    "                # Add edge\n",
    "                if not G.has_edge(node_id, readable_id):\n",
    "                    G.add_edge(node_id, readable_id, relation=\"has_ontology_term\")\n",
    "                    added_edges += 1\n",
    "\n",
    "                print(f\"✅ Linked: {disease_name} → {readable_id}\")\n",
    "\n",
    "            else:\n",
    "                print(\"❌ No match found\")\n",
    "\n",
    "        except Exception as e:\n",
    "            print(f\"⚠️ Error for {disease_name}: {e}\")\n",
    "\n",
    "        time.sleep(0.3)\n",
    "\n",
    "    print(f\"✅ Enrichment complete. Added {added_nodes} nodes and {added_edges} edges.\")\n"
   ]
  },
  {
   "cell_type": "code",
   "execution_count": 14,
   "id": "5ad9436f",
   "metadata": {
    "colab": {
     "base_uri": "https://localhost:8080/"
    },
    "id": "jRG3DIsrZp-_",
    "outputId": "1da4a991-521d-4635-e9f5-4a1ca1085287"
   },
   "outputs": [
    {
     "name": "stdout",
     "output_type": "stream",
     "text": [
      "📚 Enriching diseases with MeSH/OMIM using BioPortal...\n",
      "🔍 Searching: idiopathic pulmonary fibrosis\n",
      "✅ Linked: idiopathic pulmonary fibrosis → MeSH::D054990\n",
      "🔍 Searching: restless legs syndrome\n",
      "✅ Linked: restless legs syndrome → MeSH::D012148\n",
      "🔍 Searching: alcohol dependence\n",
      "✅ Linked: alcohol dependence → OMIM::103780\n",
      "🔍 Searching: nicotine dependence\n",
      "✅ Linked: nicotine dependence → MeSH::D009538\n",
      "🔍 Searching: lymphatic system cancer\n",
      "✅ Linked: lymphatic system cancer → MeSH::D008208\n",
      "🔍 Searching: pharynx cancer\n",
      "✅ Linked: pharynx cancer → MeSH::D010610\n",
      "🔍 Searching: duodenum cancer\n",
      "✅ Linked: duodenum cancer → MeSH::D004379\n",
      "🔍 Searching: ileum cancer\n",
      "✅ Linked: ileum cancer → MeSH::D007082\n",
      "🔍 Searching: leprosy\n",
      "✅ Linked: leprosy → MeSH::D007918\n",
      "🔍 Searching: prostate cancer\n",
      "✅ Linked: prostate cancer → OMIM::176807\n",
      "🔍 Searching: stomach cancer\n",
      "✅ Linked: stomach cancer → OMIM::MTHU072800\n",
      "🔍 Searching: celiac disease\n",
      "✅ Linked: celiac disease → MeSH::D002446\n",
      "🔍 Searching: Alzheimer's disease\n",
      "✅ Linked: Alzheimer's disease → MeSH::C056167\n",
      "🔍 Searching: hypertension\n",
      "✅ Linked: hypertension → MeSH::D006973\n",
      "🔍 Searching: nasal cavity cancer\n",
      "✅ Linked: nasal cavity cancer → MeSH::D009296\n",
      "🔍 Searching: age related macular degeneration\n",
      "✅ Linked: age related macular degeneration → OMIM::MTHU044264\n",
      "🔍 Searching: attention deficit hyperactivity disorder\n",
      "✅ Linked: attention deficit hyperactivity disorder → OMIM::MTHU065489\n",
      "🔍 Searching: intracranial aneurysm\n",
      "✅ Linked: intracranial aneurysm → MeSH::D002532\n",
      "🔍 Searching: membranous glomerulonephritis\n",
      "✅ Linked: membranous glomerulonephritis → MeSH::D015433\n",
      "🔍 Searching: urinary bladder cancer\n",
      "✅ Linked: urinary bladder cancer → MeSH::D001743\n",
      "🔍 Searching: Gilles de la Tourette syndrome\n",
      "✅ Linked: Gilles de la Tourette syndrome → OMIM::137580\n",
      "🔍 Searching: sarcoma\n",
      "✅ Linked: sarcoma → MeSH::D012509\n",
      "🔍 Searching: appendix cancer\n",
      "✅ Linked: appendix cancer → MeSH::D001065\n",
      "🔍 Searching: osteoporosis\n",
      "✅ Linked: osteoporosis → MeSH::D010024\n",
      "🔍 Searching: Fuchs' endothelial dystrophy\n",
      "✅ Linked: Fuchs' endothelial dystrophy → MeSH::D005642\n",
      "🔍 Searching: polycystic ovary syndrome\n",
      "✅ Linked: polycystic ovary syndrome → MeSH::D011085\n",
      "🔍 Searching: penile cancer\n",
      "✅ Linked: penile cancer → MeSH::D010412\n",
      "🔍 Searching: gestational diabetes\n",
      "✅ Linked: gestational diabetes → MeSH::D016640\n",
      "🔍 Searching: ureter cancer\n",
      "✅ Linked: ureter cancer → OMIM::191600\n",
      "🔍 Searching: vaginal cancer\n",
      "✅ Linked: vaginal cancer → MeSH::D014625\n",
      "🔍 Searching: peripheral nervous system neoplasm\n",
      "✅ Linked: peripheral nervous system neoplasm → MeSH::D017933\n",
      "🔍 Searching: tracheal cancer\n",
      "✅ Linked: tracheal cancer → MeSH::C536975\n",
      "🔍 Searching: head and neck cancer\n",
      "✅ Linked: head and neck cancer → OMIM::MTHU000019\n",
      "🔍 Searching: Creutzfeldt-Jakob disease\n",
      "✅ Linked: Creutzfeldt-Jakob disease → OMIM::123400\n",
      "🔍 Searching: otosclerosis\n",
      "✅ Linked: otosclerosis → MeSH::D010040\n",
      "🔍 Searching: primary biliary cirrhosis\n",
      "✅ Linked: primary biliary cirrhosis → OMIM::MTHU039443\n",
      "🔍 Searching: vitiligo\n",
      "✅ Linked: vitiligo → MeSH::D014820\n",
      "🔍 Searching: Graves' disease\n",
      "✅ Linked: Graves' disease → MeSH::D006111\n",
      "🔍 Searching: malaria\n",
      "✅ Linked: malaria → MeSH::D008288\n",
      "🔍 Searching: vulva cancer\n",
      "✅ Linked: vulva cancer → MeSH::D014844\n",
      "🔍 Searching: autistic disorder\n",
      "✅ Linked: autistic disorder → MeSH::D001321\n",
      "🔍 Searching: dilated cardiomyopathy\n",
      "✅ Linked: dilated cardiomyopathy → MeSH::D002311\n",
      "🔍 Searching: conduct disorder\n",
      "✅ Linked: conduct disorder → MeSH::D019955\n",
      "🔍 Searching: focal segmental glomerulosclerosis\n",
      "✅ Linked: focal segmental glomerulosclerosis → MeSH::D005923\n",
      "🔍 Searching: gout\n",
      "✅ Linked: gout → MeSH::D006073\n",
      "🔍 Searching: brain cancer\n",
      "✅ Linked: brain cancer → OMIM::603688\n",
      "🔍 Searching: uterine fibroid\n",
      "✅ Linked: uterine fibroid → MeSH::D007889\n",
      "🔍 Searching: lung cancer\n",
      "✅ Linked: lung cancer → OMIM::211980\n",
      "🔍 Searching: Behcet's disease\n",
      "✅ Linked: Behcet's disease → MeSH::D001528\n",
      "🔍 Searching: Kawasaki disease\n",
      "✅ Linked: Kawasaki disease → OMIM::611775\n",
      "🔍 Searching: jejunal cancer\n",
      "✅ Linked: jejunal cancer → MeSH::D007580\n",
      "🔍 Searching: thoracic aortic aneurysm\n",
      "✅ Linked: thoracic aortic aneurysm → MeSH::D017545\n",
      "🔍 Searching: metabolic syndrome X\n",
      "✅ Linked: metabolic syndrome X → MeSH::D024821\n",
      "🔍 Searching: azoospermia\n",
      "✅ Linked: azoospermia → MeSH::D053713\n",
      "🔍 Searching: sclerosing cholangitis\n",
      "✅ Linked: sclerosing cholangitis → MeSH::D015209\n",
      "🔍 Searching: Parkinson's disease\n",
      "✅ Linked: Parkinson's disease → MeSH::D010300\n",
      "🔍 Searching: hypothyroidism\n",
      "✅ Linked: hypothyroidism → MeSH::D007037\n",
      "🔍 Searching: endogenous depression\n",
      "✅ Linked: endogenous depression → MeSH::D020077\n",
      "🔍 Searching: breast cancer\n",
      "✅ Linked: breast cancer → OMIM::114480\n",
      "🔍 Searching: glaucoma\n",
      "✅ Linked: glaucoma → MeSH::D005901\n",
      "🔍 Searching: peritoneum cancer\n",
      "✅ Linked: peritoneum cancer → MeSH::D010537\n",
      "🔍 Searching: vascular cancer\n",
      "✅ Linked: vascular cancer → OMIM::MTHU000113\n",
      "🔍 Searching: thyroid cancer\n",
      "✅ Linked: thyroid cancer → OMIM::MTHU016105\n",
      "🔍 Searching: malignant mesothelioma\n",
      "✅ Linked: malignant mesothelioma → MeSH::D000086002\n",
      "🔍 Searching: pancreatic cancer\n",
      "✅ Linked: pancreatic cancer → OMIM::260350\n",
      "🔍 Searching: epilepsy syndrome\n",
      "✅ Linked: epilepsy syndrome → MeSH::C563799\n",
      "🔍 Searching: bone cancer\n",
      "✅ Linked: bone cancer → MeSH::D001859\n",
      "🔍 Searching: melanoma\n",
      "✅ Linked: melanoma → MeSH::D008545\n",
      "🔍 Searching: atherosclerosis\n",
      "✅ Linked: atherosclerosis → MeSH::D050197\n",
      "🔍 Searching: fallopian tube cancer\n",
      "✅ Linked: fallopian tube cancer → MeSH::D005184\n",
      "🔍 Searching: rectum cancer\n",
      "✅ Linked: rectum cancer → MeSH::D012004\n",
      "🔍 Searching: hepatitis B\n",
      "✅ Linked: hepatitis B → MeSH::D006509\n",
      "🔍 Searching: dental caries\n",
      "✅ Linked: dental caries → MeSH::D003731\n",
      "🔍 Searching: ocular cancer\n",
      "✅ Linked: ocular cancer → MeSH::D023882\n",
      "🔍 Searching: colon cancer\n",
      "✅ Linked: colon cancer → OMIM::MTHU017046\n",
      "🔍 Searching: anemia\n",
      "✅ Linked: anemia → MeSH::D000740\n",
      "🔍 Searching: multiple sclerosis\n",
      "✅ Linked: multiple sclerosis → MeSH::D009103\n",
      "🔍 Searching: ovarian cancer\n",
      "✅ Linked: ovarian cancer → OMIM::167000\n",
      "🔍 Searching: hematologic cancer\n",
      "✅ Linked: hematologic cancer → MeSH::D006403\n",
      "🔍 Searching: larynx cancer\n",
      "✅ Linked: larynx cancer → MeSH::D007830\n",
      "🔍 Searching: kidney cancer\n",
      "✅ Linked: kidney cancer → MeSH::D007680\n",
      "🔍 Searching: asthma\n",
      "✅ Linked: asthma → MeSH::D001249\n",
      "🔍 Searching: IgA glomerulonephritis\n",
      "✅ Linked: IgA glomerulonephritis → MeSH::D005922\n",
      "🔍 Searching: germ cell cancer\n",
      "✅ Linked: germ cell cancer → MeSH::C562841\n",
      "🔍 Searching: testicular cancer\n",
      "✅ Linked: testicular cancer → OMIM::MTHU022659\n",
      "🔍 Searching: malignant glioma\n",
      "✅ Linked: malignant glioma → MeSH::D005910\n",
      "🔍 Searching: chronic obstructive pulmonary disease\n",
      "✅ Linked: chronic obstructive pulmonary disease → MeSH::D029424\n",
      "🔍 Searching: gallbladder cancer\n",
      "✅ Linked: gallbladder cancer → MeSH::D005704\n",
      "🔍 Searching: thymus cancer\n",
      "✅ Linked: thymus cancer → MeSH::D013953\n",
      "🔍 Searching: atopic dermatitis\n",
      "✅ Linked: atopic dermatitis → MeSH::D003876\n",
      "🔍 Searching: bipolar disorder\n",
      "✅ Linked: bipolar disorder → MeSH::D001714\n",
      "🔍 Searching: amyotrophic lateral sclerosis\n",
      "✅ Linked: amyotrophic lateral sclerosis → MeSH::D000690\n",
      "🔍 Searching: coronary artery disease\n",
      "✅ Linked: coronary artery disease → MeSH::D003324\n",
      "🔍 Searching: meningioma\n",
      "✅ Linked: meningioma → MeSH::D008579\n",
      "🔍 Searching: liver cancer\n",
      "✅ Linked: liver cancer → OMIM::MTHU019145\n",
      "🔍 Searching: uterine cancer\n",
      "✅ Linked: uterine cancer → OMIM::MTHU016107\n",
      "🔍 Searching: adrenal gland cancer\n",
      "✅ Linked: adrenal gland cancer → MeSH::D000310\n",
      "🔍 Searching: muscle cancer\n",
      "✅ Linked: muscle cancer → MeSH::D019042\n",
      "🔍 Searching: skin cancer\n",
      "✅ Linked: skin cancer → OMIM::MTHU051693\n",
      "🔍 Searching: systemic scleroderma\n",
      "✅ Linked: systemic scleroderma → MeSH::D012595\n",
      "🔍 Searching: cervical cancer\n",
      "✅ Linked: cervical cancer → OMIM::603956\n",
      "🔍 Searching: allergic rhinitis\n",
      "✅ Linked: allergic rhinitis → MeSH::D065631\n",
      "🔍 Searching: bile duct cancer\n",
      "✅ Linked: bile duct cancer → MeSH::D003135\n",
      "🔍 Searching: pancreatitis\n",
      "✅ Linked: pancreatitis → MeSH::D010195\n",
      "🔍 Searching: esophageal cancer\n",
      "✅ Linked: esophageal cancer → OMIM::133239\n",
      "🔍 Searching: middle ear cancer\n",
      "✅ Linked: middle ear cancer → MeSH::D004432\n",
      "🔍 Searching: Paget's disease of bone\n",
      "✅ Linked: Paget's disease of bone → MeSH::C538098\n",
      "🔍 Searching: schizophrenia\n",
      "✅ Linked: schizophrenia → MeSH::D012559\n",
      "🔍 Searching: mediastinal cancer\n",
      "✅ Linked: mediastinal cancer → MeSH::D008479\n",
      "🔍 Searching: spinal cancer\n",
      "✅ Linked: spinal cancer → OMIM::MTHU070317\n",
      "🔍 Searching: nephrolithiasis\n",
      "✅ Linked: nephrolithiasis → MeSH::D053040\n",
      "🔍 Searching: retroperitoneal cancer\n",
      "✅ Linked: retroperitoneal cancer → MeSH::D012185\n",
      "🔍 Searching: panic disorder\n",
      "✅ Linked: panic disorder → MeSH::D016584\n",
      "🔍 Searching: acquired immunodeficiency syndrome\n",
      "✅ Linked: acquired immunodeficiency syndrome → MeSH::D000163\n",
      "🔍 Searching: migraine\n",
      "✅ Linked: migraine → OMIM::MTHU000541\n",
      "🔍 Searching: ankylosing spondylitis\n",
      "✅ Linked: ankylosing spondylitis → MeSH::D013167\n",
      "🔍 Searching: rheumatoid arthritis\n",
      "✅ Linked: rheumatoid arthritis → MeSH::D001172\n",
      "🔍 Searching: abdominal aortic aneurysm\n",
      "✅ Linked: abdominal aortic aneurysm → MeSH::D017544\n",
      "🔍 Searching: chronic kidney failure\n",
      "✅ Linked: chronic kidney failure → MeSH::D007676\n",
      "🔍 Searching: periodontitis\n",
      "✅ Linked: periodontitis → MeSH::D010518\n",
      "🔍 Searching: osteoarthritis\n",
      "✅ Linked: osteoarthritis → MeSH::D010003\n",
      "🔍 Searching: ulcerative colitis\n",
      "✅ Linked: ulcerative colitis → MeSH::D003093\n",
      "🔍 Searching: Crohn's disease\n",
      "✅ Linked: Crohn's disease → MeSH::C536215\n",
      "🔍 Searching: salivary gland cancer\n",
      "✅ Linked: salivary gland cancer → MeSH::D012467\n",
      "🔍 Searching: psoriasis\n",
      "✅ Linked: psoriasis → MeSH::D011565\n",
      "🔍 Searching: narcolepsy\n",
      "✅ Linked: narcolepsy → MeSH::D009290\n",
      "🔍 Searching: degenerative disc disease\n",
      "✅ Linked: degenerative disc disease → OMIM::MTHU072608\n",
      "🔍 Searching: psoriatic arthritis\n",
      "✅ Linked: psoriatic arthritis → MeSH::D015535\n",
      "🔍 Searching: systemic lupus erythematosus\n",
      "✅ Linked: systemic lupus erythematosus → MeSH::D008180\n",
      "🔍 Searching: Barrett's esophagus\n",
      "✅ Linked: Barrett's esophagus → MeSH::D001471\n",
      "🔍 Searching: cleft lip\n",
      "✅ Linked: cleft lip → MeSH::D002971\n",
      "🔍 Searching: type 2 diabetes mellitus\n",
      "✅ Linked: type 2 diabetes mellitus → MeSH::D003924\n",
      "🔍 Searching: type 1 diabetes mellitus\n",
      "✅ Linked: type 1 diabetes mellitus → MeSH::D003922\n",
      "🔍 Searching: refractive error\n",
      "✅ Linked: refractive error → OMIM::MTHU006408\n",
      "🔍 Searching: alopecia areata\n",
      "✅ Linked: alopecia areata → MeSH::D000506\n",
      "🔍 Searching: pleural cancer\n",
      "✅ Linked: pleural cancer → MeSH::D010995\n",
      "🔍 Searching: obesity\n",
      "✅ Linked: obesity → MeSH::D009765\n",
      "✅ Enrichment complete. Added 137 nodes and 137 edges.\n"
     ]
    }
   ],
   "source": [
    "enrich_diseases_with_mesh_omim(G, max_diseases=200, apikey=\"41a17e7d-a975-4fc3-a0c7-f6a1915ea89a\")"
   ]
  },
  {
   "cell_type": "code",
   "execution_count": 16,
   "id": "daa7b387",
   "metadata": {
    "id": "q7iUM9cDKDFb"
   },
   "outputs": [],
   "source": [
    "def enrich_diseases_with_mesh_omim(G, max_diseases=200, apikey=\"41a17e7d-a975-4fc3-a0c7-f6a1915ea89a\"):\n",
    "    import requests, time\n",
    "\n",
    "    print(\"📚 Enriching diseases with MeSH/OMIM using BioPortal (with API key)...\")\n",
    "\n",
    "    search_url = \"https://data.bioontology.org/search\"\n",
    "    disease_nodes = [n for n, d in G.nodes(data=True) if d.get(\"label\") == \"Disease\"]\n",
    "    disease_nodes = disease_nodes[:max_diseases]\n",
    "\n",
    "    added = 0\n",
    "    for node_id in disease_nodes:\n",
    "        disease_name = G.nodes[node_id].get(\"name\")\n",
    "        if not disease_name:\n",
    "            continue\n",
    "\n",
    "        try:\n",
    "            print(f\"🔍 Searching: {disease_name}\")\n",
    "            params = {\n",
    "                \"q\": disease_name,\n",
    "                \"ontologies\": \"MESH,OMIM\",\n",
    "                \"format\": \"json\",\n",
    "                \"pagesize\": 1,\n",
    "                \"apikey\": apikey\n",
    "            }\n",
    "            response = requests.get(search_url, params=params)\n",
    "            data = response.json()\n",
    "\n",
    "            if data.get(\"collection\"):\n",
    "                match = data[\"collection\"][0]\n",
    "                source = match.get(\"links\", {}).get(\"ontology\", \"\").split(\"/\")[-1]  # MESH or OMIM\n",
    "                concept_id = match.get(\"@id\", \"\").split(\"/\")[-1]\n",
    "                label = match.get(\"prefLabel\")\n",
    "                synonyms = match.get(\"synonym\", [])\n",
    "                uri = match.get(\"links\", {}).get(\"self\")\n",
    "\n",
    "                if source and concept_id:\n",
    "                    node_tag = f\"{source}::{concept_id}\"\n",
    "                    if not G.has_node(node_tag):\n",
    "                        G.add_node(node_tag,\n",
    "                                   label=\"Ontology\",\n",
    "                                   name=label,\n",
    "                                   source=source,\n",
    "                                   synonyms=synonyms,\n",
    "                                   uri=uri)\n",
    "                    if not G.has_edge(node_id, node_tag):\n",
    "                        G.add_edge(node_id, node_tag, relation=\"has_ontology_term\")\n",
    "                        added += 1\n",
    "\n",
    "                print(f\"✅ Linked: {disease_name} → {label} → {node_tag}\")\n",
    "            else:\n",
    "                print(\"❌ No match found\")\n",
    "\n",
    "        except Exception as e:\n",
    "            print(f\"⚠️ Error for {disease_name}: {e}\")\n",
    "\n",
    "        time.sleep(0.3)\n",
    "\n",
    "    print(f\"\\n✅ Enrichment complete. Added {added} new ontology links.\")\n"
   ]
  },
  {
   "cell_type": "code",
   "execution_count": 17,
   "id": "9bb18856",
   "metadata": {
    "id": "tT4KCvDhKa_M"
   },
   "outputs": [],
   "source": [
    "def enrich_diseases_with_mesh_omim(G, max_diseases=200, apikey=\"41a17e7d-a975-4fc3-a0c7-f6a1915ea89a\"):\n",
    "    import requests, time\n",
    "\n",
    "    print(\"📚 Enriching diseases with MeSH/OMIM using BioPortal (with API key)...\")\n",
    "\n",
    "    search_url = \"https://data.bioontology.org/search\"\n",
    "    disease_nodes = [n for n, d in G.nodes(data=True) if d.get(\"label\") == \"Disease\"]\n",
    "    disease_nodes = disease_nodes[:max_diseases]\n",
    "\n",
    "    added = 0\n",
    "    for node_id in disease_nodes:\n",
    "        disease_name = G.nodes[node_id].get(\"name\")\n",
    "        if not disease_name:\n",
    "            continue\n",
    "\n",
    "        try:\n",
    "            print(f\"🔍 Searching: {disease_name}\")\n",
    "            params = {\n",
    "                \"q\": disease_name,\n",
    "                \"ontologies\": \"MESH,OMIM\",\n",
    "                \"format\": \"json\",\n",
    "                \"pagesize\": 1,\n",
    "                \"apikey\": apikey\n",
    "            }\n",
    "            response = requests.get(search_url, params=params)\n",
    "            data = response.json()\n",
    "\n",
    "            if data.get(\"collection\"):\n",
    "                match = data[\"collection\"][0]\n",
    "                source = match.get(\"links\", {}).get(\"ontology\", \"\").split(\"/\")[-1]  # MESH or OMIM\n",
    "                concept_id = match.get(\"@id\", \"\").split(\"/\")[-1]\n",
    "                label = match.get(\"prefLabel\")\n",
    "                synonyms = match.get(\"synonym\", [])\n",
    "                uri = match.get(\"links\", {}).get(\"self\")\n",
    "\n",
    "                if source and concept_id:\n",
    "                    node_tag = f\"{source}::{concept_id}\"\n",
    "                    if not G.has_node(node_tag):\n",
    "                        G.add_node(node_tag,\n",
    "                                   label=\"Ontology\",\n",
    "                                   name=label,\n",
    "                                   source=source,\n",
    "                                   synonyms=synonyms,\n",
    "                                   uri=uri)\n",
    "                    if not G.has_edge(node_id, node_tag):\n",
    "                        G.add_edge(node_id, node_tag, relation=\"has_ontology_term\")\n",
    "                        added += 1\n",
    "\n",
    "                print(f\"✅ Linked: {disease_name} → {label} → {node_tag}\")\n",
    "            else:\n",
    "                print(\"❌ No match found\")\n",
    "\n",
    "        except Exception as e:\n",
    "            print(f\"⚠️ Error for {disease_name}: {e}\")\n",
    "\n",
    "        time.sleep(0.3)\n",
    "\n",
    "    print(f\"\\n✅ Enrichment complete. Added {added} new ontology links.\")\n"
   ]
  },
  {
   "cell_type": "code",
   "execution_count": 18,
   "id": "242b0016",
   "metadata": {
    "colab": {
     "base_uri": "https://localhost:8080/"
    },
    "id": "psqj-igBKj_w",
    "outputId": "9b9ba105-fdd4-4895-96b2-78fcf24e5b94"
   },
   "outputs": [
    {
     "name": "stdout",
     "output_type": "stream",
     "text": [
      "📚 Enriching diseases with MeSH/OMIM using BioPortal (with API key)...\n",
      "🔍 Searching: idiopathic pulmonary fibrosis\n",
      "✅ Linked: idiopathic pulmonary fibrosis → Idiopathic Pulmonary Fibrosis → MESH::D054990\n",
      "🔍 Searching: restless legs syndrome\n",
      "✅ Linked: restless legs syndrome → Restless Legs Syndrome → MESH::D012148\n",
      "🔍 Searching: alcohol dependence\n",
      "✅ Linked: alcohol dependence → ALCOHOL DEPENDENCE → OMIM::103780\n",
      "🔍 Searching: nicotine dependence\n",
      "✅ Linked: nicotine dependence → Nicotine → MESH::D009538\n",
      "🔍 Searching: lymphatic system cancer\n",
      "✅ Linked: lymphatic system cancer → Lymphatic System → MESH::D008208\n",
      "🔍 Searching: pharynx cancer\n",
      "✅ Linked: pharynx cancer → Pharyngeal Neoplasms → MESH::D010610\n",
      "🔍 Searching: duodenum cancer\n",
      "✅ Linked: duodenum cancer → Duodenal Neoplasms → MESH::D004379\n",
      "🔍 Searching: ileum cancer\n",
      "✅ Linked: ileum cancer → Ileum → MESH::D007082\n",
      "🔍 Searching: leprosy\n",
      "✅ Linked: leprosy → Leprosy → MESH::D007918\n",
      "🔍 Searching: prostate cancer\n",
      "✅ Linked: prostate cancer → PROSTATE CANCER → OMIM::176807\n",
      "🔍 Searching: stomach cancer\n",
      "✅ Linked: stomach cancer → Stomach cancer → OMIM::MTHU072800\n",
      "🔍 Searching: celiac disease\n",
      "✅ Linked: celiac disease → Celiac Disease → MESH::D002446\n",
      "🔍 Searching: Alzheimer's disease\n",
      "✅ Linked: Alzheimer's disease → Alzheimer's disease antigen → MESH::C056167\n",
      "🔍 Searching: hypertension\n",
      "✅ Linked: hypertension → Hypertension → MESH::D006973\n",
      "🔍 Searching: nasal cavity cancer\n",
      "✅ Linked: nasal cavity cancer → Nasal Cavity → MESH::D009296\n",
      "🔍 Searching: age related macular degeneration\n",
      "✅ Linked: age related macular degeneration → Macular degeneration, age-related → OMIM::MTHU044264\n",
      "🔍 Searching: attention deficit hyperactivity disorder\n",
      "✅ Linked: attention deficit hyperactivity disorder → Attention deficit/hyperactivity disorder → OMIM::MTHU065489\n",
      "🔍 Searching: intracranial aneurysm\n",
      "✅ Linked: intracranial aneurysm → Intracranial Aneurysm → MESH::D002532\n",
      "🔍 Searching: membranous glomerulonephritis\n",
      "✅ Linked: membranous glomerulonephritis → Glomerulonephritis, Membranous → MESH::D015433\n",
      "🔍 Searching: urinary bladder cancer\n",
      "✅ Linked: urinary bladder cancer → Urinary Bladder → MESH::D001743\n",
      "🔍 Searching: Gilles de la Tourette syndrome\n",
      "✅ Linked: Gilles de la Tourette syndrome → GILLES DE LA TOURETTE SYNDROME → OMIM::137580\n",
      "🔍 Searching: sarcoma\n",
      "✅ Linked: sarcoma → Sarcoma → MESH::D012509\n",
      "🔍 Searching: appendix cancer\n",
      "✅ Linked: appendix cancer → Appendix → MESH::D001065\n",
      "🔍 Searching: osteoporosis\n",
      "✅ Linked: osteoporosis → Osteoporosis → MESH::D010024\n",
      "🔍 Searching: Fuchs' endothelial dystrophy\n",
      "✅ Linked: Fuchs' endothelial dystrophy → Fuchs' Endothelial Dystrophy → MESH::D005642\n",
      "🔍 Searching: polycystic ovary syndrome\n",
      "✅ Linked: polycystic ovary syndrome → Polycystic Ovary Syndrome → MESH::D011085\n",
      "🔍 Searching: penile cancer\n",
      "✅ Linked: penile cancer → Penile Neoplasms → MESH::D010412\n",
      "🔍 Searching: gestational diabetes\n",
      "✅ Linked: gestational diabetes → Diabetes, Gestational → MESH::D016640\n",
      "🔍 Searching: ureter cancer\n",
      "✅ Linked: ureter cancer → URETER, CANCER OF → OMIM::191600\n",
      "🔍 Searching: vaginal cancer\n",
      "✅ Linked: vaginal cancer → Vaginal Neoplasms → MESH::D014625\n",
      "🔍 Searching: peripheral nervous system neoplasm\n",
      "✅ Linked: peripheral nervous system neoplasm → Peripheral Nervous System → MESH::D017933\n",
      "🔍 Searching: tracheal cancer\n",
      "✅ Linked: tracheal cancer → Tracheal agenesis → MESH::C536975\n",
      "🔍 Searching: head and neck cancer\n",
      "✅ Linked: head and neck cancer → HEAD AND NECK → OMIM::MTHU000019\n",
      "🔍 Searching: Creutzfeldt-Jakob disease\n",
      "✅ Linked: Creutzfeldt-Jakob disease → CREUTZFELDT-JAKOB DISEASE → OMIM::123400\n",
      "🔍 Searching: otosclerosis\n",
      "✅ Linked: otosclerosis → Otosclerosis → MESH::D010040\n",
      "🔍 Searching: primary biliary cirrhosis\n",
      "✅ Linked: primary biliary cirrhosis → Primary biliary cirrhosis → OMIM::MTHU039443\n",
      "🔍 Searching: vitiligo\n",
      "✅ Linked: vitiligo → Vitiligo → MESH::D014820\n",
      "🔍 Searching: Graves' disease\n",
      "✅ Linked: Graves' disease → Graves Disease → MESH::D006111\n",
      "🔍 Searching: malaria\n",
      "✅ Linked: malaria → Malaria → MESH::D008288\n",
      "🔍 Searching: vulva cancer\n",
      "✅ Linked: vulva cancer → Vulva → MESH::D014844\n",
      "🔍 Searching: autistic disorder\n",
      "✅ Linked: autistic disorder → Autistic Disorder → MESH::D001321\n",
      "🔍 Searching: dilated cardiomyopathy\n",
      "✅ Linked: dilated cardiomyopathy → Cardiomyopathy, Dilated → MESH::D002311\n",
      "🔍 Searching: conduct disorder\n",
      "✅ Linked: conduct disorder → Conduct Disorder → MESH::D019955\n",
      "🔍 Searching: focal segmental glomerulosclerosis\n",
      "✅ Linked: focal segmental glomerulosclerosis → Glomerulosclerosis, Focal Segmental → MESH::D005923\n",
      "🔍 Searching: gout\n",
      "✅ Linked: gout → Gout → MESH::D006073\n",
      "🔍 Searching: brain cancer\n",
      "✅ Linked: brain cancer → PROSTATE CANCER/BRAIN CANCER SUSCEPTIBILITY → OMIM::603688\n",
      "🔍 Searching: uterine fibroid\n",
      "✅ Linked: uterine fibroid → Leiomyoma → MESH::D007889\n",
      "🔍 Searching: lung cancer\n",
      "✅ Linked: lung cancer → LUNG CANCER → OMIM::211980\n",
      "🔍 Searching: Behcet's disease\n",
      "✅ Linked: Behcet's disease → Behcet Syndrome → MESH::D001528\n",
      "🔍 Searching: Kawasaki disease\n",
      "✅ Linked: Kawasaki disease → KAWASAKI DISEASE → OMIM::611775\n",
      "🔍 Searching: jejunal cancer\n",
      "✅ Linked: jejunal cancer → Jejunal Neoplasms → MESH::D007580\n",
      "🔍 Searching: thoracic aortic aneurysm\n",
      "✅ Linked: thoracic aortic aneurysm → Aortic Aneurysm, Thoracic → MESH::D017545\n",
      "🔍 Searching: metabolic syndrome X\n",
      "✅ Linked: metabolic syndrome X → Metabolic Syndrome → MESH::D024821\n",
      "🔍 Searching: azoospermia\n",
      "✅ Linked: azoospermia → Azoospermia → MESH::D053713\n",
      "🔍 Searching: sclerosing cholangitis\n",
      "✅ Linked: sclerosing cholangitis → Cholangitis, Sclerosing → MESH::D015209\n",
      "🔍 Searching: Parkinson's disease\n",
      "✅ Linked: Parkinson's disease → Parkinson Disease → MESH::D010300\n",
      "🔍 Searching: hypothyroidism\n",
      "✅ Linked: hypothyroidism → Hypothyroidism → MESH::D007037\n",
      "🔍 Searching: endogenous depression\n",
      "✅ Linked: endogenous depression → Endogenous Retroviruses → MESH::D020077\n",
      "🔍 Searching: breast cancer\n",
      "✅ Linked: breast cancer → BREAST CANCER → OMIM::114480\n",
      "🔍 Searching: glaucoma\n",
      "✅ Linked: glaucoma → Glaucoma → MESH::D005901\n",
      "🔍 Searching: peritoneum cancer\n",
      "✅ Linked: peritoneum cancer → Peritoneum → MESH::D010537\n",
      "🔍 Searching: vascular cancer\n",
      "✅ Linked: vascular cancer → Vascular → OMIM::MTHU000113\n",
      "🔍 Searching: thyroid cancer\n",
      "✅ Linked: thyroid cancer → Thyroid cancer → OMIM::MTHU016105\n",
      "🔍 Searching: malignant mesothelioma\n",
      "✅ Linked: malignant mesothelioma → Mesothelioma, Malignant → MESH::D000086002\n",
      "🔍 Searching: pancreatic cancer\n",
      "✅ Linked: pancreatic cancer → PANCREATIC CANCER → OMIM::260350\n",
      "🔍 Searching: epilepsy syndrome\n",
      "✅ Linked: epilepsy syndrome → Amish Infantile Epilepsy Syndrome → MESH::C563799\n",
      "🔍 Searching: bone cancer\n",
      "✅ Linked: bone cancer → Bone Neoplasms → MESH::D001859\n",
      "🔍 Searching: melanoma\n",
      "✅ Linked: melanoma → Melanoma → MESH::D008545\n",
      "🔍 Searching: atherosclerosis\n",
      "✅ Linked: atherosclerosis → Atherosclerosis → MESH::D050197\n",
      "🔍 Searching: fallopian tube cancer\n",
      "✅ Linked: fallopian tube cancer → Fallopian Tube Diseases → MESH::D005184\n",
      "🔍 Searching: rectum cancer\n",
      "✅ Linked: rectum cancer → Rectal Neoplasms → MESH::D012004\n",
      "🔍 Searching: hepatitis B\n",
      "✅ Linked: hepatitis B → Hepatitis B → MESH::D006509\n",
      "🔍 Searching: dental caries\n",
      "✅ Linked: dental caries → Dental Caries → MESH::D003731\n",
      "🔍 Searching: ocular cancer\n",
      "✅ Linked: ocular cancer → Dominance, Ocular → MESH::D023882\n",
      "🔍 Searching: colon cancer\n",
      "✅ Linked: colon cancer → Colon cancer → OMIM::MTHU017046\n",
      "🔍 Searching: anemia\n",
      "✅ Linked: anemia → Anemia → MESH::D000740\n",
      "🔍 Searching: multiple sclerosis\n",
      "✅ Linked: multiple sclerosis → Multiple Sclerosis → MESH::D009103\n",
      "🔍 Searching: ovarian cancer\n",
      "✅ Linked: ovarian cancer → OVARIAN CANCER → OMIM::167000\n",
      "🔍 Searching: hematologic cancer\n",
      "✅ Linked: hematologic cancer → Hematologic Tests → MESH::D006403\n",
      "🔍 Searching: larynx cancer\n",
      "✅ Linked: larynx cancer → Larynx → MESH::D007830\n",
      "🔍 Searching: kidney cancer\n",
      "✅ Linked: kidney cancer → Kidney Neoplasms → MESH::D007680\n",
      "🔍 Searching: asthma\n",
      "✅ Linked: asthma → Asthma → MESH::D001249\n",
      "🔍 Searching: IgA glomerulonephritis\n",
      "✅ Linked: IgA glomerulonephritis → Glomerulonephritis, IGA → MESH::D005922\n",
      "🔍 Searching: germ cell cancer\n",
      "✅ Linked: germ cell cancer → Ovarian Germ Cell Cancer → MESH::C562841\n",
      "🔍 Searching: testicular cancer\n",
      "✅ Linked: testicular cancer → Increased risk of testicular cancer → OMIM::MTHU022659\n",
      "🔍 Searching: malignant glioma\n",
      "✅ Linked: malignant glioma → Glioma → MESH::D005910\n",
      "🔍 Searching: chronic obstructive pulmonary disease\n",
      "✅ Linked: chronic obstructive pulmonary disease → Pulmonary Disease, Chronic Obstructive → MESH::D029424\n",
      "🔍 Searching: gallbladder cancer\n",
      "✅ Linked: gallbladder cancer → Gallbladder → MESH::D005704\n",
      "🔍 Searching: thymus cancer\n",
      "✅ Linked: thymus cancer → Thymus Neoplasms → MESH::D013953\n",
      "🔍 Searching: atopic dermatitis\n",
      "✅ Linked: atopic dermatitis → Dermatitis, Atopic → MESH::D003876\n",
      "🔍 Searching: bipolar disorder\n",
      "✅ Linked: bipolar disorder → Bipolar Disorder → MESH::D001714\n",
      "🔍 Searching: amyotrophic lateral sclerosis\n",
      "✅ Linked: amyotrophic lateral sclerosis → Amyotrophic Lateral Sclerosis → MESH::D000690\n",
      "🔍 Searching: coronary artery disease\n",
      "✅ Linked: coronary artery disease → Coronary Artery Disease → MESH::D003324\n",
      "🔍 Searching: meningioma\n",
      "✅ Linked: meningioma → Meningioma → MESH::D008579\n",
      "🔍 Searching: liver cancer\n",
      "✅ Linked: liver cancer → Primary liver cancer → OMIM::MTHU019145\n",
      "🔍 Searching: uterine cancer\n",
      "✅ Linked: uterine cancer → Uterine cancer → OMIM::MTHU016107\n",
      "🔍 Searching: adrenal gland cancer\n",
      "✅ Linked: adrenal gland cancer → Adrenal Gland Neoplasms → MESH::D000310\n",
      "🔍 Searching: muscle cancer\n",
      "✅ Linked: muscle cancer → Muscle Neoplasms → MESH::D019042\n",
      "🔍 Searching: skin cancer\n",
      "✅ Linked: skin cancer → Skin cancer → OMIM::MTHU051693\n",
      "🔍 Searching: systemic scleroderma\n",
      "✅ Linked: systemic scleroderma → Scleroderma, Systemic → MESH::D012595\n",
      "🔍 Searching: cervical cancer\n",
      "✅ Linked: cervical cancer → CERVICAL CANCER → OMIM::603956\n",
      "🔍 Searching: allergic rhinitis\n",
      "✅ Linked: allergic rhinitis → Rhinitis, Allergic → MESH::D065631\n",
      "🔍 Searching: bile duct cancer\n",
      "✅ Linked: bile duct cancer → Common Bile Duct → MESH::D003135\n",
      "🔍 Searching: pancreatitis\n",
      "✅ Linked: pancreatitis → Pancreatitis → MESH::D010195\n",
      "🔍 Searching: esophageal cancer\n",
      "✅ Linked: esophageal cancer → ESOPHAGEAL CANCER → OMIM::133239\n",
      "🔍 Searching: middle ear cancer\n",
      "✅ Linked: middle ear cancer → Ear, Middle → MESH::D004432\n",
      "🔍 Searching: Paget's disease of bone\n",
      "✅ Linked: Paget's disease of bone → Familial Paget's disease of bone → MESH::C538098\n",
      "🔍 Searching: schizophrenia\n",
      "✅ Linked: schizophrenia → Schizophrenia → MESH::D012559\n",
      "🔍 Searching: mediastinal cancer\n",
      "✅ Linked: mediastinal cancer → Mediastinal Neoplasms → MESH::D008479\n",
      "🔍 Searching: spinal cancer\n",
      "✅ Linked: spinal cancer → Cancer → OMIM::MTHU070317\n",
      "🔍 Searching: nephrolithiasis\n",
      "✅ Linked: nephrolithiasis → Nephrolithiasis → MESH::D053040\n",
      "🔍 Searching: retroperitoneal cancer\n",
      "✅ Linked: retroperitoneal cancer → Retroperitoneal Fibrosis → MESH::D012185\n",
      "🔍 Searching: panic disorder\n",
      "✅ Linked: panic disorder → Panic Disorder → MESH::D016584\n",
      "🔍 Searching: acquired immunodeficiency syndrome\n",
      "✅ Linked: acquired immunodeficiency syndrome → Acquired Immunodeficiency Syndrome → MESH::D000163\n",
      "🔍 Searching: migraine\n",
      "✅ Linked: migraine → Migraine → OMIM::MTHU000541\n",
      "🔍 Searching: ankylosing spondylitis\n",
      "✅ Linked: ankylosing spondylitis → Spondylitis, Ankylosing → MESH::D013167\n",
      "🔍 Searching: rheumatoid arthritis\n",
      "✅ Linked: rheumatoid arthritis → Arthritis, Rheumatoid → MESH::D001172\n",
      "🔍 Searching: abdominal aortic aneurysm\n",
      "✅ Linked: abdominal aortic aneurysm → Aortic Aneurysm, Abdominal → MESH::D017544\n",
      "🔍 Searching: chronic kidney failure\n",
      "✅ Linked: chronic kidney failure → Kidney Failure, Chronic → MESH::D007676\n",
      "🔍 Searching: periodontitis\n",
      "✅ Linked: periodontitis → Periodontitis → MESH::D010518\n",
      "🔍 Searching: osteoarthritis\n",
      "✅ Linked: osteoarthritis → Osteoarthritis → MESH::D010003\n",
      "🔍 Searching: ulcerative colitis\n",
      "✅ Linked: ulcerative colitis → Colitis, Ulcerative → MESH::D003093\n",
      "🔍 Searching: Crohn's disease\n",
      "✅ Linked: Crohn's disease → Pediatric Crohn's disease → MESH::C536215\n",
      "🔍 Searching: salivary gland cancer\n",
      "✅ Linked: salivary gland cancer → Salivary Gland Fistula → MESH::D012467\n",
      "🔍 Searching: psoriasis\n",
      "✅ Linked: psoriasis → Psoriasis → MESH::D011565\n",
      "🔍 Searching: narcolepsy\n",
      "✅ Linked: narcolepsy → Narcolepsy → MESH::D009290\n",
      "🔍 Searching: degenerative disc disease\n",
      "✅ Linked: degenerative disc disease → Degenerative intervertebral disc disease → OMIM::MTHU072608\n",
      "🔍 Searching: psoriatic arthritis\n",
      "✅ Linked: psoriatic arthritis → Arthritis, Psoriatic → MESH::D015535\n",
      "🔍 Searching: systemic lupus erythematosus\n",
      "✅ Linked: systemic lupus erythematosus → Lupus Erythematosus, Systemic → MESH::D008180\n",
      "🔍 Searching: Barrett's esophagus\n",
      "✅ Linked: Barrett's esophagus → Barrett Esophagus → MESH::D001471\n",
      "🔍 Searching: cleft lip\n",
      "✅ Linked: cleft lip → Cleft Lip → MESH::D002971\n",
      "🔍 Searching: type 2 diabetes mellitus\n",
      "✅ Linked: type 2 diabetes mellitus → Diabetes Mellitus, Type 2 → MESH::D003924\n",
      "🔍 Searching: type 1 diabetes mellitus\n",
      "✅ Linked: type 1 diabetes mellitus → Diabetes Mellitus, Type 1 → MESH::D003922\n",
      "🔍 Searching: refractive error\n",
      "✅ Linked: refractive error → Refractive error → OMIM::MTHU006408\n",
      "🔍 Searching: alopecia areata\n",
      "✅ Linked: alopecia areata → Alopecia Areata → MESH::D000506\n",
      "🔍 Searching: pleural cancer\n",
      "✅ Linked: pleural cancer → Pleural Diseases → MESH::D010995\n",
      "🔍 Searching: obesity\n",
      "✅ Linked: obesity → Obesity → MESH::D009765\n",
      "\n",
      "✅ Enrichment complete. Added 108 new ontology links.\n"
     ]
    }
   ],
   "source": [
    "enrich_diseases_with_mesh_omim(G, max_diseases=200, apikey=\"41a17e7d-a975-4fc3-a0c7-f6a1915ea89a\")"
   ]
  },
  {
   "cell_type": "code",
   "execution_count": 22,
   "id": "e33cb535",
   "metadata": {
    "colab": {
     "base_uri": "https://localhost:8080/",
     "height": 108
    },
    "id": "duVcLe9TMFIF",
    "outputId": "591621c7-e1db-4327-a7cf-b858e3c08a28"
   },
   "outputs": [
    {
     "name": "stderr",
     "output_type": "stream",
     "text": [
      "/tmp/ipython-input-22-2462142224.py:22: UserWarning: pandas only supports SQLAlchemy connectable (engine/connection) or database string URI or sqlite3 DBAPI2 connection. Other DBAPI2 objects are not tested. Please consider using SQLAlchemy.\n",
      "  trials_df = pd.read_sql(query, conn)\n"
     ]
    },
    {
     "data": {
      "application/vnd.google.colaboratory.intrinsic+json": {
       "repr_error": "Out of range float values are not JSON compliant: nan",
       "type": "dataframe",
       "variable_name": "trials_df"
      },
      "text/html": [
       "\n",
       "  <div id=\"df-074d38be-e19a-4606-ad0a-437ea9d94faf\" class=\"colab-df-container\">\n",
       "    <div>\n",
       "<style scoped>\n",
       "    .dataframe tbody tr th:only-of-type {\n",
       "        vertical-align: middle;\n",
       "    }\n",
       "\n",
       "    .dataframe tbody tr th {\n",
       "        vertical-align: top;\n",
       "    }\n",
       "\n",
       "    .dataframe thead th {\n",
       "        text-align: right;\n",
       "    }\n",
       "</style>\n",
       "<table border=\"1\" class=\"dataframe\">\n",
       "  <thead>\n",
       "    <tr style=\"text-align: right;\">\n",
       "      <th></th>\n",
       "      <th>condition_name</th>\n",
       "      <th>nct_id</th>\n",
       "      <th>brief_title</th>\n",
       "    </tr>\n",
       "  </thead>\n",
       "  <tbody>\n",
       "  </tbody>\n",
       "</table>\n",
       "</div>\n",
       "    <div class=\"colab-df-buttons\">\n",
       "\n",
       "  <div class=\"colab-df-container\">\n",
       "    <button class=\"colab-df-convert\" onclick=\"convertToInteractive('df-074d38be-e19a-4606-ad0a-437ea9d94faf')\"\n",
       "            title=\"Convert this dataframe to an interactive table.\"\n",
       "            style=\"display:none;\">\n",
       "\n",
       "  <svg xmlns=\"http://www.w3.org/2000/svg\" height=\"24px\" viewBox=\"0 -960 960 960\">\n",
       "    <path d=\"M120-120v-720h720v720H120Zm60-500h600v-160H180v160Zm220 220h160v-160H400v160Zm0 220h160v-160H400v160ZM180-400h160v-160H180v160Zm440 0h160v-160H620v160ZM180-180h160v-160H180v160Zm440 0h160v-160H620v160Z\"/>\n",
       "  </svg>\n",
       "    </button>\n",
       "\n",
       "  <style>\n",
       "    .colab-df-container {\n",
       "      display:flex;\n",
       "      gap: 12px;\n",
       "    }\n",
       "\n",
       "    .colab-df-convert {\n",
       "      background-color: #E8F0FE;\n",
       "      border: none;\n",
       "      border-radius: 50%;\n",
       "      cursor: pointer;\n",
       "      display: none;\n",
       "      fill: #1967D2;\n",
       "      height: 32px;\n",
       "      padding: 0 0 0 0;\n",
       "      width: 32px;\n",
       "    }\n",
       "\n",
       "    .colab-df-convert:hover {\n",
       "      background-color: #E2EBFA;\n",
       "      box-shadow: 0px 1px 2px rgba(60, 64, 67, 0.3), 0px 1px 3px 1px rgba(60, 64, 67, 0.15);\n",
       "      fill: #174EA6;\n",
       "    }\n",
       "\n",
       "    .colab-df-buttons div {\n",
       "      margin-bottom: 4px;\n",
       "    }\n",
       "\n",
       "    [theme=dark] .colab-df-convert {\n",
       "      background-color: #3B4455;\n",
       "      fill: #D2E3FC;\n",
       "    }\n",
       "\n",
       "    [theme=dark] .colab-df-convert:hover {\n",
       "      background-color: #434B5C;\n",
       "      box-shadow: 0px 1px 3px 1px rgba(0, 0, 0, 0.15);\n",
       "      filter: drop-shadow(0px 1px 2px rgba(0, 0, 0, 0.3));\n",
       "      fill: #FFFFFF;\n",
       "    }\n",
       "  </style>\n",
       "\n",
       "    <script>\n",
       "      const buttonEl =\n",
       "        document.querySelector('#df-074d38be-e19a-4606-ad0a-437ea9d94faf button.colab-df-convert');\n",
       "      buttonEl.style.display =\n",
       "        google.colab.kernel.accessAllowed ? 'block' : 'none';\n",
       "\n",
       "      async function convertToInteractive(key) {\n",
       "        const element = document.querySelector('#df-074d38be-e19a-4606-ad0a-437ea9d94faf');\n",
       "        const dataTable =\n",
       "          await google.colab.kernel.invokeFunction('convertToInteractive',\n",
       "                                                    [key], {});\n",
       "        if (!dataTable) return;\n",
       "\n",
       "        const docLinkHtml = 'Like what you see? Visit the ' +\n",
       "          '<a target=\"_blank\" href=https://colab.research.google.com/notebooks/data_table.ipynb>data table notebook</a>'\n",
       "          + ' to learn more about interactive tables.';\n",
       "        element.innerHTML = '';\n",
       "        dataTable['output_type'] = 'display_data';\n",
       "        await google.colab.output.renderOutput(dataTable, element);\n",
       "        const docLink = document.createElement('div');\n",
       "        docLink.innerHTML = docLinkHtml;\n",
       "        element.appendChild(docLink);\n",
       "      }\n",
       "    </script>\n",
       "  </div>\n",
       "\n",
       "\n",
       "    </div>\n",
       "  </div>\n"
      ],
      "text/plain": [
       "Empty DataFrame\n",
       "Columns: [condition_name, nct_id, brief_title]\n",
       "Index: []"
      ]
     },
     "execution_count": 22,
     "metadata": {},
     "output_type": "execute_result"
    }
   ],
   "source": [
    "query = \"\"\"\n",
    "SELECT\n",
    "    c.name AS condition_name,\n",
    "    s.nct_id,\n",
    "    s.brief_title\n",
    "FROM\n",
    "    conditions c\n",
    "JOIN\n",
    "    studies s ON c.nct_id = s.nct_id\n",
    "WHERE\n",
    "    s.study_type = 'Interventional'\n",
    "    AND s.overall_status = 'Recruiting'\n",
    "    AND c.name IN (\n",
    "        'skin cancer',\n",
    "        'obesity',\n",
    "        'liver cancer',\n",
    "        'uterine cancer'\n",
    "    )\n",
    "LIMIT 50;\n",
    "\"\"\"\n",
    "\n",
    "trials_df = pd.read_sql(query, conn)\n",
    "trials_df.head()\n"
   ]
  },
  {
   "cell_type": "code",
   "execution_count": 23,
   "id": "1f17fcb8",
   "metadata": {
    "colab": {
     "base_uri": "https://localhost:8080/",
     "height": 261
    },
    "id": "BkaQeW4eMhdb",
    "outputId": "68842534-5496-4810-f39f-8d1cc95c29fb"
   },
   "outputs": [
    {
     "name": "stderr",
     "output_type": "stream",
     "text": [
      "/tmp/ipython-input-23-1134453260.py:13: UserWarning: pandas only supports SQLAlchemy connectable (engine/connection) or database string URI or sqlite3 DBAPI2 connection. Other DBAPI2 objects are not tested. Please consider using SQLAlchemy.\n",
      "  trials_df = pd.read_sql(query, conn)\n"
     ]
    },
    {
     "data": {
      "application/vnd.google.colaboratory.intrinsic+json": {
       "summary": "{\n  \"name\": \"trials_df\",\n  \"rows\": 20,\n  \"fields\": [\n    {\n      \"column\": \"condition_name\",\n      \"properties\": {\n        \"dtype\": \"string\",\n        \"num_unique_values\": 18,\n        \"samples\": [\n          \"Congenital Adrenal Hyperplasia\",\n          \"Lead Poisoning\",\n          \"Mouth Diseases\"\n        ],\n        \"semantic_type\": \"\",\n        \"description\": \"\"\n      }\n    },\n    {\n      \"column\": \"nct_id\",\n      \"properties\": {\n        \"dtype\": \"string\",\n        \"num_unique_values\": 15,\n        \"samples\": [\n          \"NCT00000113\",\n          \"NCT00000115\",\n          \"NCT00000102\"\n        ],\n        \"semantic_type\": \"\",\n        \"description\": \"\"\n      }\n    },\n    {\n      \"column\": \"brief_title\",\n      \"properties\": {\n        \"dtype\": \"string\",\n        \"num_unique_values\": 15,\n        \"samples\": [\n          \"Correction of Myopia Evaluation Trial (COMET)\",\n          \"Randomized Trial of Acetazolamide for Uveitis-Associated Cystoid Macular Edema\",\n          \"Congenital Adrenal Hyperplasia: Calcium Channels as Therapeutic Targets\"\n        ],\n        \"semantic_type\": \"\",\n        \"description\": \"\"\n      }\n    }\n  ]\n}",
       "type": "dataframe",
       "variable_name": "trials_df"
      },
      "text/html": [
       "\n",
       "  <div id=\"df-d9ea10f7-0f88-4174-89b5-f432ef4ed0a9\" class=\"colab-df-container\">\n",
       "    <div>\n",
       "<style scoped>\n",
       "    .dataframe tbody tr th:only-of-type {\n",
       "        vertical-align: middle;\n",
       "    }\n",
       "\n",
       "    .dataframe tbody tr th {\n",
       "        vertical-align: top;\n",
       "    }\n",
       "\n",
       "    .dataframe thead th {\n",
       "        text-align: right;\n",
       "    }\n",
       "</style>\n",
       "<table border=\"1\" class=\"dataframe\">\n",
       "  <thead>\n",
       "    <tr style=\"text-align: right;\">\n",
       "      <th></th>\n",
       "      <th>condition_name</th>\n",
       "      <th>nct_id</th>\n",
       "      <th>brief_title</th>\n",
       "    </tr>\n",
       "  </thead>\n",
       "  <tbody>\n",
       "    <tr>\n",
       "      <th>0</th>\n",
       "      <td>Congenital Adrenal Hyperplasia</td>\n",
       "      <td>NCT00000102</td>\n",
       "      <td>Congenital Adrenal Hyperplasia: Calcium Channe...</td>\n",
       "    </tr>\n",
       "    <tr>\n",
       "      <th>1</th>\n",
       "      <td>Lead Poisoning</td>\n",
       "      <td>NCT00000104</td>\n",
       "      <td>Does Lead Burden Alter Neuropsychological Deve...</td>\n",
       "    </tr>\n",
       "    <tr>\n",
       "      <th>2</th>\n",
       "      <td>Cancer</td>\n",
       "      <td>NCT00000105</td>\n",
       "      <td>Vaccination With Tetanus and KLH to Assess Imm...</td>\n",
       "    </tr>\n",
       "    <tr>\n",
       "      <th>3</th>\n",
       "      <td>Rheumatic Diseases</td>\n",
       "      <td>NCT00000106</td>\n",
       "      <td>41.8 Degree Centigrade Whole Body Hyperthermia...</td>\n",
       "    </tr>\n",
       "    <tr>\n",
       "      <th>4</th>\n",
       "      <td>Heart Defects, Congenital</td>\n",
       "      <td>NCT00000107</td>\n",
       "      <td>Body Water Content in Cyanotic Congenital Hear...</td>\n",
       "    </tr>\n",
       "  </tbody>\n",
       "</table>\n",
       "</div>\n",
       "    <div class=\"colab-df-buttons\">\n",
       "\n",
       "  <div class=\"colab-df-container\">\n",
       "    <button class=\"colab-df-convert\" onclick=\"convertToInteractive('df-d9ea10f7-0f88-4174-89b5-f432ef4ed0a9')\"\n",
       "            title=\"Convert this dataframe to an interactive table.\"\n",
       "            style=\"display:none;\">\n",
       "\n",
       "  <svg xmlns=\"http://www.w3.org/2000/svg\" height=\"24px\" viewBox=\"0 -960 960 960\">\n",
       "    <path d=\"M120-120v-720h720v720H120Zm60-500h600v-160H180v160Zm220 220h160v-160H400v160Zm0 220h160v-160H400v160ZM180-400h160v-160H180v160Zm440 0h160v-160H620v160ZM180-180h160v-160H180v160Zm440 0h160v-160H620v160Z\"/>\n",
       "  </svg>\n",
       "    </button>\n",
       "\n",
       "  <style>\n",
       "    .colab-df-container {\n",
       "      display:flex;\n",
       "      gap: 12px;\n",
       "    }\n",
       "\n",
       "    .colab-df-convert {\n",
       "      background-color: #E8F0FE;\n",
       "      border: none;\n",
       "      border-radius: 50%;\n",
       "      cursor: pointer;\n",
       "      display: none;\n",
       "      fill: #1967D2;\n",
       "      height: 32px;\n",
       "      padding: 0 0 0 0;\n",
       "      width: 32px;\n",
       "    }\n",
       "\n",
       "    .colab-df-convert:hover {\n",
       "      background-color: #E2EBFA;\n",
       "      box-shadow: 0px 1px 2px rgba(60, 64, 67, 0.3), 0px 1px 3px 1px rgba(60, 64, 67, 0.15);\n",
       "      fill: #174EA6;\n",
       "    }\n",
       "\n",
       "    .colab-df-buttons div {\n",
       "      margin-bottom: 4px;\n",
       "    }\n",
       "\n",
       "    [theme=dark] .colab-df-convert {\n",
       "      background-color: #3B4455;\n",
       "      fill: #D2E3FC;\n",
       "    }\n",
       "\n",
       "    [theme=dark] .colab-df-convert:hover {\n",
       "      background-color: #434B5C;\n",
       "      box-shadow: 0px 1px 3px 1px rgba(0, 0, 0, 0.15);\n",
       "      filter: drop-shadow(0px 1px 2px rgba(0, 0, 0, 0.3));\n",
       "      fill: #FFFFFF;\n",
       "    }\n",
       "  </style>\n",
       "\n",
       "    <script>\n",
       "      const buttonEl =\n",
       "        document.querySelector('#df-d9ea10f7-0f88-4174-89b5-f432ef4ed0a9 button.colab-df-convert');\n",
       "      buttonEl.style.display =\n",
       "        google.colab.kernel.accessAllowed ? 'block' : 'none';\n",
       "\n",
       "      async function convertToInteractive(key) {\n",
       "        const element = document.querySelector('#df-d9ea10f7-0f88-4174-89b5-f432ef4ed0a9');\n",
       "        const dataTable =\n",
       "          await google.colab.kernel.invokeFunction('convertToInteractive',\n",
       "                                                    [key], {});\n",
       "        if (!dataTable) return;\n",
       "\n",
       "        const docLinkHtml = 'Like what you see? Visit the ' +\n",
       "          '<a target=\"_blank\" href=https://colab.research.google.com/notebooks/data_table.ipynb>data table notebook</a>'\n",
       "          + ' to learn more about interactive tables.';\n",
       "        element.innerHTML = '';\n",
       "        dataTable['output_type'] = 'display_data';\n",
       "        await google.colab.output.renderOutput(dataTable, element);\n",
       "        const docLink = document.createElement('div');\n",
       "        docLink.innerHTML = docLinkHtml;\n",
       "        element.appendChild(docLink);\n",
       "      }\n",
       "    </script>\n",
       "  </div>\n",
       "\n",
       "\n",
       "    <div id=\"df-092f9aab-9410-492d-853f-9912fae1434a\">\n",
       "      <button class=\"colab-df-quickchart\" onclick=\"quickchart('df-092f9aab-9410-492d-853f-9912fae1434a')\"\n",
       "                title=\"Suggest charts\"\n",
       "                style=\"display:none;\">\n",
       "\n",
       "<svg xmlns=\"http://www.w3.org/2000/svg\" height=\"24px\"viewBox=\"0 0 24 24\"\n",
       "     width=\"24px\">\n",
       "    <g>\n",
       "        <path d=\"M19 3H5c-1.1 0-2 .9-2 2v14c0 1.1.9 2 2 2h14c1.1 0 2-.9 2-2V5c0-1.1-.9-2-2-2zM9 17H7v-7h2v7zm4 0h-2V7h2v10zm4 0h-2v-4h2v4z\"/>\n",
       "    </g>\n",
       "</svg>\n",
       "      </button>\n",
       "\n",
       "<style>\n",
       "  .colab-df-quickchart {\n",
       "      --bg-color: #E8F0FE;\n",
       "      --fill-color: #1967D2;\n",
       "      --hover-bg-color: #E2EBFA;\n",
       "      --hover-fill-color: #174EA6;\n",
       "      --disabled-fill-color: #AAA;\n",
       "      --disabled-bg-color: #DDD;\n",
       "  }\n",
       "\n",
       "  [theme=dark] .colab-df-quickchart {\n",
       "      --bg-color: #3B4455;\n",
       "      --fill-color: #D2E3FC;\n",
       "      --hover-bg-color: #434B5C;\n",
       "      --hover-fill-color: #FFFFFF;\n",
       "      --disabled-bg-color: #3B4455;\n",
       "      --disabled-fill-color: #666;\n",
       "  }\n",
       "\n",
       "  .colab-df-quickchart {\n",
       "    background-color: var(--bg-color);\n",
       "    border: none;\n",
       "    border-radius: 50%;\n",
       "    cursor: pointer;\n",
       "    display: none;\n",
       "    fill: var(--fill-color);\n",
       "    height: 32px;\n",
       "    padding: 0;\n",
       "    width: 32px;\n",
       "  }\n",
       "\n",
       "  .colab-df-quickchart:hover {\n",
       "    background-color: var(--hover-bg-color);\n",
       "    box-shadow: 0 1px 2px rgba(60, 64, 67, 0.3), 0 1px 3px 1px rgba(60, 64, 67, 0.15);\n",
       "    fill: var(--button-hover-fill-color);\n",
       "  }\n",
       "\n",
       "  .colab-df-quickchart-complete:disabled,\n",
       "  .colab-df-quickchart-complete:disabled:hover {\n",
       "    background-color: var(--disabled-bg-color);\n",
       "    fill: var(--disabled-fill-color);\n",
       "    box-shadow: none;\n",
       "  }\n",
       "\n",
       "  .colab-df-spinner {\n",
       "    border: 2px solid var(--fill-color);\n",
       "    border-color: transparent;\n",
       "    border-bottom-color: var(--fill-color);\n",
       "    animation:\n",
       "      spin 1s steps(1) infinite;\n",
       "  }\n",
       "\n",
       "  @keyframes spin {\n",
       "    0% {\n",
       "      border-color: transparent;\n",
       "      border-bottom-color: var(--fill-color);\n",
       "      border-left-color: var(--fill-color);\n",
       "    }\n",
       "    20% {\n",
       "      border-color: transparent;\n",
       "      border-left-color: var(--fill-color);\n",
       "      border-top-color: var(--fill-color);\n",
       "    }\n",
       "    30% {\n",
       "      border-color: transparent;\n",
       "      border-left-color: var(--fill-color);\n",
       "      border-top-color: var(--fill-color);\n",
       "      border-right-color: var(--fill-color);\n",
       "    }\n",
       "    40% {\n",
       "      border-color: transparent;\n",
       "      border-right-color: var(--fill-color);\n",
       "      border-top-color: var(--fill-color);\n",
       "    }\n",
       "    60% {\n",
       "      border-color: transparent;\n",
       "      border-right-color: var(--fill-color);\n",
       "    }\n",
       "    80% {\n",
       "      border-color: transparent;\n",
       "      border-right-color: var(--fill-color);\n",
       "      border-bottom-color: var(--fill-color);\n",
       "    }\n",
       "    90% {\n",
       "      border-color: transparent;\n",
       "      border-bottom-color: var(--fill-color);\n",
       "    }\n",
       "  }\n",
       "</style>\n",
       "\n",
       "      <script>\n",
       "        async function quickchart(key) {\n",
       "          const quickchartButtonEl =\n",
       "            document.querySelector('#' + key + ' button');\n",
       "          quickchartButtonEl.disabled = true;  // To prevent multiple clicks.\n",
       "          quickchartButtonEl.classList.add('colab-df-spinner');\n",
       "          try {\n",
       "            const charts = await google.colab.kernel.invokeFunction(\n",
       "                'suggestCharts', [key], {});\n",
       "          } catch (error) {\n",
       "            console.error('Error during call to suggestCharts:', error);\n",
       "          }\n",
       "          quickchartButtonEl.classList.remove('colab-df-spinner');\n",
       "          quickchartButtonEl.classList.add('colab-df-quickchart-complete');\n",
       "        }\n",
       "        (() => {\n",
       "          let quickchartButtonEl =\n",
       "            document.querySelector('#df-092f9aab-9410-492d-853f-9912fae1434a button');\n",
       "          quickchartButtonEl.style.display =\n",
       "            google.colab.kernel.accessAllowed ? 'block' : 'none';\n",
       "        })();\n",
       "      </script>\n",
       "    </div>\n",
       "\n",
       "    </div>\n",
       "  </div>\n"
      ],
      "text/plain": [
       "                   condition_name       nct_id  \\\n",
       "0  Congenital Adrenal Hyperplasia  NCT00000102   \n",
       "1                  Lead Poisoning  NCT00000104   \n",
       "2                          Cancer  NCT00000105   \n",
       "3              Rheumatic Diseases  NCT00000106   \n",
       "4       Heart Defects, Congenital  NCT00000107   \n",
       "\n",
       "                                         brief_title  \n",
       "0  Congenital Adrenal Hyperplasia: Calcium Channe...  \n",
       "1  Does Lead Burden Alter Neuropsychological Deve...  \n",
       "2  Vaccination With Tetanus and KLH to Assess Imm...  \n",
       "3  41.8 Degree Centigrade Whole Body Hyperthermia...  \n",
       "4  Body Water Content in Cyanotic Congenital Hear...  "
      ]
     },
     "execution_count": 23,
     "metadata": {},
     "output_type": "execute_result"
    }
   ],
   "source": [
    "query = \"\"\"\n",
    "SELECT\n",
    "    c.name AS condition_name,\n",
    "    s.nct_id,\n",
    "    s.brief_title\n",
    "FROM\n",
    "    conditions c\n",
    "JOIN\n",
    "    studies s ON c.nct_id = s.nct_id\n",
    "LIMIT 20;\n",
    "\"\"\"\n",
    "\n",
    "trials_df = pd.read_sql(query, conn)\n",
    "trials_df.head()\n"
   ]
  },
  {
   "cell_type": "code",
   "execution_count": 24,
   "id": "7319a680",
   "metadata": {
    "colab": {
     "base_uri": "https://localhost:8080/",
     "height": 261
    },
    "id": "dTIZ2LeVMnCh",
    "outputId": "24af03fd-0109-4082-d366-dc81ea2ef693"
   },
   "outputs": [
    {
     "name": "stderr",
     "output_type": "stream",
     "text": [
      "/tmp/ipython-input-24-1860563233.py:15: UserWarning: pandas only supports SQLAlchemy connectable (engine/connection) or database string URI or sqlite3 DBAPI2 connection. Other DBAPI2 objects are not tested. Please consider using SQLAlchemy.\n",
      "  trials_df = pd.read_sql(query, conn)\n"
     ]
    },
    {
     "data": {
      "application/vnd.google.colaboratory.intrinsic+json": {
       "summary": "{\n  \"name\": \"trials_df\",\n  \"rows\": 50,\n  \"fields\": [\n    {\n      \"column\": \"condition_name\",\n      \"properties\": {\n        \"dtype\": \"string\",\n        \"num_unique_values\": 36,\n        \"samples\": [\n          \"Precancerous Conditions\",\n          \"Lung Cancer\",\n          \"Liver Cancer\"\n        ],\n        \"semantic_type\": \"\",\n        \"description\": \"\"\n      }\n    },\n    {\n      \"column\": \"nct_id\",\n      \"properties\": {\n        \"dtype\": \"string\",\n        \"num_unique_values\": 42,\n        \"samples\": [\n          \"NCT00534755\",\n          \"NCT05788224\",\n          \"NCT01385280\"\n        ],\n        \"semantic_type\": \"\",\n        \"description\": \"\"\n      }\n    },\n    {\n      \"column\": \"brief_title\",\n      \"properties\": {\n        \"dtype\": \"string\",\n        \"num_unique_values\": 42,\n        \"samples\": [\n          \"Prospective & Retrospective Data Collection of Breast Cancer Cases From 2000 to Present\",\n          \"The Management of Complicated Colo-rectal Cancer in Older Patients in the Emergency Setting: the CO-OLDER Study\",\n          \"Pilot Study Estradiol Followed by Exemestane Hormone Receptor + Metastatic Breast Cancer\"\n        ],\n        \"semantic_type\": \"\",\n        \"description\": \"\"\n      }\n    }\n  ]\n}",
       "type": "dataframe",
       "variable_name": "trials_df"
      },
      "text/html": [
       "\n",
       "  <div id=\"df-1aa6e361-60b6-43ab-b8ce-a5a729b209ce\" class=\"colab-df-container\">\n",
       "    <div>\n",
       "<style scoped>\n",
       "    .dataframe tbody tr th:only-of-type {\n",
       "        vertical-align: middle;\n",
       "    }\n",
       "\n",
       "    .dataframe tbody tr th {\n",
       "        vertical-align: top;\n",
       "    }\n",
       "\n",
       "    .dataframe thead th {\n",
       "        text-align: right;\n",
       "    }\n",
       "</style>\n",
       "<table border=\"1\" class=\"dataframe\">\n",
       "  <thead>\n",
       "    <tr style=\"text-align: right;\">\n",
       "      <th></th>\n",
       "      <th>condition_name</th>\n",
       "      <th>nct_id</th>\n",
       "      <th>brief_title</th>\n",
       "    </tr>\n",
       "  </thead>\n",
       "  <tbody>\n",
       "    <tr>\n",
       "      <th>0</th>\n",
       "      <td>Bladder Cancer</td>\n",
       "      <td>NCT06026189</td>\n",
       "      <td>Safely Reduce Cystoscopic Evaluations for Hema...</td>\n",
       "    </tr>\n",
       "    <tr>\n",
       "      <th>1</th>\n",
       "      <td>Breast Cancer</td>\n",
       "      <td>NCT04406779</td>\n",
       "      <td>The Frequency of Thyroid Diseases in Women Wit...</td>\n",
       "    </tr>\n",
       "    <tr>\n",
       "      <th>2</th>\n",
       "      <td>Early Breast Cancer</td>\n",
       "      <td>NCT05213403</td>\n",
       "      <td>Innovative \"Scoring System\" in Breast Cancer P...</td>\n",
       "    </tr>\n",
       "    <tr>\n",
       "      <th>3</th>\n",
       "      <td>Non-colorectal Cancer (Esophagus, Stomach, Liv...</td>\n",
       "      <td>NCT04478175</td>\n",
       "      <td>Prospective Evaluation of a Program for Early ...</td>\n",
       "    </tr>\n",
       "    <tr>\n",
       "      <th>4</th>\n",
       "      <td>Head and Neck Cancer</td>\n",
       "      <td>NCT00017277</td>\n",
       "      <td>Radiation Therapy With or Without Epoetin Alfa...</td>\n",
       "    </tr>\n",
       "  </tbody>\n",
       "</table>\n",
       "</div>\n",
       "    <div class=\"colab-df-buttons\">\n",
       "\n",
       "  <div class=\"colab-df-container\">\n",
       "    <button class=\"colab-df-convert\" onclick=\"convertToInteractive('df-1aa6e361-60b6-43ab-b8ce-a5a729b209ce')\"\n",
       "            title=\"Convert this dataframe to an interactive table.\"\n",
       "            style=\"display:none;\">\n",
       "\n",
       "  <svg xmlns=\"http://www.w3.org/2000/svg\" height=\"24px\" viewBox=\"0 -960 960 960\">\n",
       "    <path d=\"M120-120v-720h720v720H120Zm60-500h600v-160H180v160Zm220 220h160v-160H400v160Zm0 220h160v-160H400v160ZM180-400h160v-160H180v160Zm440 0h160v-160H620v160ZM180-180h160v-160H180v160Zm440 0h160v-160H620v160Z\"/>\n",
       "  </svg>\n",
       "    </button>\n",
       "\n",
       "  <style>\n",
       "    .colab-df-container {\n",
       "      display:flex;\n",
       "      gap: 12px;\n",
       "    }\n",
       "\n",
       "    .colab-df-convert {\n",
       "      background-color: #E8F0FE;\n",
       "      border: none;\n",
       "      border-radius: 50%;\n",
       "      cursor: pointer;\n",
       "      display: none;\n",
       "      fill: #1967D2;\n",
       "      height: 32px;\n",
       "      padding: 0 0 0 0;\n",
       "      width: 32px;\n",
       "    }\n",
       "\n",
       "    .colab-df-convert:hover {\n",
       "      background-color: #E2EBFA;\n",
       "      box-shadow: 0px 1px 2px rgba(60, 64, 67, 0.3), 0px 1px 3px 1px rgba(60, 64, 67, 0.15);\n",
       "      fill: #174EA6;\n",
       "    }\n",
       "\n",
       "    .colab-df-buttons div {\n",
       "      margin-bottom: 4px;\n",
       "    }\n",
       "\n",
       "    [theme=dark] .colab-df-convert {\n",
       "      background-color: #3B4455;\n",
       "      fill: #D2E3FC;\n",
       "    }\n",
       "\n",
       "    [theme=dark] .colab-df-convert:hover {\n",
       "      background-color: #434B5C;\n",
       "      box-shadow: 0px 1px 3px 1px rgba(0, 0, 0, 0.15);\n",
       "      filter: drop-shadow(0px 1px 2px rgba(0, 0, 0, 0.3));\n",
       "      fill: #FFFFFF;\n",
       "    }\n",
       "  </style>\n",
       "\n",
       "    <script>\n",
       "      const buttonEl =\n",
       "        document.querySelector('#df-1aa6e361-60b6-43ab-b8ce-a5a729b209ce button.colab-df-convert');\n",
       "      buttonEl.style.display =\n",
       "        google.colab.kernel.accessAllowed ? 'block' : 'none';\n",
       "\n",
       "      async function convertToInteractive(key) {\n",
       "        const element = document.querySelector('#df-1aa6e361-60b6-43ab-b8ce-a5a729b209ce');\n",
       "        const dataTable =\n",
       "          await google.colab.kernel.invokeFunction('convertToInteractive',\n",
       "                                                    [key], {});\n",
       "        if (!dataTable) return;\n",
       "\n",
       "        const docLinkHtml = 'Like what you see? Visit the ' +\n",
       "          '<a target=\"_blank\" href=https://colab.research.google.com/notebooks/data_table.ipynb>data table notebook</a>'\n",
       "          + ' to learn more about interactive tables.';\n",
       "        element.innerHTML = '';\n",
       "        dataTable['output_type'] = 'display_data';\n",
       "        await google.colab.output.renderOutput(dataTable, element);\n",
       "        const docLink = document.createElement('div');\n",
       "        docLink.innerHTML = docLinkHtml;\n",
       "        element.appendChild(docLink);\n",
       "      }\n",
       "    </script>\n",
       "  </div>\n",
       "\n",
       "\n",
       "    <div id=\"df-7dcb10a6-db6d-46e3-b860-f9d665624e7a\">\n",
       "      <button class=\"colab-df-quickchart\" onclick=\"quickchart('df-7dcb10a6-db6d-46e3-b860-f9d665624e7a')\"\n",
       "                title=\"Suggest charts\"\n",
       "                style=\"display:none;\">\n",
       "\n",
       "<svg xmlns=\"http://www.w3.org/2000/svg\" height=\"24px\"viewBox=\"0 0 24 24\"\n",
       "     width=\"24px\">\n",
       "    <g>\n",
       "        <path d=\"M19 3H5c-1.1 0-2 .9-2 2v14c0 1.1.9 2 2 2h14c1.1 0 2-.9 2-2V5c0-1.1-.9-2-2-2zM9 17H7v-7h2v7zm4 0h-2V7h2v10zm4 0h-2v-4h2v4z\"/>\n",
       "    </g>\n",
       "</svg>\n",
       "      </button>\n",
       "\n",
       "<style>\n",
       "  .colab-df-quickchart {\n",
       "      --bg-color: #E8F0FE;\n",
       "      --fill-color: #1967D2;\n",
       "      --hover-bg-color: #E2EBFA;\n",
       "      --hover-fill-color: #174EA6;\n",
       "      --disabled-fill-color: #AAA;\n",
       "      --disabled-bg-color: #DDD;\n",
       "  }\n",
       "\n",
       "  [theme=dark] .colab-df-quickchart {\n",
       "      --bg-color: #3B4455;\n",
       "      --fill-color: #D2E3FC;\n",
       "      --hover-bg-color: #434B5C;\n",
       "      --hover-fill-color: #FFFFFF;\n",
       "      --disabled-bg-color: #3B4455;\n",
       "      --disabled-fill-color: #666;\n",
       "  }\n",
       "\n",
       "  .colab-df-quickchart {\n",
       "    background-color: var(--bg-color);\n",
       "    border: none;\n",
       "    border-radius: 50%;\n",
       "    cursor: pointer;\n",
       "    display: none;\n",
       "    fill: var(--fill-color);\n",
       "    height: 32px;\n",
       "    padding: 0;\n",
       "    width: 32px;\n",
       "  }\n",
       "\n",
       "  .colab-df-quickchart:hover {\n",
       "    background-color: var(--hover-bg-color);\n",
       "    box-shadow: 0 1px 2px rgba(60, 64, 67, 0.3), 0 1px 3px 1px rgba(60, 64, 67, 0.15);\n",
       "    fill: var(--button-hover-fill-color);\n",
       "  }\n",
       "\n",
       "  .colab-df-quickchart-complete:disabled,\n",
       "  .colab-df-quickchart-complete:disabled:hover {\n",
       "    background-color: var(--disabled-bg-color);\n",
       "    fill: var(--disabled-fill-color);\n",
       "    box-shadow: none;\n",
       "  }\n",
       "\n",
       "  .colab-df-spinner {\n",
       "    border: 2px solid var(--fill-color);\n",
       "    border-color: transparent;\n",
       "    border-bottom-color: var(--fill-color);\n",
       "    animation:\n",
       "      spin 1s steps(1) infinite;\n",
       "  }\n",
       "\n",
       "  @keyframes spin {\n",
       "    0% {\n",
       "      border-color: transparent;\n",
       "      border-bottom-color: var(--fill-color);\n",
       "      border-left-color: var(--fill-color);\n",
       "    }\n",
       "    20% {\n",
       "      border-color: transparent;\n",
       "      border-left-color: var(--fill-color);\n",
       "      border-top-color: var(--fill-color);\n",
       "    }\n",
       "    30% {\n",
       "      border-color: transparent;\n",
       "      border-left-color: var(--fill-color);\n",
       "      border-top-color: var(--fill-color);\n",
       "      border-right-color: var(--fill-color);\n",
       "    }\n",
       "    40% {\n",
       "      border-color: transparent;\n",
       "      border-right-color: var(--fill-color);\n",
       "      border-top-color: var(--fill-color);\n",
       "    }\n",
       "    60% {\n",
       "      border-color: transparent;\n",
       "      border-right-color: var(--fill-color);\n",
       "    }\n",
       "    80% {\n",
       "      border-color: transparent;\n",
       "      border-right-color: var(--fill-color);\n",
       "      border-bottom-color: var(--fill-color);\n",
       "    }\n",
       "    90% {\n",
       "      border-color: transparent;\n",
       "      border-bottom-color: var(--fill-color);\n",
       "    }\n",
       "  }\n",
       "</style>\n",
       "\n",
       "      <script>\n",
       "        async function quickchart(key) {\n",
       "          const quickchartButtonEl =\n",
       "            document.querySelector('#' + key + ' button');\n",
       "          quickchartButtonEl.disabled = true;  // To prevent multiple clicks.\n",
       "          quickchartButtonEl.classList.add('colab-df-spinner');\n",
       "          try {\n",
       "            const charts = await google.colab.kernel.invokeFunction(\n",
       "                'suggestCharts', [key], {});\n",
       "          } catch (error) {\n",
       "            console.error('Error during call to suggestCharts:', error);\n",
       "          }\n",
       "          quickchartButtonEl.classList.remove('colab-df-spinner');\n",
       "          quickchartButtonEl.classList.add('colab-df-quickchart-complete');\n",
       "        }\n",
       "        (() => {\n",
       "          let quickchartButtonEl =\n",
       "            document.querySelector('#df-7dcb10a6-db6d-46e3-b860-f9d665624e7a button');\n",
       "          quickchartButtonEl.style.display =\n",
       "            google.colab.kernel.accessAllowed ? 'block' : 'none';\n",
       "        })();\n",
       "      </script>\n",
       "    </div>\n",
       "\n",
       "    </div>\n",
       "  </div>\n"
      ],
      "text/plain": [
       "                                      condition_name       nct_id  \\\n",
       "0                                     Bladder Cancer  NCT06026189   \n",
       "1                                      Breast Cancer  NCT04406779   \n",
       "2                                Early Breast Cancer  NCT05213403   \n",
       "3  Non-colorectal Cancer (Esophagus, Stomach, Liv...  NCT04478175   \n",
       "4                               Head and Neck Cancer  NCT00017277   \n",
       "\n",
       "                                         brief_title  \n",
       "0  Safely Reduce Cystoscopic Evaluations for Hema...  \n",
       "1  The Frequency of Thyroid Diseases in Women Wit...  \n",
       "2  Innovative \"Scoring System\" in Breast Cancer P...  \n",
       "3  Prospective Evaluation of a Program for Early ...  \n",
       "4  Radiation Therapy With or Without Epoetin Alfa...  "
      ]
     },
     "execution_count": 24,
     "metadata": {},
     "output_type": "execute_result"
    }
   ],
   "source": [
    "query = \"\"\"\n",
    "SELECT\n",
    "    c.name AS condition_name,\n",
    "    s.nct_id,\n",
    "    s.brief_title\n",
    "FROM\n",
    "    conditions c\n",
    "JOIN\n",
    "    studies s ON c.nct_id = s.nct_id\n",
    "WHERE\n",
    "    LOWER(c.name) LIKE '%cancer%'\n",
    "LIMIT 50;\n",
    "\"\"\"\n",
    "\n",
    "trials_df = pd.read_sql(query, conn)\n",
    "trials_df.head()"
   ]
  },
  {
   "cell_type": "code",
   "execution_count": 25,
   "id": "5a1eb6c5",
   "metadata": {
    "colab": {
     "base_uri": "https://localhost:8080/",
     "height": 261
    },
    "id": "sthX7dsmQWLY",
    "outputId": "4c604eac-b714-44fa-e2be-48f4b2d8ea06"
   },
   "outputs": [
    {
     "name": "stderr",
     "output_type": "stream",
     "text": [
      "/tmp/ipython-input-25-3751379518.py:12: UserWarning: pandas only supports SQLAlchemy connectable (engine/connection) or database string URI or sqlite3 DBAPI2 connection. Other DBAPI2 objects are not tested. Please consider using SQLAlchemy.\n",
      "  trials_df = pd.read_sql(query, conn)\n"
     ]
    },
    {
     "data": {
      "application/vnd.google.colaboratory.intrinsic+json": {
       "summary": "{\n  \"name\": \"trials_df\",\n  \"rows\": 500,\n  \"fields\": [\n    {\n      \"column\": \"condition_name\",\n      \"properties\": {\n        \"dtype\": \"category\",\n        \"num_unique_values\": 136,\n        \"samples\": [\n          \"Hearing Loss, Sensorineural\",\n          \"Macular Degeneration\",\n          \"Cognition Disorders\"\n        ],\n        \"semantic_type\": \"\",\n        \"description\": \"\"\n      }\n    },\n    {\n      \"column\": \"nct_id\",\n      \"properties\": {\n        \"dtype\": \"string\",\n        \"num_unique_values\": 340,\n        \"samples\": [\n          \"NCT00000405\",\n          \"NCT00000230\",\n          \"NCT00000227\"\n        ],\n        \"semantic_type\": \"\",\n        \"description\": \"\"\n      }\n    },\n    {\n      \"column\": \"brief_title\",\n      \"properties\": {\n        \"dtype\": \"string\",\n        \"num_unique_values\": 340,\n        \"samples\": [\n          \"Effects of Jumping on Growing Bones\",\n          \"Buprenorphine Detoxification With Two Types of Treatment. BBD III - 12\",\n          \"Alternate-Day Buprenorphine Administration. Phase VIII - 9\"\n        ],\n        \"semantic_type\": \"\",\n        \"description\": \"\"\n      }\n    }\n  ]\n}",
       "type": "dataframe",
       "variable_name": "trials_df"
      },
      "text/html": [
       "\n",
       "  <div id=\"df-9a583879-eb46-459d-8d98-a06905dde43e\" class=\"colab-df-container\">\n",
       "    <div>\n",
       "<style scoped>\n",
       "    .dataframe tbody tr th:only-of-type {\n",
       "        vertical-align: middle;\n",
       "    }\n",
       "\n",
       "    .dataframe tbody tr th {\n",
       "        vertical-align: top;\n",
       "    }\n",
       "\n",
       "    .dataframe thead th {\n",
       "        text-align: right;\n",
       "    }\n",
       "</style>\n",
       "<table border=\"1\" class=\"dataframe\">\n",
       "  <thead>\n",
       "    <tr style=\"text-align: right;\">\n",
       "      <th></th>\n",
       "      <th>condition_name</th>\n",
       "      <th>nct_id</th>\n",
       "      <th>brief_title</th>\n",
       "    </tr>\n",
       "  </thead>\n",
       "  <tbody>\n",
       "    <tr>\n",
       "      <th>0</th>\n",
       "      <td>Congenital Adrenal Hyperplasia</td>\n",
       "      <td>NCT00000102</td>\n",
       "      <td>Congenital Adrenal Hyperplasia: Calcium Channe...</td>\n",
       "    </tr>\n",
       "    <tr>\n",
       "      <th>1</th>\n",
       "      <td>Lead Poisoning</td>\n",
       "      <td>NCT00000104</td>\n",
       "      <td>Does Lead Burden Alter Neuropsychological Deve...</td>\n",
       "    </tr>\n",
       "    <tr>\n",
       "      <th>2</th>\n",
       "      <td>Cancer</td>\n",
       "      <td>NCT00000105</td>\n",
       "      <td>Vaccination With Tetanus and KLH to Assess Imm...</td>\n",
       "    </tr>\n",
       "    <tr>\n",
       "      <th>3</th>\n",
       "      <td>Rheumatic Diseases</td>\n",
       "      <td>NCT00000106</td>\n",
       "      <td>41.8 Degree Centigrade Whole Body Hyperthermia...</td>\n",
       "    </tr>\n",
       "    <tr>\n",
       "      <th>4</th>\n",
       "      <td>Heart Defects, Congenital</td>\n",
       "      <td>NCT00000107</td>\n",
       "      <td>Body Water Content in Cyanotic Congenital Hear...</td>\n",
       "    </tr>\n",
       "  </tbody>\n",
       "</table>\n",
       "</div>\n",
       "    <div class=\"colab-df-buttons\">\n",
       "\n",
       "  <div class=\"colab-df-container\">\n",
       "    <button class=\"colab-df-convert\" onclick=\"convertToInteractive('df-9a583879-eb46-459d-8d98-a06905dde43e')\"\n",
       "            title=\"Convert this dataframe to an interactive table.\"\n",
       "            style=\"display:none;\">\n",
       "\n",
       "  <svg xmlns=\"http://www.w3.org/2000/svg\" height=\"24px\" viewBox=\"0 -960 960 960\">\n",
       "    <path d=\"M120-120v-720h720v720H120Zm60-500h600v-160H180v160Zm220 220h160v-160H400v160Zm0 220h160v-160H400v160ZM180-400h160v-160H180v160Zm440 0h160v-160H620v160ZM180-180h160v-160H180v160Zm440 0h160v-160H620v160Z\"/>\n",
       "  </svg>\n",
       "    </button>\n",
       "\n",
       "  <style>\n",
       "    .colab-df-container {\n",
       "      display:flex;\n",
       "      gap: 12px;\n",
       "    }\n",
       "\n",
       "    .colab-df-convert {\n",
       "      background-color: #E8F0FE;\n",
       "      border: none;\n",
       "      border-radius: 50%;\n",
       "      cursor: pointer;\n",
       "      display: none;\n",
       "      fill: #1967D2;\n",
       "      height: 32px;\n",
       "      padding: 0 0 0 0;\n",
       "      width: 32px;\n",
       "    }\n",
       "\n",
       "    .colab-df-convert:hover {\n",
       "      background-color: #E2EBFA;\n",
       "      box-shadow: 0px 1px 2px rgba(60, 64, 67, 0.3), 0px 1px 3px 1px rgba(60, 64, 67, 0.15);\n",
       "      fill: #174EA6;\n",
       "    }\n",
       "\n",
       "    .colab-df-buttons div {\n",
       "      margin-bottom: 4px;\n",
       "    }\n",
       "\n",
       "    [theme=dark] .colab-df-convert {\n",
       "      background-color: #3B4455;\n",
       "      fill: #D2E3FC;\n",
       "    }\n",
       "\n",
       "    [theme=dark] .colab-df-convert:hover {\n",
       "      background-color: #434B5C;\n",
       "      box-shadow: 0px 1px 3px 1px rgba(0, 0, 0, 0.15);\n",
       "      filter: drop-shadow(0px 1px 2px rgba(0, 0, 0, 0.3));\n",
       "      fill: #FFFFFF;\n",
       "    }\n",
       "  </style>\n",
       "\n",
       "    <script>\n",
       "      const buttonEl =\n",
       "        document.querySelector('#df-9a583879-eb46-459d-8d98-a06905dde43e button.colab-df-convert');\n",
       "      buttonEl.style.display =\n",
       "        google.colab.kernel.accessAllowed ? 'block' : 'none';\n",
       "\n",
       "      async function convertToInteractive(key) {\n",
       "        const element = document.querySelector('#df-9a583879-eb46-459d-8d98-a06905dde43e');\n",
       "        const dataTable =\n",
       "          await google.colab.kernel.invokeFunction('convertToInteractive',\n",
       "                                                    [key], {});\n",
       "        if (!dataTable) return;\n",
       "\n",
       "        const docLinkHtml = 'Like what you see? Visit the ' +\n",
       "          '<a target=\"_blank\" href=https://colab.research.google.com/notebooks/data_table.ipynb>data table notebook</a>'\n",
       "          + ' to learn more about interactive tables.';\n",
       "        element.innerHTML = '';\n",
       "        dataTable['output_type'] = 'display_data';\n",
       "        await google.colab.output.renderOutput(dataTable, element);\n",
       "        const docLink = document.createElement('div');\n",
       "        docLink.innerHTML = docLinkHtml;\n",
       "        element.appendChild(docLink);\n",
       "      }\n",
       "    </script>\n",
       "  </div>\n",
       "\n",
       "\n",
       "    <div id=\"df-9137b067-3a87-4208-832a-c2f35b8e4283\">\n",
       "      <button class=\"colab-df-quickchart\" onclick=\"quickchart('df-9137b067-3a87-4208-832a-c2f35b8e4283')\"\n",
       "                title=\"Suggest charts\"\n",
       "                style=\"display:none;\">\n",
       "\n",
       "<svg xmlns=\"http://www.w3.org/2000/svg\" height=\"24px\"viewBox=\"0 0 24 24\"\n",
       "     width=\"24px\">\n",
       "    <g>\n",
       "        <path d=\"M19 3H5c-1.1 0-2 .9-2 2v14c0 1.1.9 2 2 2h14c1.1 0 2-.9 2-2V5c0-1.1-.9-2-2-2zM9 17H7v-7h2v7zm4 0h-2V7h2v10zm4 0h-2v-4h2v4z\"/>\n",
       "    </g>\n",
       "</svg>\n",
       "      </button>\n",
       "\n",
       "<style>\n",
       "  .colab-df-quickchart {\n",
       "      --bg-color: #E8F0FE;\n",
       "      --fill-color: #1967D2;\n",
       "      --hover-bg-color: #E2EBFA;\n",
       "      --hover-fill-color: #174EA6;\n",
       "      --disabled-fill-color: #AAA;\n",
       "      --disabled-bg-color: #DDD;\n",
       "  }\n",
       "\n",
       "  [theme=dark] .colab-df-quickchart {\n",
       "      --bg-color: #3B4455;\n",
       "      --fill-color: #D2E3FC;\n",
       "      --hover-bg-color: #434B5C;\n",
       "      --hover-fill-color: #FFFFFF;\n",
       "      --disabled-bg-color: #3B4455;\n",
       "      --disabled-fill-color: #666;\n",
       "  }\n",
       "\n",
       "  .colab-df-quickchart {\n",
       "    background-color: var(--bg-color);\n",
       "    border: none;\n",
       "    border-radius: 50%;\n",
       "    cursor: pointer;\n",
       "    display: none;\n",
       "    fill: var(--fill-color);\n",
       "    height: 32px;\n",
       "    padding: 0;\n",
       "    width: 32px;\n",
       "  }\n",
       "\n",
       "  .colab-df-quickchart:hover {\n",
       "    background-color: var(--hover-bg-color);\n",
       "    box-shadow: 0 1px 2px rgba(60, 64, 67, 0.3), 0 1px 3px 1px rgba(60, 64, 67, 0.15);\n",
       "    fill: var(--button-hover-fill-color);\n",
       "  }\n",
       "\n",
       "  .colab-df-quickchart-complete:disabled,\n",
       "  .colab-df-quickchart-complete:disabled:hover {\n",
       "    background-color: var(--disabled-bg-color);\n",
       "    fill: var(--disabled-fill-color);\n",
       "    box-shadow: none;\n",
       "  }\n",
       "\n",
       "  .colab-df-spinner {\n",
       "    border: 2px solid var(--fill-color);\n",
       "    border-color: transparent;\n",
       "    border-bottom-color: var(--fill-color);\n",
       "    animation:\n",
       "      spin 1s steps(1) infinite;\n",
       "  }\n",
       "\n",
       "  @keyframes spin {\n",
       "    0% {\n",
       "      border-color: transparent;\n",
       "      border-bottom-color: var(--fill-color);\n",
       "      border-left-color: var(--fill-color);\n",
       "    }\n",
       "    20% {\n",
       "      border-color: transparent;\n",
       "      border-left-color: var(--fill-color);\n",
       "      border-top-color: var(--fill-color);\n",
       "    }\n",
       "    30% {\n",
       "      border-color: transparent;\n",
       "      border-left-color: var(--fill-color);\n",
       "      border-top-color: var(--fill-color);\n",
       "      border-right-color: var(--fill-color);\n",
       "    }\n",
       "    40% {\n",
       "      border-color: transparent;\n",
       "      border-right-color: var(--fill-color);\n",
       "      border-top-color: var(--fill-color);\n",
       "    }\n",
       "    60% {\n",
       "      border-color: transparent;\n",
       "      border-right-color: var(--fill-color);\n",
       "    }\n",
       "    80% {\n",
       "      border-color: transparent;\n",
       "      border-right-color: var(--fill-color);\n",
       "      border-bottom-color: var(--fill-color);\n",
       "    }\n",
       "    90% {\n",
       "      border-color: transparent;\n",
       "      border-bottom-color: var(--fill-color);\n",
       "    }\n",
       "  }\n",
       "</style>\n",
       "\n",
       "      <script>\n",
       "        async function quickchart(key) {\n",
       "          const quickchartButtonEl =\n",
       "            document.querySelector('#' + key + ' button');\n",
       "          quickchartButtonEl.disabled = true;  // To prevent multiple clicks.\n",
       "          quickchartButtonEl.classList.add('colab-df-spinner');\n",
       "          try {\n",
       "            const charts = await google.colab.kernel.invokeFunction(\n",
       "                'suggestCharts', [key], {});\n",
       "          } catch (error) {\n",
       "            console.error('Error during call to suggestCharts:', error);\n",
       "          }\n",
       "          quickchartButtonEl.classList.remove('colab-df-spinner');\n",
       "          quickchartButtonEl.classList.add('colab-df-quickchart-complete');\n",
       "        }\n",
       "        (() => {\n",
       "          let quickchartButtonEl =\n",
       "            document.querySelector('#df-9137b067-3a87-4208-832a-c2f35b8e4283 button');\n",
       "          quickchartButtonEl.style.display =\n",
       "            google.colab.kernel.accessAllowed ? 'block' : 'none';\n",
       "        })();\n",
       "      </script>\n",
       "    </div>\n",
       "\n",
       "    </div>\n",
       "  </div>\n"
      ],
      "text/plain": [
       "                   condition_name       nct_id  \\\n",
       "0  Congenital Adrenal Hyperplasia  NCT00000102   \n",
       "1                  Lead Poisoning  NCT00000104   \n",
       "2                          Cancer  NCT00000105   \n",
       "3              Rheumatic Diseases  NCT00000106   \n",
       "4       Heart Defects, Congenital  NCT00000107   \n",
       "\n",
       "                                         brief_title  \n",
       "0  Congenital Adrenal Hyperplasia: Calcium Channe...  \n",
       "1  Does Lead Burden Alter Neuropsychological Deve...  \n",
       "2  Vaccination With Tetanus and KLH to Assess Imm...  \n",
       "3  41.8 Degree Centigrade Whole Body Hyperthermia...  \n",
       "4  Body Water Content in Cyanotic Congenital Hear...  "
      ]
     },
     "execution_count": 25,
     "metadata": {},
     "output_type": "execute_result"
    }
   ],
   "source": [
    "query = \"\"\"\n",
    "SELECT\n",
    "    c.name AS condition_name,\n",
    "    s.nct_id,\n",
    "    s.brief_title\n",
    "FROM\n",
    "    conditions c\n",
    "JOIN\n",
    "    studies s ON c.nct_id = s.nct_id\n",
    "LIMIT 500;\n",
    "\"\"\"\n",
    "trials_df = pd.read_sql(query, conn)\n",
    "trials_df.head()"
   ]
  },
  {
   "cell_type": "code",
   "execution_count": 26,
   "id": "803e4d13",
   "metadata": {
    "colab": {
     "base_uri": "https://localhost:8080/",
     "height": 261
    },
    "id": "fgIe0ckXQ_pW",
    "outputId": "2f6093f0-d1ce-4365-f98d-5b16bfa24087"
   },
   "outputs": [
    {
     "name": "stderr",
     "output_type": "stream",
     "text": [
      "/tmp/ipython-input-26-3604274592.py:18: UserWarning: pandas only supports SQLAlchemy connectable (engine/connection) or database string URI or sqlite3 DBAPI2 connection. Other DBAPI2 objects are not tested. Please consider using SQLAlchemy.\n",
      "  trials_df = pd.read_sql(query, conn)\n"
     ]
    },
    {
     "data": {
      "application/vnd.google.colaboratory.intrinsic+json": {
       "summary": "{\n  \"name\": \"trials_df\",\n  \"rows\": 5000,\n  \"fields\": [\n    {\n      \"column\": \"condition_name\",\n      \"properties\": {\n        \"dtype\": \"category\",\n        \"num_unique_values\": 1302,\n        \"samples\": [\n          \"acute respiratory distress\",\n          \"advanced bladder cancer\",\n          \"acute-graft-versus-host disease\"\n        ],\n        \"semantic_type\": \"\",\n        \"description\": \"\"\n      }\n    },\n    {\n      \"column\": \"nct_id\",\n      \"properties\": {\n        \"dtype\": \"string\",\n        \"num_unique_values\": 4329,\n        \"samples\": [\n          \"NCT05145868\",\n          \"NCT05858814\",\n          \"NCT05794477\"\n        ],\n        \"semantic_type\": \"\",\n        \"description\": \"\"\n      }\n    },\n    {\n      \"column\": \"brief_title\",\n      \"properties\": {\n        \"dtype\": \"string\",\n        \"num_unique_values\": 4325,\n        \"samples\": [\n          \"CalPeg for Newly Diagnosed Acute Lymphoblastic Leukemia (ALL)\",\n          \"3D Printed Personalized Ostomy Appliance\",\n          \"Efficacy of Placebo Versus Chlorpheniramine for the Prevention of Allergic Transfusion Reactions.\"\n        ],\n        \"semantic_type\": \"\",\n        \"description\": \"\"\n      }\n    },\n    {\n      \"column\": \"overall_status\",\n      \"properties\": {\n        \"dtype\": \"category\",\n        \"num_unique_values\": 1,\n        \"samples\": [\n          \"RECRUITING\"\n        ],\n        \"semantic_type\": \"\",\n        \"description\": \"\"\n      }\n    },\n    {\n      \"column\": \"study_type\",\n      \"properties\": {\n        \"dtype\": \"category\",\n        \"num_unique_values\": 1,\n        \"samples\": [\n          \"INTERVENTIONAL\"\n        ],\n        \"semantic_type\": \"\",\n        \"description\": \"\"\n      }\n    }\n  ]\n}",
       "type": "dataframe",
       "variable_name": "trials_df"
      },
      "text/html": [
       "\n",
       "  <div id=\"df-369d279d-f74e-406c-9924-46387a71fac8\" class=\"colab-df-container\">\n",
       "    <div>\n",
       "<style scoped>\n",
       "    .dataframe tbody tr th:only-of-type {\n",
       "        vertical-align: middle;\n",
       "    }\n",
       "\n",
       "    .dataframe tbody tr th {\n",
       "        vertical-align: top;\n",
       "    }\n",
       "\n",
       "    .dataframe thead th {\n",
       "        text-align: right;\n",
       "    }\n",
       "</style>\n",
       "<table border=\"1\" class=\"dataframe\">\n",
       "  <thead>\n",
       "    <tr style=\"text-align: right;\">\n",
       "      <th></th>\n",
       "      <th>condition_name</th>\n",
       "      <th>nct_id</th>\n",
       "      <th>brief_title</th>\n",
       "      <th>overall_status</th>\n",
       "      <th>study_type</th>\n",
       "    </tr>\n",
       "  </thead>\n",
       "  <tbody>\n",
       "    <tr>\n",
       "      <th>0</th>\n",
       "      <td>03 - bacteria</td>\n",
       "      <td>NCT06988514</td>\n",
       "      <td>Stool Collection for Model</td>\n",
       "      <td>RECRUITING</td>\n",
       "      <td>INTERVENTIONAL</td>\n",
       "    </tr>\n",
       "    <tr>\n",
       "      <th>1</th>\n",
       "      <td>177lu-eb-fapi</td>\n",
       "      <td>NCT05400967</td>\n",
       "      <td>Diagnosis of Metastatic Tumors on 68Ga-FAPI PE...</td>\n",
       "      <td>RECRUITING</td>\n",
       "      <td>INTERVENTIONAL</td>\n",
       "    </tr>\n",
       "    <tr>\n",
       "      <th>2</th>\n",
       "      <td>18f-fdg pet/ct</td>\n",
       "      <td>NCT07048405</td>\n",
       "      <td>Intermittent Cold Exposure and Brown Adipose T...</td>\n",
       "      <td>RECRUITING</td>\n",
       "      <td>INTERVENTIONAL</td>\n",
       "    </tr>\n",
       "    <tr>\n",
       "      <th>3</th>\n",
       "      <td>18 years and over</td>\n",
       "      <td>NCT06300827</td>\n",
       "      <td>The Effect of Structured Digital-Based Educati...</td>\n",
       "      <td>RECRUITING</td>\n",
       "      <td>INTERVENTIONAL</td>\n",
       "    </tr>\n",
       "    <tr>\n",
       "      <th>4</th>\n",
       "      <td>19 and 20+ b cell hematologic tumors</td>\n",
       "      <td>NCT05388695</td>\n",
       "      <td>To Observe the Dual-target Chimeric Antigen Re...</td>\n",
       "      <td>RECRUITING</td>\n",
       "      <td>INTERVENTIONAL</td>\n",
       "    </tr>\n",
       "  </tbody>\n",
       "</table>\n",
       "</div>\n",
       "    <div class=\"colab-df-buttons\">\n",
       "\n",
       "  <div class=\"colab-df-container\">\n",
       "    <button class=\"colab-df-convert\" onclick=\"convertToInteractive('df-369d279d-f74e-406c-9924-46387a71fac8')\"\n",
       "            title=\"Convert this dataframe to an interactive table.\"\n",
       "            style=\"display:none;\">\n",
       "\n",
       "  <svg xmlns=\"http://www.w3.org/2000/svg\" height=\"24px\" viewBox=\"0 -960 960 960\">\n",
       "    <path d=\"M120-120v-720h720v720H120Zm60-500h600v-160H180v160Zm220 220h160v-160H400v160Zm0 220h160v-160H400v160ZM180-400h160v-160H180v160Zm440 0h160v-160H620v160ZM180-180h160v-160H180v160Zm440 0h160v-160H620v160Z\"/>\n",
       "  </svg>\n",
       "    </button>\n",
       "\n",
       "  <style>\n",
       "    .colab-df-container {\n",
       "      display:flex;\n",
       "      gap: 12px;\n",
       "    }\n",
       "\n",
       "    .colab-df-convert {\n",
       "      background-color: #E8F0FE;\n",
       "      border: none;\n",
       "      border-radius: 50%;\n",
       "      cursor: pointer;\n",
       "      display: none;\n",
       "      fill: #1967D2;\n",
       "      height: 32px;\n",
       "      padding: 0 0 0 0;\n",
       "      width: 32px;\n",
       "    }\n",
       "\n",
       "    .colab-df-convert:hover {\n",
       "      background-color: #E2EBFA;\n",
       "      box-shadow: 0px 1px 2px rgba(60, 64, 67, 0.3), 0px 1px 3px 1px rgba(60, 64, 67, 0.15);\n",
       "      fill: #174EA6;\n",
       "    }\n",
       "\n",
       "    .colab-df-buttons div {\n",
       "      margin-bottom: 4px;\n",
       "    }\n",
       "\n",
       "    [theme=dark] .colab-df-convert {\n",
       "      background-color: #3B4455;\n",
       "      fill: #D2E3FC;\n",
       "    }\n",
       "\n",
       "    [theme=dark] .colab-df-convert:hover {\n",
       "      background-color: #434B5C;\n",
       "      box-shadow: 0px 1px 3px 1px rgba(0, 0, 0, 0.15);\n",
       "      filter: drop-shadow(0px 1px 2px rgba(0, 0, 0, 0.3));\n",
       "      fill: #FFFFFF;\n",
       "    }\n",
       "  </style>\n",
       "\n",
       "    <script>\n",
       "      const buttonEl =\n",
       "        document.querySelector('#df-369d279d-f74e-406c-9924-46387a71fac8 button.colab-df-convert');\n",
       "      buttonEl.style.display =\n",
       "        google.colab.kernel.accessAllowed ? 'block' : 'none';\n",
       "\n",
       "      async function convertToInteractive(key) {\n",
       "        const element = document.querySelector('#df-369d279d-f74e-406c-9924-46387a71fac8');\n",
       "        const dataTable =\n",
       "          await google.colab.kernel.invokeFunction('convertToInteractive',\n",
       "                                                    [key], {});\n",
       "        if (!dataTable) return;\n",
       "\n",
       "        const docLinkHtml = 'Like what you see? Visit the ' +\n",
       "          '<a target=\"_blank\" href=https://colab.research.google.com/notebooks/data_table.ipynb>data table notebook</a>'\n",
       "          + ' to learn more about interactive tables.';\n",
       "        element.innerHTML = '';\n",
       "        dataTable['output_type'] = 'display_data';\n",
       "        await google.colab.output.renderOutput(dataTable, element);\n",
       "        const docLink = document.createElement('div');\n",
       "        docLink.innerHTML = docLinkHtml;\n",
       "        element.appendChild(docLink);\n",
       "      }\n",
       "    </script>\n",
       "  </div>\n",
       "\n",
       "\n",
       "    <div id=\"df-6f497598-cd1c-4897-b05e-6eb98492175f\">\n",
       "      <button class=\"colab-df-quickchart\" onclick=\"quickchart('df-6f497598-cd1c-4897-b05e-6eb98492175f')\"\n",
       "                title=\"Suggest charts\"\n",
       "                style=\"display:none;\">\n",
       "\n",
       "<svg xmlns=\"http://www.w3.org/2000/svg\" height=\"24px\"viewBox=\"0 0 24 24\"\n",
       "     width=\"24px\">\n",
       "    <g>\n",
       "        <path d=\"M19 3H5c-1.1 0-2 .9-2 2v14c0 1.1.9 2 2 2h14c1.1 0 2-.9 2-2V5c0-1.1-.9-2-2-2zM9 17H7v-7h2v7zm4 0h-2V7h2v10zm4 0h-2v-4h2v4z\"/>\n",
       "    </g>\n",
       "</svg>\n",
       "      </button>\n",
       "\n",
       "<style>\n",
       "  .colab-df-quickchart {\n",
       "      --bg-color: #E8F0FE;\n",
       "      --fill-color: #1967D2;\n",
       "      --hover-bg-color: #E2EBFA;\n",
       "      --hover-fill-color: #174EA6;\n",
       "      --disabled-fill-color: #AAA;\n",
       "      --disabled-bg-color: #DDD;\n",
       "  }\n",
       "\n",
       "  [theme=dark] .colab-df-quickchart {\n",
       "      --bg-color: #3B4455;\n",
       "      --fill-color: #D2E3FC;\n",
       "      --hover-bg-color: #434B5C;\n",
       "      --hover-fill-color: #FFFFFF;\n",
       "      --disabled-bg-color: #3B4455;\n",
       "      --disabled-fill-color: #666;\n",
       "  }\n",
       "\n",
       "  .colab-df-quickchart {\n",
       "    background-color: var(--bg-color);\n",
       "    border: none;\n",
       "    border-radius: 50%;\n",
       "    cursor: pointer;\n",
       "    display: none;\n",
       "    fill: var(--fill-color);\n",
       "    height: 32px;\n",
       "    padding: 0;\n",
       "    width: 32px;\n",
       "  }\n",
       "\n",
       "  .colab-df-quickchart:hover {\n",
       "    background-color: var(--hover-bg-color);\n",
       "    box-shadow: 0 1px 2px rgba(60, 64, 67, 0.3), 0 1px 3px 1px rgba(60, 64, 67, 0.15);\n",
       "    fill: var(--button-hover-fill-color);\n",
       "  }\n",
       "\n",
       "  .colab-df-quickchart-complete:disabled,\n",
       "  .colab-df-quickchart-complete:disabled:hover {\n",
       "    background-color: var(--disabled-bg-color);\n",
       "    fill: var(--disabled-fill-color);\n",
       "    box-shadow: none;\n",
       "  }\n",
       "\n",
       "  .colab-df-spinner {\n",
       "    border: 2px solid var(--fill-color);\n",
       "    border-color: transparent;\n",
       "    border-bottom-color: var(--fill-color);\n",
       "    animation:\n",
       "      spin 1s steps(1) infinite;\n",
       "  }\n",
       "\n",
       "  @keyframes spin {\n",
       "    0% {\n",
       "      border-color: transparent;\n",
       "      border-bottom-color: var(--fill-color);\n",
       "      border-left-color: var(--fill-color);\n",
       "    }\n",
       "    20% {\n",
       "      border-color: transparent;\n",
       "      border-left-color: var(--fill-color);\n",
       "      border-top-color: var(--fill-color);\n",
       "    }\n",
       "    30% {\n",
       "      border-color: transparent;\n",
       "      border-left-color: var(--fill-color);\n",
       "      border-top-color: var(--fill-color);\n",
       "      border-right-color: var(--fill-color);\n",
       "    }\n",
       "    40% {\n",
       "      border-color: transparent;\n",
       "      border-right-color: var(--fill-color);\n",
       "      border-top-color: var(--fill-color);\n",
       "    }\n",
       "    60% {\n",
       "      border-color: transparent;\n",
       "      border-right-color: var(--fill-color);\n",
       "    }\n",
       "    80% {\n",
       "      border-color: transparent;\n",
       "      border-right-color: var(--fill-color);\n",
       "      border-bottom-color: var(--fill-color);\n",
       "    }\n",
       "    90% {\n",
       "      border-color: transparent;\n",
       "      border-bottom-color: var(--fill-color);\n",
       "    }\n",
       "  }\n",
       "</style>\n",
       "\n",
       "      <script>\n",
       "        async function quickchart(key) {\n",
       "          const quickchartButtonEl =\n",
       "            document.querySelector('#' + key + ' button');\n",
       "          quickchartButtonEl.disabled = true;  // To prevent multiple clicks.\n",
       "          quickchartButtonEl.classList.add('colab-df-spinner');\n",
       "          try {\n",
       "            const charts = await google.colab.kernel.invokeFunction(\n",
       "                'suggestCharts', [key], {});\n",
       "          } catch (error) {\n",
       "            console.error('Error during call to suggestCharts:', error);\n",
       "          }\n",
       "          quickchartButtonEl.classList.remove('colab-df-spinner');\n",
       "          quickchartButtonEl.classList.add('colab-df-quickchart-complete');\n",
       "        }\n",
       "        (() => {\n",
       "          let quickchartButtonEl =\n",
       "            document.querySelector('#df-6f497598-cd1c-4897-b05e-6eb98492175f button');\n",
       "          quickchartButtonEl.style.display =\n",
       "            google.colab.kernel.accessAllowed ? 'block' : 'none';\n",
       "        })();\n",
       "      </script>\n",
       "    </div>\n",
       "\n",
       "    </div>\n",
       "  </div>\n"
      ],
      "text/plain": [
       "                         condition_name       nct_id  \\\n",
       "0                         03 - bacteria  NCT06988514   \n",
       "1                         177lu-eb-fapi  NCT05400967   \n",
       "2                        18f-fdg pet/ct  NCT07048405   \n",
       "3                     18 years and over  NCT06300827   \n",
       "4  19 and 20+ b cell hematologic tumors  NCT05388695   \n",
       "\n",
       "                                         brief_title overall_status  \\\n",
       "0                         Stool Collection for Model     RECRUITING   \n",
       "1  Diagnosis of Metastatic Tumors on 68Ga-FAPI PE...     RECRUITING   \n",
       "2  Intermittent Cold Exposure and Brown Adipose T...     RECRUITING   \n",
       "3  The Effect of Structured Digital-Based Educati...     RECRUITING   \n",
       "4  To Observe the Dual-target Chimeric Antigen Re...     RECRUITING   \n",
       "\n",
       "       study_type  \n",
       "0  INTERVENTIONAL  \n",
       "1  INTERVENTIONAL  \n",
       "2  INTERVENTIONAL  \n",
       "3  INTERVENTIONAL  \n",
       "4  INTERVENTIONAL  "
      ]
     },
     "execution_count": 26,
     "metadata": {},
     "output_type": "execute_result"
    }
   ],
   "source": [
    "query = \"\"\"\n",
    "SELECT DISTINCT\n",
    "    LOWER(TRIM(c.name)) AS condition_name,\n",
    "    s.nct_id,\n",
    "    s.brief_title,\n",
    "    s.overall_status,\n",
    "    s.study_type\n",
    "FROM\n",
    "    conditions c\n",
    "JOIN\n",
    "    studies s ON c.nct_id = s.nct_id\n",
    "WHERE\n",
    "    LOWER(s.study_type) = 'interventional'\n",
    "    AND LOWER(s.overall_status) IN ('recruiting', 'not yet recruiting', 'active, not recruiting')\n",
    "    AND c.name IS NOT NULL\n",
    "LIMIT 5000;\n",
    "\"\"\"\n",
    "trials_df = pd.read_sql(query, conn)\n",
    "trials_df.head()"
   ]
  },
  {
   "cell_type": "code",
   "execution_count": 27,
   "id": "c6985c83",
   "metadata": {
    "colab": {
     "base_uri": "https://localhost:8080/"
    },
    "id": "1ZzMOG4xMr07",
    "outputId": "268b7832-69fe-4c1d-80e8-1142cc29945f"
   },
   "outputs": [
    {
     "name": "stdout",
     "output_type": "stream",
     "text": [
      "\n",
      "✅ Trial enrichment complete.\n",
      "📦 Added 63 trial nodes and 🔗 63 edges.\n",
      "🧪 Sample links:\n",
      "🔗 Disease::DOID:7693 → studied_in → ClinicalTrial::NCT02548546\n",
      "🔗 Disease::DOID:7693 → studied_in → ClinicalTrial::NCT03918460\n",
      "🔗 Disease::DOID:7693 → studied_in → ClinicalTrial::NCT04307992\n",
      "🔗 Disease::DOID:7693 → studied_in → ClinicalTrial::NCT04500756\n",
      "🔗 Disease::DOID:7693 → studied_in → ClinicalTrial::NCT04746677\n"
     ]
    }
   ],
   "source": [
    "added_nodes = 0\n",
    "added_edges = 0\n",
    "linked = []\n",
    "\n",
    "for _, row in trials_df.iterrows():\n",
    "    disease_name = row[\"condition_name\"].strip().lower()\n",
    "    nct_id = row[\"nct_id\"]\n",
    "    title = row[\"brief_title\"]\n",
    "\n",
    "    # Match disease node by name (case-insensitive)\n",
    "    matched_nodes = [\n",
    "        n for n, d in G.nodes(data=True)\n",
    "        if d.get(\"label\") == \"Disease\" and d.get(\"name\", \"\").strip().lower() == disease_name\n",
    "    ]\n",
    "\n",
    "    for disease_node in matched_nodes:\n",
    "        trial_node = f\"ClinicalTrial::{nct_id}\"\n",
    "\n",
    "        if not G.has_node(trial_node):\n",
    "            G.add_node(trial_node, label=\"ClinicalTrial\", name=title)\n",
    "            added_nodes += 1\n",
    "\n",
    "        if not G.has_edge(disease_node, trial_node):\n",
    "            G.add_edge(disease_node, trial_node, relation=\"studied_in\")\n",
    "            added_edges += 1\n",
    "            linked.append((disease_node, trial_node))\n",
    "\n",
    "print(f\"\\n✅ Trial enrichment complete.\")\n",
    "print(f\"📦 Added {added_nodes} trial nodes and 🔗 {added_edges} edges.\")\n",
    "print(\"🧪 Sample links:\")\n",
    "for u, v in linked[:5]:\n",
    "    print(f\"🔗 {u} → studied_in → {v}\")\n"
   ]
  },
  {
   "cell_type": "code",
   "execution_count": 30,
   "id": "b4f62ee6",
   "metadata": {
    "id": "4wQIwUxfNcCJ"
   },
   "outputs": [],
   "source": [
    "gene_nodes = [\n",
    "    (n, d.get(\"name\")) for n, d in G.nodes(data=True)\n",
    "    if d.get(\"label\") == \"Gene\" and d.get(\"name\")\n",
    "]\n"
   ]
  },
  {
   "cell_type": "code",
   "execution_count": 36,
   "id": "a43952b9",
   "metadata": {
    "colab": {
     "base_uri": "https://localhost:8080/"
    },
    "id": "i_hJrPm-Ou0Y",
    "outputId": "f4b5b2b7-ce8c-4a13-852c-1c8b0945e4fd"
   },
   "outputs": [
    {
     "name": "stderr",
     "output_type": "stream",
     "text": [
      "100%|██████████| 100/100 [00:16<00:00,  5.96it/s]"
     ]
    },
    {
     "name": "stdout",
     "output_type": "stream",
     "text": [
      "\n",
      "✅ Enrichment complete.\n",
      "📦 Added 0 disease nodes and 🔗 0 edges.\n",
      "⏭️ Skipped 100 queries.\n"
     ]
    },
    {
     "name": "stderr",
     "output_type": "stream",
     "text": [
      "\n"
     ]
    }
   ],
   "source": [
    "added_diseases = 0\n",
    "added_edges = 0\n",
    "skipped = 0\n",
    "\n",
    "for node, ensembl_id in tqdm(gene_nodes[:100]):  # test range if needed\n",
    "    query = gql(f\"\"\"\n",
    "    query {{\n",
    "      target(ensemblId: \"{ensembl_id}\") {{\n",
    "        associatedDiseases(page: {{ index: 0, size: 10 }}) {{\n",
    "          rows {{\n",
    "            disease {{ id name }}\n",
    "            score\n",
    "          }}\n",
    "        }}\n",
    "      }}\n",
    "    }}\n",
    "    \"\"\")\n",
    "    try:\n",
    "        result = client.execute(query)\n",
    "        target_block = result.get(\"target\")\n",
    "        if not target_block:\n",
    "            skipped += 1\n",
    "            continue\n",
    "\n",
    "        rows = target_block.get(\"associatedDiseases\", {}).get(\"rows\", [])\n",
    "        for row in rows:\n",
    "            raw_id = row[\"disease\"][\"id\"]\n",
    "            disease_id = f\"Disease::{raw_id}\"\n",
    "            disease_name = row[\"disease\"][\"name\"]\n",
    "            score = row.get(\"score\", 0)\n",
    "\n",
    "            # Always set or update name\n",
    "            if not G.has_node(disease_id):\n",
    "                G.add_node(disease_id, label=\"Disease\", name=disease_name)\n",
    "                added_diseases += 1\n",
    "            else:\n",
    "                G.nodes[disease_id][\"label\"] = \"Disease\"\n",
    "                G.nodes[disease_id][\"name\"] = disease_name\n",
    "\n",
    "            if not G.has_edge(node, disease_id):\n",
    "                G.add_edge(node, disease_id, relation=\"associated_with\", score=score)\n",
    "                added_edges += 1\n",
    "\n",
    "    except Exception as e:\n",
    "        print(f\"⚠️ Error for {ensembl_id}: {e}\")\n",
    "        skipped += 1\n",
    "\n",
    "print(f\"\\n✅ Enrichment complete.\")\n",
    "print(f\"📦 Added {added_diseases} disease nodes and 🔗 {added_edges} edges.\")\n",
    "print(f\"⏭️ Skipped {skipped} queries.\")\n"
   ]
  },
  {
   "cell_type": "code",
   "execution_count": 40,
   "id": "dec3d3f1",
   "metadata": {
    "id": "7x4trwciReiY"
   },
   "outputs": [],
   "source": [
    "BIOPORTAL_APIKEY = \"41a17e7d-a975-4fc3-a0c7-f6a1915ea89a\"  # my real API key\n"
   ]
  },
  {
   "cell_type": "markdown",
   "id": "469a87ed",
   "metadata": {},
   "source": [
    "## 4. Load or Build Your Graph <a id='load-graph'></a>"
   ]
  },
  {
   "cell_type": "code",
   "execution_count": 1,
   "id": "d8460273",
   "metadata": {
    "colab": {
     "base_uri": "https://localhost:8080/"
    },
    "id": "xa7jmPiVur_1",
    "outputId": "0bb7b763-25c0-44c2-f24a-1d12d37aa4df"
   },
   "outputs": [
    {
     "name": "stdout",
     "output_type": "stream",
     "text": [
      "Requirement already satisfied: pandas in /usr/local/lib/python3.11/dist-packages (2.2.2)\n",
      "Requirement already satisfied: networkx in /usr/local/lib/python3.11/dist-packages (3.5)\n",
      "Requirement already satisfied: matplotlib in /usr/local/lib/python3.11/dist-packages (3.10.0)\n",
      "Requirement already satisfied: requests in /usr/local/lib/python3.11/dist-packages (2.32.3)\n",
      "Requirement already satisfied: tqdm in /usr/local/lib/python3.11/dist-packages (4.67.1)\n",
      "Requirement already satisfied: numpy>=1.23.2 in /usr/local/lib/python3.11/dist-packages (from pandas) (2.0.2)\n",
      "Requirement already satisfied: python-dateutil>=2.8.2 in /usr/local/lib/python3.11/dist-packages (from pandas) (2.9.0.post0)\n",
      "Requirement already satisfied: pytz>=2020.1 in /usr/local/lib/python3.11/dist-packages (from pandas) (2025.2)\n",
      "Requirement already satisfied: tzdata>=2022.7 in /usr/local/lib/python3.11/dist-packages (from pandas) (2025.2)\n",
      "Requirement already satisfied: contourpy>=1.0.1 in /usr/local/lib/python3.11/dist-packages (from matplotlib) (1.3.2)\n",
      "Requirement already satisfied: cycler>=0.10 in /usr/local/lib/python3.11/dist-packages (from matplotlib) (0.12.1)\n",
      "Requirement already satisfied: fonttools>=4.22.0 in /usr/local/lib/python3.11/dist-packages (from matplotlib) (4.58.5)\n",
      "Requirement already satisfied: kiwisolver>=1.3.1 in /usr/local/lib/python3.11/dist-packages (from matplotlib) (1.4.8)\n",
      "Requirement already satisfied: packaging>=20.0 in /usr/local/lib/python3.11/dist-packages (from matplotlib) (24.2)\n",
      "Requirement already satisfied: pillow>=8 in /usr/local/lib/python3.11/dist-packages (from matplotlib) (11.2.1)\n",
      "Requirement already satisfied: pyparsing>=2.3.1 in /usr/local/lib/python3.11/dist-packages (from matplotlib) (3.2.3)\n",
      "Requirement already satisfied: charset-normalizer<4,>=2 in /usr/local/lib/python3.11/dist-packages (from requests) (3.4.2)\n",
      "Requirement already satisfied: idna<4,>=2.5 in /usr/local/lib/python3.11/dist-packages (from requests) (3.10)\n",
      "Requirement already satisfied: urllib3<3,>=1.21.1 in /usr/local/lib/python3.11/dist-packages (from requests) (2.4.0)\n",
      "Requirement already satisfied: certifi>=2017.4.17 in /usr/local/lib/python3.11/dist-packages (from requests) (2025.7.9)\n",
      "Requirement already satisfied: six>=1.5 in /usr/local/lib/python3.11/dist-packages (from python-dateutil>=2.8.2->pandas) (1.17.0)\n"
     ]
    }
   ],
   "source": [
    "pip install pandas networkx matplotlib requests tqdm\n"
   ]
  },
  {
   "cell_type": "markdown",
   "id": "c14c50ce",
   "metadata": {},
   "source": [
    "## 5. Enrich Genes with UniProt <a id='enrich-genes'></a>"
   ]
  },
  {
   "cell_type": "markdown",
   "id": "db5aaa79",
   "metadata": {},
   "source": [
    "## 6. Enrich Diseases with MeSH/OMIM <a id='enrich-diseases'></a>"
   ]
  },
  {
   "cell_type": "code",
   "execution_count": 6,
   "id": "4fc4a8db",
   "metadata": {
    "id": "s9GPPh64VWjW"
   },
   "outputs": [],
   "source": [
    "def enrich_diseases_with_mesh_omim(G, max_diseases=200):\n",
    "    print(\"📚 Enriching diseases with MeSH/OMIM using BioPortal (fuzzy match)...\")\n",
    "\n",
    "    search_url = \"https://data.bioontology.org/search\"\n",
    "    disease_nodes = [n for n, d in G.nodes(data=True) if d.get(\"label\") == \"Disease\"]\n",
    "    disease_nodes = disease_nodes[:max_diseases]\n",
    "\n",
    "    for node_id in disease_nodes:\n",
    "        disease_name = G.nodes[node_id].get(\"name\")\n",
    "        if not disease_name:\n",
    "            continue\n",
    "\n",
    "        try:\n",
    "            params = {\n",
    "                \"q\": disease_name,\n",
    "                \"ontologies\": \"MESH,OMIM\",\n",
    "                \"format\": \"json\",\n",
    "                \"pagesize\": 1  # only need top hit\n",
    "            }\n",
    "            response = requests.get(search_url, params=params)\n",
    "            data = response.json()\n",
    "\n",
    "            if data.get(\"collection\"):\n",
    "                match = data[\"collection\"][0]\n",
    "                G.nodes[node_id][\"bioportal_id\"] = match.get(\"@id\")\n",
    "                G.nodes[node_id][\"bioportal_label\"] = match.get(\"prefLabel\")\n",
    "                G.nodes[node_id][\"bioportal_synonyms\"] = match.get(\"synonym\")\n",
    "                G.nodes[node_id][\"bioportal_links\"] = match.get(\"links\", {}).get(\"self\")\n",
    "\n",
    "        except Exception as e:\n",
    "            print(f\"⚠️ {disease_name}: {e}\")\n",
    "\n",
    "        time.sleep(0.3)\n",
    "\n",
    "    print(\"✅ Fuzzy disease enrichment complete.\")\n"
   ]
  },
  {
   "cell_type": "markdown",
   "id": "f689400a",
   "metadata": {},
   "source": [
    "## 7. Results & Visualization <a id='visualization'></a>"
   ]
  },
  {
   "cell_type": "markdown",
   "id": "b72d66b1",
   "metadata": {},
   "source": [
    "## 8. Save & Export <a id='save-export'></a>"
   ]
  },
  {
   "cell_type": "markdown",
   "id": "584903fe",
   "metadata": {},
   "source": [
    "## 9. Next Steps & References <a id='next-steps'></a>\n",
    "- Consider adding Ensembl integration.\n",
    "- Extend with additional data sources or visualizations."
   ]
  },
  {
   "cell_type": "code",
   "execution_count": 2,
   "id": "74fcc727",
   "metadata": {
    "colab": {
     "base_uri": "https://localhost:8080/"
    },
    "id": "BLkYCZCbTZjd",
    "outputId": "deef8ea4-7756-48e1-e903-002da2a50ebd"
   },
   "outputs": [
    {
     "name": "stdout",
     "output_type": "stream",
     "text": [
      "--2025-07-12 20:56:20--  https://github.com/hetio/hetionet/raw/master/hetnet/tsv/hetionet-v1.0-nodes.tsv\n",
      "Resolving github.com (github.com)... 140.82.116.4\n",
      "Connecting to github.com (github.com)|140.82.116.4|:443... connected.\n",
      "HTTP request sent, awaiting response... 302 Found\n",
      "Location: https://raw.githubusercontent.com/hetio/hetionet/master/hetnet/tsv/hetionet-v1.0-nodes.tsv [following]\n",
      "--2025-07-12 20:56:20--  https://raw.githubusercontent.com/hetio/hetionet/master/hetnet/tsv/hetionet-v1.0-nodes.tsv\n",
      "Resolving raw.githubusercontent.com (raw.githubusercontent.com)... 185.199.109.133, 185.199.108.133, 185.199.110.133, ...\n",
      "Connecting to raw.githubusercontent.com (raw.githubusercontent.com)|185.199.109.133|:443... connected.\n",
      "HTTP request sent, awaiting response... 200 OK\n",
      "Length: 2509984 (2.4M) [text/plain]\n",
      "Saving to: ‘hetionet-nodes.tsv’\n",
      "\n",
      "hetionet-nodes.tsv  100%[===================>]   2.39M  --.-KB/s    in 0.05s   \n",
      "\n",
      "2025-07-12 20:56:20 (45.2 MB/s) - ‘hetionet-nodes.tsv’ saved [2509984/2509984]\n",
      "\n",
      "--2025-07-12 20:56:20--  https://github.com/hetio/hetionet/raw/master/hetnet/tsv/hetionet-v1.0-edges.sif.gz\n",
      "Resolving github.com (github.com)... 140.82.116.4\n",
      "Connecting to github.com (github.com)|140.82.116.4|:443... connected.\n",
      "HTTP request sent, awaiting response... 302 Found\n",
      "Location: https://media.githubusercontent.com/media/hetio/hetionet/master/hetnet/tsv/hetionet-v1.0-edges.sif.gz [following]\n",
      "--2025-07-12 20:56:21--  https://media.githubusercontent.com/media/hetio/hetionet/master/hetnet/tsv/hetionet-v1.0-edges.sif.gz\n",
      "Resolving media.githubusercontent.com (media.githubusercontent.com)... 185.199.111.133, 185.199.109.133, 185.199.108.133, ...\n",
      "Connecting to media.githubusercontent.com (media.githubusercontent.com)|185.199.111.133|:443... connected.\n",
      "HTTP request sent, awaiting response... 200 OK\n",
      "Length: 12401407 (12M) [application/octet-stream]\n",
      "Saving to: ‘hetionet-edges.sif.gz’\n",
      "\n",
      "hetionet-edges.sif. 100%[===================>]  11.83M  --.-KB/s    in 0.08s   \n",
      "\n",
      "2025-07-12 20:56:21 (141 MB/s) - ‘hetionet-edges.sif.gz’ saved [12401407/12401407]\n",
      "\n"
     ]
    }
   ],
   "source": [
    "# Remove corrupted/existing\n",
    "!rm -f hetionet-nodes.tsv hetionet-edges.sif.gz\n",
    "\n",
    "# Download both from GitHub directly\n",
    "!wget https://github.com/hetio/hetionet/raw/master/hetnet/tsv/hetionet-v1.0-nodes.tsv -O hetionet-nodes.tsv\n",
    "!wget https://github.com/hetio/hetionet/raw/master/hetnet/tsv/hetionet-v1.0-edges.sif.gz -O hetionet-edges.sif.gz\n"
   ]
  },
  {
   "cell_type": "markdown",
   "id": "2be16406",
   "metadata": {
    "id": "PeuhG5vPUdt3"
   },
   "source": [
    "Enriching genes from UniProt"
   ]
  },
  {
   "cell_type": "markdown",
   "id": "50d98e0f",
   "metadata": {
    "id": "B4Xr40OpU2Pn"
   },
   "source": [
    "Enriching diseases with MeSH/OMIM using BioPortal"
   ]
  },
  {
   "cell_type": "code",
   "execution_count": null,
   "id": "036647c4",
   "metadata": {
    "id": "98w_hgRLWGJK"
   },
   "outputs": [],
   "source": [
    "api key: \"41a17e7d-a975-4fc3-a0c7-f6a1915ea89a\""
   ]
  },
  {
   "cell_type": "code",
   "execution_count": null,
   "id": "1fed892c",
   "metadata": {
    "id": "2iAWh8jZWWnq"
   },
   "outputs": [],
   "source": [
    "api key: \"41a17e7d-a975-4fc3-a0c7-f6a1915ea89a\"\n"
   ]
  },
  {
   "cell_type": "code",
   "execution_count": null,
   "id": "e0b48075",
   "metadata": {
    "id": "hWLc4W_wMj6k"
   },
   "outputs": [],
   "source": []
  },
  {
   "cell_type": "code",
   "execution_count": 31,
   "id": "583f8908",
   "metadata": {
    "id": "WXA2BbaXNd4e"
   },
   "outputs": [],
   "source": [
    "def make_ensembl_query(ensembl_id):\n",
    "    return gql(f\"\"\"\n",
    "    query {{\n",
    "      target(ensemblId: \"{ensembl_id}\") {{\n",
    "        approvedSymbol\n",
    "        associatedDiseases(page: {{ index: 0, size: 10 }}) {{\n",
    "          rows {{\n",
    "            disease {{ id name }}\n",
    "            score\n",
    "          }}\n",
    "        }}\n",
    "      }}\n",
    "    }}\n",
    "    \"\"\")\n",
    "\n"
   ]
  },
  {
   "cell_type": "code",
   "execution_count": null,
   "id": "4ac5436a",
   "metadata": {
    "id": "tfVsQP9TOITH"
   },
   "outputs": [],
   "source": []
  },
  {
   "cell_type": "code",
   "execution_count": null,
   "id": "1480a8eb",
   "metadata": {
    "id": "Et6HWMXzOIPu"
   },
   "outputs": [],
   "source": []
  },
  {
   "cell_type": "code",
   "execution_count": null,
   "id": "e6480d7c",
   "metadata": {
    "id": "WSxIkb8JOi1d"
   },
   "outputs": [],
   "source": []
  }
 ],
 "metadata": {},
 "nbformat": 4,
 "nbformat_minor": 5
}
